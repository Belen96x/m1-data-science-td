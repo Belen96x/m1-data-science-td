{
 "cells": [
  {
   "cell_type": "markdown",
   "metadata": {},
   "source": [
    "# Exercise sheet \\#5\n",
    "## Using MongoDB\n",
    "### Exercise 1\n",
    "For this exercise, you will work with the Paris Tourist Information dataset (see zip file on ARCHE).\n",
    "This dataset contains pieces of information about seightseeing tours in Paris. These pieces are used to describes venues belonging to the following types:\n",
    "- points of interests (POI)\n",
    "- restaurants\n",
    "- attractions\n",
    "- accomodations\n",
    "\n",
    "Here is an example of a document:\n",
    "<pre>\n",
    "{\n",
    "   \"_id\" : 83292,\n",
    "   \"contact\" : {\n",
    "      \"website\" : \"http://www.trocaderolatour.com\",\n",
    "      \"GooglePlaces\" : \"https://plus.google.com/107754700607079935569/about?hl=en-US\"\n",
    "   },\n",
    "   \"name\" : \"Best Western Premier Trocadero La Tour\",\n",
    "   \"location\" : {\n",
    "      \"city\" : \"Paris\",\n",
    "      \"coord\" : {\"coordinates\" : [2.2795155644417,48.858311118724],\"type\" : \"Point\"},\n",
    "      \"address\" : \"Paris,   France    5 bis, rue Massenet, 16. Trocadéro - Passy, 75016 Paris\"\n",
    "   },\n",
    "   \"category\" : \"accommodation\",\n",
    "   \"description\" : \" Situé à 15 minutes à pied de la tour Eiffel, le Best Western Premier Trocadero La Tour bénéficie d'un emplacement idéal pour découvrir Paris. Il abrite un bar lambrissé doté de fauteuils en cuir et un patio.\",\n",
    "   \"services\" : [\n",
    "      \"jardin\",\n",
    "      \"terrasse\",\n",
    "      \"journaux\",\n",
    "      \"bar\",\n",
    "      \"petit-déjeuner en chambre\",\n",
    "      \"réception ouverte 24h 24\",\n",
    "      \"enregistrement et règlement rapides\",\n",
    "      \"bagagerie\",\n",
    "      \"service d'étage\",\n",
    "      \"salles de réunions banquets\",\n",
    "      \"centre d'affaires\",\n",
    "      \"garde d'enfants\",\n",
    "      \"blanchisserie\",\n",
    "      \"chambres non-fumeurs\"\n",
    "   ],\n",
    "   \"reviews\" : [\n",
    "      {\n",
    "          \"wordsCount\" : 30,\n",
    "          \"rating\" : 0,\n",
    "          \"language\" : \"en\",\n",
    "          \"source\" : \"Foursquare\",\n",
    "          \"text\" : \"Nice beds, rooms andstaff. Perfect central location. Breakfast is very expensive for a contenintal breakfast, however many bakeries and restaurants in the area. Will stay here again my next visit.\",\n",
    "          \"time\" : \"2010-09-30\"\n",
    "      }\n",
    "   ]\n",
    "}\n",
    "</pre>\n",
    "\n",
    "#### Question 1.1 - Setting up the database\n",
    "- Install a local MongoDB server on your machine, along with a [Robo3T](https://robomongo.org/) MongoDB client.\n",
    "- Create a database named \"tourPedia\" containing a collection named \"paris\".\n",
    "- Import the content of the `tour-Pedia_paris.json` file into that collection.\n",
    "\n",
    "NB: For questions 1.2 to 1.5, please use the [Robo3T](https://robomongo.org/) graphical MongoDB client to design and check your queries.\n"
   ]
  },
  {
   "cell_type": "raw",
   "metadata": {},
   "source": [
    "#With the command 'show dbs' in mongosh you can see that the Database is already created:\n",
    "'''\n",
    "admin       40.00 KiB\n",
    "config      72.00 KiB\n",
    "local       72.00 KiB\n",
    "school      48.00 KiB\n",
    "tourPedia  596.00 KiB\n",
    "\n",
    "'''"
   ]
  },
  {
   "cell_type": "markdown",
   "metadata": {},
   "source": [
    "#### Question 1.2 - Filtering and projecting data\n",
    "- Filter out venues whose type is \"accomodation\" and service \"blanchisserie\" (laundry).\n",
    "- Project addresses of venues whose type is accomodation."
   ]
  },
  {
   "cell_type": "raw",
   "metadata": {},
   "source": []
  },
  {
   "cell_type": "markdown",
   "metadata": {},
   "source": [
    "#### Question 1.3 - Constrained filtering\n",
    "- Filter out lists of reviews about venues for which there is at least one English review whose score is greater than 3."
   ]
  },
  {
   "cell_type": "raw",
   "metadata": {},
   "source": [
    "db.paris.find ({\"reviews\" : {$elemMatch : {\"language\":\"en\", \"rating\" : {$gt : 3}}}})"
   ]
  },
  {
   "cell_type": "markdown",
   "metadata": {},
   "source": [
    "#### Question 1.4 - Grouping data\n",
    "- Group venues by type and count them."
   ]
  },
  {
   "cell_type": "raw",
   "metadata": {},
   "source": [
    "db.paris.aggregate( [ {$group : {_id:\"$category\", \"tot\":{$sum:1}} } ] )"
   ]
  },
  {
   "cell_type": "markdown",
   "metadata": {},
   "source": [
    "#### Question 1.5 - Aggregating data\n",
    "- For venues of type \"accomodation\", give the number of venues per \"service\"."
   ]
  },
  {
   "cell_type": "raw",
   "metadata": {},
   "source": [
    "db.paris.aggregate ([   \n",
    "    {$match :  {\"category\" : \"accommodation\"} },\n",
    "    {$unwind : \"$services\" },\n",
    "    {$group : {_id:\"$services\", \"tot\":{$sum:1}} }\n",
    "]);"
   ]
  },
  {
   "cell_type": "markdown",
   "metadata": {},
   "source": [
    "### Exercise 2\n",
    "For this exercise, we will reuse the data from Exercise 1.\n",
    "\n",
    "In the following questions (which are similar to Exercise 1), you are required to use [pymongo](https://api.mongodb.com/python/current/api/pymongo/index.html).\n",
    "\n",
    "#### Question 2.1 - Filtering and projecting data\n",
    "- Filter out venues whose type is \"accomodation\" and service \"blanchisserie\" (laundry).\n",
    "- Project addresses of venues whose type is accomodation.\n",
    "\n",
    "Compare your results with those of question 1.2 above."
   ]
  },
  {
   "cell_type": "code",
   "execution_count": 4,
   "metadata": {},
   "outputs": [
    {
     "name": "stdout",
     "output_type": "stream",
     "text": [
      "[{'_id': 83265, 'contact': {'website': 'http://www.ares-paris-hotel.com', 'GooglePlaces': 'https://plus.google.com/117469042429892205022/about?hl=en-US', 'Foursquare': 'https://foursquare.com/v/h%C3%B4tel-ar%C3%A8s-tour-eiffel/4adcd9fff964a5208f3021e3'}, 'name': 'Arès Tour Eiffel', 'location': {'city': 'Paris', 'coord': {'coordinates': [2.2981756925583, 48.850407339623], 'type': 'Point'}, 'address': 'Paris,   France    7 rue du Général de Larminat, 15. Eiffel Tower - Porte de Versailles, 75015 Paris'}, 'category': 'accommodation', 'description': \" L'Hotel Arès Tour Eiffel est un hôtel de caractère 4 étoiles situé à 10 minutes à pied de la Tour Eiffel. Il propose des chambres climatisées avec connexion Wi-Fi gratuite. Vous pourrez accéder gratuitement au centre de remise en forme et de bien-être situé à 50 mètres de l'hôtel. Les chambres de l'hôtel Arès Tour Eiffel sont décorées avec un mélange de styles baroque et contemporain. Chaque chambre est équipée d'une télévision à écran plat avec chaînes satellite, d'un minibar et d'un bureau. Chaque salle de bains moderne dispose d'un carrelage Versace et d'articles de toilette Hermès. Vous pourrez profiter d'un petit-déjeuner buffet dans la salle de petit-déjeuner de l'hôtel ou dans le confort de votre chambre. Un service d'étage est proposé pour les collations et les autres repas. La réception de l'Arès, ouverte 24h 24, propose un service de réservation de spectacles, de restaurants et d'excursions. L'hôtel abrite également des services de nettoyage à sec et de bagagerie. La station de métro La Motte-Picquet-Grenelle est située à 260 mètres et dessert directement l'opéra Garnier et les Galeries Lafayette. Le marché des antiquaires Village Suisse se trouve à 1 minute et le musée Rodin est à 20 minutes de marche de l'hôtel.    \", 'services': ['journaux', 'centre de remise en forme', 'petit-déjeuner en chambre', 'réception ouverte 24h 24', 'bagagerie', \"service d'étage\", 'navette aéroport', \"garde d'enfants\", 'blanchisserie', 'nettoyage à sec', 'service de repassage', \"bureau d'excursions\", 'fax photocopies', 'billetterie', 'chambres non-fumeurs', 'chambres familiales', 'ascenseur', 'coffre-fort', 'chauffage', 'hôtel design', 'Toutes les parties communes et privées sont non-fumeurs', 'climatisation'], 'reviews': [{'wordsCount': 10, 'rating': 0, 'language': 'en', 'details': 'http://tour-pedia.org/api/getReviewDetails?id=52a74a7bae9eef5a50670e51', 'source': 'Foursquare', 'text': 'lovely hotel. super clean, quiet, and close to the metro!', 'time': '2009-12-03', 'polarity': 10}, {'wordsCount': 21, 'rating': 0, 'language': 'en', 'details': 'http://tour-pedia.org/api/getReviewDetails?id=52a74a7bae9eef5a50670e52', 'source': 'Foursquare', 'text': 'If you get a room on a high floor, you might be able to see the tip of the Tour Eiffel!', 'time': '2010-05-10', 'polarity': 0}, {'wordsCount': 11, 'rating': 0, 'language': 'en', 'details': 'http://tour-pedia.org/api/getReviewDetails?id=52a74a7bae9eef5a50670e53', 'source': 'Foursquare', 'text': 'Love it here! Charming, quiet, wonderful staff and close to everything!', 'time': '2011-05-29', 'polarity': 10}, {'wordsCount': 32, 'rating': 0, 'language': 'en', 'details': 'http://tour-pedia.org/api/getReviewDetails?id=52a74a7bae9eef5a50670e54', 'source': 'Foursquare', 'text': 'Big fan of this hotel, lovely spot, near la tour eiffel and lots of nice eateries near by, night staff was a little grumpy but marathon running receptionist was fabulous! Highly recommend!', 'time': '2011-06-04', 'polarity': 10}, {'wordsCount': 26, 'rating': 0, 'language': 'en', 'details': 'http://tour-pedia.org/api/getReviewDetails?id=52a74a7bae9eef5a50670e55', 'source': 'Foursquare', 'text': 'Perfect location - by metro station, an easy walk to Eiffel Tower or the river and wonderful neighborhood cafes and market. Even has a pharmacy nearby!', 'time': '2011-07-31', 'polarity': 10}, {'wordsCount': 17, 'rating': 0, 'language': 'en', 'details': 'http://tour-pedia.org/api/getReviewDetails?id=52a74a7bae9eef5a50670e56', 'source': 'Foursquare', 'text': 'Just so you know the Guu who look like a Taxidriver is the owner of the Hotel', 'time': '2012-05-20', 'polarity': 5}, {'wordsCount': 17, 'rating': 0, 'language': 'en', 'details': 'http://tour-pedia.org/api/getReviewDetails?id=52a74a7bae9eef5a50670e57', 'source': 'Foursquare', 'text': 'Just so you know the Guy who look like a Taxidriver is the owner of the Hotel', 'time': '2012-05-20', 'polarity': 5}, {'wordsCount': 7, 'rating': 0, 'language': 'en', 'details': 'http://tour-pedia.org/api/getReviewDetails?id=52a74a7bae9eef5a50670e58', 'source': 'Foursquare', 'text': 'The rooms are small, but very elegant.', 'time': '2012-06-30', 'polarity': 5}, {'wordsCount': 2, 'rating': 0, 'language': 'en', 'details': 'http://tour-pedia.org/api/getReviewDetails?id=52a74a7bae9eef5a50670e59', 'source': 'Foursquare', 'text': 'Great hotel!', 'time': '2012-07-10', 'polarity': 10}, {'wordsCount': 9, 'rating': 0, 'language': 'en', 'details': 'http://tour-pedia.org/api/getReviewDetails?id=52a74a7bae9eef5a50670e5a', 'source': 'Foursquare', 'text': 'Fantastic hotel. Great location and friendly people. Highly recommended.', 'time': '2013-03-26', 'polarity': 10}, {'wordsCount': 6, 'rating': 0, 'language': 'en', 'details': 'http://tour-pedia.org/api/getReviewDetails?id=52a74a7bae9eef5a50670e5b', 'source': 'Foursquare', 'text': 'Beautiful hotel, easy to move around', 'time': '2013-04-09', 'polarity': 10}, {'wordsCount': 20, 'rating': 0, 'language': 'en', 'details': 'http://tour-pedia.org/api/getReviewDetails?id=52a74a7bae9eef5a50670e5c', 'source': 'Foursquare', 'text': 'Great location.  Very helpful staff.  Rooms are a bit small but clean and comfortable. We would definitely stay here again.', 'time': '2013-05-01', 'polarity': 5}, {'wordsCount': 20, 'rating': 0, 'language': 'en', 'details': 'http://tour-pedia.org/api/getReviewDetails?id=52a74a7bae9eef5a50670e5d', 'source': 'Foursquare', 'text': \"18 euro for breakfast?  That's nuts.  Though I did pay 5 euro for a cup of coffee this morning at Le Piquet..\", 'time': '2013-06-24', 'polarity': 5}, {'wordsCount': 36, 'rating': 0, 'language': 'en', 'details': 'http://tour-pedia.org/api/getReviewDetails?id=52a74a7bae9eef5a50670e5e', 'source': 'Foursquare', 'text': \"The front desk staff is the friendliest of anywhere I've ever stayed!  Great patience and willing to help with travel plans, how to navigate the metro.  they even left us a special treat in our room.\", 'time': '2013-06-26', 'polarity': 10}, {'wordsCount': 19, 'rating': 0, 'language': 'en', 'details': 'http://tour-pedia.org/api/getReviewDetails?id=52a74a7bae9eef5a50670e5f', 'source': 'Foursquare', 'text': \"The night desk attendant is just ok. That's the only criticism I have of this gem of a hotel!\", 'time': '2013-06-30', 'polarity': 8}, {'wordsCount': 12, 'rating': 0, 'language': 'en', 'details': 'http://tour-pedia.org/api/getReviewDetails?id=52a74a7bae9eef5a50670e60', 'source': 'Foursquare', 'text': 'Beautiful hotel and the people are very friendly! Can only recommend it!!', 'time': '2013-08-14', 'polarity': 10}, {'wordsCount': 66, 'rating': 5, 'language': 'en', 'details': 'http://tour-pedia.org/api/getReviewDetails?id=533ecc86ae9eef521e5f23e8', 'source': 'GooglePlaces', 'text': 'Brilliant location 2 minuets from the metro and 10 minuets from the Eiffel Tower. The staff are brilliant and friendly George is as welcoming on the first day as the last and with excellent local knowledge of the local restaurants. The hotel is just off the main strip so very close without being too close. I would love to return and I&#39;m sure I will soon :-)', 'time': '2013-09-10', 'polarity': 10}, {'wordsCount': 29, 'rating': 5, 'language': 'en', 'details': 'http://tour-pedia.org/api/getReviewDetails?id=533ecc86ae9eef521e5f23e9', 'source': 'GooglePlaces', 'text': 'Room was very nice and staff was great. Would return. The Wed &amp; Sun market under the tramway is a must see. Close to the tower and tram/subway.', 'time': '2013-08-12', 'polarity': 10}, {'wordsCount': 272, 'rating': 3, 'language': 'en', 'details': 'http://tour-pedia.org/api/getReviewDetails?id=533ecc86ae9eef521e5f23ea', 'source': 'GooglePlaces', 'text': 'READ THIS BEFORE GIVING YOUR MONEY TO THIS COMPANY MY MOTHER&#39;S ORIGINAL EMAIL To whom it may concern: We have booked a room in your hotel from June 28 through July 2, 2013. Originally it was planned that my two daughters and I would be taking our trip to Paris and stay at your hotel for those four nights. Unfortunately I received a very devasting diagnosis this week. I have have ovarian cancer, and the cancer has returned in full force. I was just given a three month prognosis. I know that we have a nonrefundable room, but under these extenuating circumstances we are hoping you will reconsider and allow us the funds back and release the room as we will not be able to make this trip. I would be happy to provide any medical records you might need to proove this. I just saw my doctor at the University of Colorado Hospital in Denver, Colorado on Tuesday, so I can release to you his prognosis if you would like me to. Please let me know how I might proceed with you in this situation. Thank you so very much for your kindness and consideration. Our reservation was for a deluxe room for three persons. June 28-July 2. You may reach me on my cell phone at &quot;removed&quot; or at this email at any time. My credit card number should be on your file, but I would be happy to provide it again. Thank you again. Susan M*** RESPONSE from Hotel Ares Eiffel: Bonjour We are really sorry about but you book a non refundable room thank you and best regards isabelle', 'time': '2013-03-13', 'polarity': 9}, {'wordsCount': 23, 'rating': 5, 'language': 'en', 'details': 'http://tour-pedia.org/api/getReviewDetails?id=533ecc86ae9eef521e5f23eb', 'source': 'GooglePlaces', 'text': 'Stopped for the weekend, very good facilities and friendly hotel staff, if i ever went to Paris again would definetly stay here again.', 'time': '2013-04-16', 'polarity': 10}, {'wordsCount': 45, 'rating': 5, 'language': 'en', 'details': 'http://tour-pedia.org/api/getReviewDetails?id=533ecc86ae9eef521e5f23ec', 'source': 'GooglePlaces', 'text': 'This is a gem of a hotel. Very helpful staff, before and during our stay. Walking distance to Eiffel Tower. Location in a nice, upmarket district. Very contemporary decor and clean room with nice accessories and high spec TV, bathroom furnishings etc. Would visit again.', 'time': '2011-11-19', 'polarity': 9}], 'likes': {}, 'nbReviews': 21}, {'_id': 83266, 'contact': {'website': 'http://www.hotel-ampere-paris.com', 'GooglePlaces': 'https://plus.google.com/107515270317135361321/about?hl=en-US', 'Foursquare': 'https://foursquare.com/v/hotel-amp%C3%A8re/4adcd9fff964a520903021e3'}, 'name': 'Ampère', 'location': {'city': 'Paris', 'coord': {'coordinates': [2.2996515780687, 48.884751511163], 'type': 'Point'}, 'address': 'Paris,   France    102 Avenue de Villiers, 17. Palais des Congrès - Batignolles, 75017 Paris'}, 'category': 'accommodation', 'description': \" Situé à 100 mètres de la station de métro Pereire, cet hôtel possède un élégant jardin intérieur et des chambres modernes avec connexion Wi-Fi gratuite. L’Arc de Triomphe et les Champs-Élysées se trouvent à 1,5 km. Chaque chambre climatisée et insonorisée dispose de grandes fenêtres à double vitrage et d'une télévision par satellite à écran plat. Chaque salle de bains privative est pourvue d'un peignoir et de chaussons. Le Jardin d'Ampère sert un petit-déjeuner buffet dans le restaurant ou sur la terrasse. Vous pourrez également prendre un verre dans le bar élégant bordé par le jardin intérieur. L'Ampère dispose d'un parking privé et d'une réception ouverte 24h 24. Le parc Monceau se situe à 1,5 km, et un certain nombre de restaurants et de cafés se trouvent dans les environs immédiats de l'hôtel.    \", 'services': ['jardin', 'journaux', 'bar', 'petit-déjeuner en chambre', 'réception ouverte 24h 24', 'bagagerie', 'blanchisserie', 'service de change', 'fax photocopies', 'chambres non-fumeurs', 'accessible aux personnes à mobilité réduite', 'chambres familiales', 'ascenseur', 'coffre-fort', 'chambres insonorisées', 'Toutes les parties communes et privées sont non-fumeurs', 'climatisation'], 'reviews': [{'wordsCount': 12, 'rating': 0, 'language': 'fr', 'details': 'http://tour-pedia.org/api/getReviewDetails?id=52a74a7bae9eef5a50670e62', 'source': 'Foursquare', 'text': 'Yannick Tessier est la Chef en cuisine, faites vous connaitre et surprise !', 'time': '2011-05-03', 'polarity': 5}, {'wordsCount': 6, 'rating': 0, 'language': 'fr', 'details': 'http://tour-pedia.org/api/getReviewDetails?id=52a74a7bae9eef5a50670e63', 'source': 'Foursquare', 'text': 'Le petit déjeuner est magistral !', 'time': '2011-09-08', 'polarity': 5}, {'wordsCount': 4, 'rating': 0, 'language': False, 'details': 'http://tour-pedia.org/api/getReviewDetails?id=52a74a7bae9eef5a50670e64', 'source': 'Foursquare', 'text': 'http://www.hotel-ampere-paris.com/', 'time': '2011-09-27', 'polarity': 0}, {'wordsCount': 0, 'rating': 0, 'language': 'ru', 'details': 'http://tour-pedia.org/api/getReviewDetails?id=52a74a7bae9eef5a50670e65', 'source': 'Foursquare', 'text': '??????? ?? ??????, ?? ?????? ??????????, ????? ???????????? ????!', 'time': '2012-05-05', 'polarity': 0}, {'wordsCount': 12, 'rating': 0, 'language': 'en', 'details': 'http://tour-pedia.org/api/getReviewDetails?id=52a74a7bae9eef5a50670e66', 'source': 'Foursquare', 'text': 'The breakfast is taste, but always similar, orange \"fresh\" is good option!', 'time': '2012-05-05', 'polarity': 5}, {'wordsCount': 0, 'rating': 0, 'language': 'ru', 'details': 'http://tour-pedia.org/api/getReviewDetails?id=52a74a7bae9eef5a50670e67', 'source': 'Foursquare', 'text': '????? ? ?????? ?? ???? ????????? ??? ?????????? ???', 'time': '2012-05-08', 'polarity': 0}, {'wordsCount': 38, 'rating': 0, 'language': 'en', 'details': 'http://tour-pedia.org/api/getReviewDetails?id=52a74a7bae9eef5a50670e68', 'source': 'Foursquare', 'text': 'The employees at this hotel are the worst of Paris. These are the guys that make visitors think Paris is full of rude people. Luckily I know better. Paris is great. This hotel just has the bad guys.', 'time': '2012-06-26', 'polarity': 2}, {'wordsCount': 35, 'rating': 0, 'language': 'en', 'details': 'http://tour-pedia.org/api/getReviewDetails?id=52a74a7bae9eef5a50670e69', 'source': 'Foursquare', 'text': 'Sir,We are sorry if you had an inconvenient experience in our hotel. We never had this kind of feedback, we will do an investigation at reception of your name & date of arrival. RegardsHotel Ampere', 'time': '2012-07-02', 'polarity': 0}, {'wordsCount': 9, 'rating': 0, 'language': 'en', 'details': 'http://tour-pedia.org/api/getReviewDetails?id=52a74a7bae9eef5a50670e6a', 'source': 'Foursquare', 'text': 'Very good hotel! Nice room, good breakfast! Perfect location!', 'time': '2012-07-21', 'polarity': 10}, {'wordsCount': 1, 'rating': 0, 'language': 'ru', 'details': 'http://tour-pedia.org/api/getReviewDetails?id=52a74a7bae9eef5a50670e6b', 'source': 'Foursquare', 'text': '?? ?????????? ????? wi-fi', 'time': '2012-12-15', 'polarity': 0}, {'wordsCount': 4, 'rating': 0, 'language': 'en', 'details': 'http://tour-pedia.org/api/getReviewDetails?id=52a74a7bae9eef5a50670e6c', 'source': 'Foursquare', 'text': 'Great place small rooms :(', 'time': '2013-04-26', 'polarity': 0}, {'wordsCount': 4, 'rating': 0, 'language': 'pt', 'details': 'http://tour-pedia.org/api/getReviewDetails?id=52a74a7bae9eef5a50670e6d', 'source': 'Foursquare', 'text': 'Hotel bem novinho, ótimo!!!', 'time': '2013-04-28', 'polarity': 0}], 'likes': {}, 'nbReviews': 12}, {'_id': 83270, 'contact': {'GooglePlaces': 'https://plus.google.com/113677497109540454906/about?hl=en-US', 'Foursquare': 'https://foursquare.com/v/h%C3%B4tel-bourgogne-et-montana/4adcd9fff964a520ab3021e3'}, 'name': 'Hôtel Bourgogne & Montana', 'location': {'city': 'Paris', 'coord': {'coordinates': [2.3183199762752, 48.860236454339], 'type': 'Point'}, 'address': 'Paris,   France    3 rue de Bourgogne, 07. Invalides - Eiffel Tower, 75007 Paris'}, 'category': 'accommodation', 'description': \" Situé sur une place paisible en face de l'Assemblée nationale, l'Hôtel Bourgogne & Montana est une ancienne maison de maître du XVIIIe siècle proposant des chambres et des suites de luxe avec connexion Wi-Fi gratuite. Il se trouve à 10 minutes à pied de la place de la Concorde et du Jardin des Tuileries. Les chambres et suites de l'Hôtel Bourgogne & Montana sont pourvues d'une télévision par satellite à écran LCD. Elles disposent toutes gratuitement de peignoirs et de chaussons. Certaines sont dotées d'un mobilier d'époque. Un petit-déjeuner buffet est servi dans la salle lumineuse prévue à cet effet, où vous pourrez lire le journal fourni par la réception, ouverte 24h 24. Le bar du Montana propose également un choix de vins millésimés dans les salons de l'hôtel. Le personnel du Bourgogne & Montana pourra réserver vos billets et vous renseigner sur les attractions de la capitale. La station de RER Invalides se trouve à 10 minutes à pied et mène directement à la Tour Eiffel et à la cathédrale Notre-Dame.    \", 'services': ['journaux', 'bar', 'petit-déjeuner en chambre', 'réception ouverte 24h 24', 'enregistrement et règlement rapides', 'bagagerie', \"service d'étage\", 'blanchisserie', 'nettoyage à sec', 'service de repassage', 'suite nuptiale', 'fax photocopies', 'billetterie', 'chambres non-fumeurs', 'ascenseur', 'coffre-fort', 'chauffage', 'Toutes les parties communes et privées sont non-fumeurs', 'climatisation'], 'reviews': [{'wordsCount': 34, 'rating': 0, 'language': 'fr', 'details': 'http://tour-pedia.org/api/getReviewDetails?id=52a74a7bae9eef5a50670e78', 'source': 'Foursquare', 'text': \"Vente FLASH à -40% sur le site officiel de l'Hôtel Bourgogne & Montana pour des séjours entre le 15/07 et le 31/08. Offre valable uniquement en réservant via le site Internet entre le 16 et le 21/06\", 'time': '2010-06-18', 'polarity': 10}, {'wordsCount': 6, 'rating': 0, 'language': 'en', 'details': 'http://tour-pedia.org/api/getReviewDetails?id=52a74a7bae9eef5a50670e79', 'source': 'Foursquare', 'text': 'The 150 anniversary of the 7th district !', 'time': '2010-10-19', 'polarity': 5}, {'wordsCount': 23, 'rating': 0, 'language': 'fr', 'details': 'http://tour-pedia.org/api/getReviewDetails?id=52a74a7bae9eef5a50670e7a', 'source': 'Foursquare', 'text': 'Vous aux Galeries Lafayette, sacs de shopping en main ? Vous ne rêvez pas, vous êtes au Bourgogne &http://bit.ly/bupXpR Montana !', 'time': '2010-12-15', 'polarity': 5}, {'wordsCount': 29, 'rating': 0, 'language': 'fr', 'details': 'http://tour-pedia.org/api/getReviewDetails?id=52a74a7bae9eef5a50670e7b', 'source': 'Foursquare', 'text': 'Découvrez le forfait \"Paradis Romantique\" du Bourgogne&Montana ! Profitez tranquillement de la chambre double classique, des petits-déjeuners buffet offerts, d\\'un accueil au champagne en chambre le jo', 'time': '2011-01-19', 'polarity': 5}, {'wordsCount': 19, 'rating': 0, 'language': 'en', 'details': 'http://tour-pedia.org/api/getReviewDetails?id=52a74a7bae9eef5a50670e7c', 'source': 'Foursquare', 'text': \"Stay in this nice hotel and walk to the the musee d'orsay, the eiffel tower, and the champs elysee!\", 'time': '2011-08-21', 'polarity': 10}, {'wordsCount': 17, 'rating': 0, 'language': 'en', 'details': 'http://tour-pedia.org/api/getReviewDetails?id=52a74a7bae9eef5a50670e7d', 'source': 'Foursquare', 'text': \"If you are 6' or taller, you will feel like a giant in some of the rooms!\", 'time': '2011-08-21', 'polarity': 5}, {'wordsCount': 17, 'rating': 0, 'language': 'fr', 'details': 'http://tour-pedia.org/api/getReviewDetails?id=52a74a7bae9eef5a50670e7e', 'source': 'Foursquare', 'text': \"Résolution pour 2012 : n'allez plus n'importe où ... venez chez nous ! Resolution for 2012: Don't go anywhere ... come home !\", 'time': '2012-01-05', 'polarity': 5}, {'wordsCount': 0, 'rating': 0, 'language': 'ru', 'details': 'http://tour-pedia.org/api/getReviewDetails?id=52a74a7bae9eef5a50670e7f', 'source': 'Foursquare', 'text': '?????? ????? ??? ????????! ??????? ????? ?????????...', 'time': '2013-03-07', 'polarity': 0}], 'likes': {}, 'nbReviews': 8}]\n",
      "[{'_id': 83263, 'location': {'address': '28 Avenue Corentin Cariou'}}, {'_id': 83269, 'location': {'address': '13 Rue des Écoles'}}, {'_id': 83280, 'location': {'address': '40 Avenue de Friedland'}}]\n"
     ]
    }
   ],
   "source": [
    "from pymongo import MongoClient\n",
    "\n",
    "client = MongoClient('mongodb://localhost:27017/')\n",
    "\n",
    "with client:\n",
    "    db = client.tourPedia\n",
    "    venues1 = db.paris.find({ \"category\" : \"accommodation\" , \"services\" : \"blanchisserie\" })\n",
    "    venues2 = db.paris.find({ \"category\" : \"accommodation\" },{\"location.address\" : 1 })\n",
    "    #for v1 in venues1:\n",
    "    #    pprint(v1)\n",
    "    #for v2 in venues2:\n",
    "    #    pprint(v2)\n",
    "    print(list(venues1)[0:3]) #first three values\n",
    "    print(list(venues2)[0:3]) #first three values"
   ]
  },
  {
   "cell_type": "markdown",
   "metadata": {},
   "source": [
    " #### Question 2.2 - Constrained filtering\n",
    "- Filter out lists of reviews about venues for which there is at least one English review whose score is greater than 3.\n",
    "\n",
    "Compare your results with those of question 1.3 above."
   ]
  },
  {
   "cell_type": "code",
   "execution_count": 5,
   "metadata": {},
   "outputs": [
    {
     "name": "stdout",
     "output_type": "stream",
     "text": [
      "4017\n",
      "4017\n"
     ]
    }
   ],
   "source": [
    "client = MongoClient('mongodb://localhost:27017/')\n",
    "with client:\n",
    "    db = client.tourPedia\n",
    "    reviews = db.paris.find({\"reviews\" : {'$elemMatch' : {\"language\":\"en\", \"rating\" : {'$gt' : 3}}}})\n",
    "    nbreviews1 = db.paris.count_documents({\"reviews\" : {'$elemMatch' : {\"language\":\"en\", \"rating\" : {'$gt' : 3}}}})\n",
    "    nbreviews2 = len(list(reviews))\n",
    "    print(nbreviews1)\n",
    "    print(nbreviews2)"
   ]
  },
  {
   "cell_type": "markdown",
   "metadata": {},
   "source": [
    "#### Question 2.3 - Grouping data\n",
    "- Group venues by type and count them.\n",
    "\n",
    "Compare your results with those of question 1.4 above."
   ]
  },
  {
   "cell_type": "code",
   "execution_count": 6,
   "metadata": {},
   "outputs": [
    {
     "name": "stdout",
     "output_type": "stream",
     "text": [
      "{'_id': 'poi', 'total': 26846}\n",
      "{'_id': 'restaurant', 'total': 21823}\n",
      "{'_id': 'attraction', 'total': 4316}\n",
      "{'_id': 'accommodation', 'total': 3376}\n"
     ]
    }
   ],
   "source": [
    "from pprint import pprint\n",
    "\n",
    "client = MongoClient('mongodb://localhost:27017/')\n",
    "with client:\n",
    "    db  = client.tourPedia\n",
    "    agr = [ {'$group' : { '_id' : '$category', 'total' : {'$sum':1}}} ]\n",
    "    val = list(db.paris.aggregate(agr))\n",
    "    for v in val:\n",
    "        pprint(v)"
   ]
  },
  {
   "cell_type": "markdown",
   "metadata": {},
   "source": [
    "#### Question 2.4 - Aggregating data\n",
    "- For venues of type \"accomodation\", give the number of venues per \"service\".\n",
    "\n",
    "Compare your results with those of question 1.5 above."
   ]
  },
  {
   "cell_type": "code",
   "execution_count": 7,
   "metadata": {},
   "outputs": [
    {
     "name": "stdout",
     "output_type": "stream",
     "text": [
      "{'_id': ' suédois', 'total': 9}\n",
      "{'_id': 'club pour enfants', 'total': 1}\n",
      "{'_id': 'turc', 'total': 2}\n",
      "{'_id': 'norvégien', 'total': 3}\n",
      "{'_id': 'service de cireur', 'total': 86}\n",
      "{'_id': 'randonnée à vélo', 'total': 4}\n",
      "{'_id': \"centre d'affaires\", 'total': 197}\n",
      "{'_id': 'chambres anti-allergie disponibles', 'total': 44}\n",
      "{'_id': 'indonésien', 'total': 2}\n",
      "{'_id': \"service d'étage\", 'total': 440}\n",
      "{'_id': 'ukrainien', 'total': 3}\n",
      "{'_id': 'navette aéroport', 'total': 173}\n",
      "{'_id': 'bar', 'total': 568}\n",
      "{'_id': 'service de change', 'total': 133}\n",
      "{'_id': 'slovène', 'total': 1}\n",
      "{'_id': 'bain turc à vapeur', 'total': 43}\n",
      "{'_id': 'équitation', 'total': 1}\n",
      "{'_id': 'snack-bar', 'total': 67}\n",
      "{'_id': 'nettoyage à sec', 'total': 548}\n",
      "{'_id': ' cadeaux', 'total': 38}\n",
      "{'_id': 'fax photocopies', 'total': 945}\n",
      "{'_id': 'piscine intérieure', 'total': 15}\n",
      "{'_id': 'parcours de golf (à moins de 3 km)', 'total': 3}\n",
      "{'_id': 'finnois', 'total': 2}\n",
      "{'_id': 'tchèque', 'total': 3}\n",
      "{'_id': 'blanchisserie', 'total': 616}\n",
      "{'_id': 'allemand', 'total': 239}\n",
      "{'_id': \"boutiques dans l'hôtel\", 'total': 24}\n",
      "{'_id': 'danois', 'total': 2}\n",
      "{'_id': 'anglais', 'total': 748}\n",
      "{'_id': 'bagagerie', 'total': 1103}\n",
      "{'_id': 'service de navette (gratuit)', 'total': 1}\n",
      "{'_id': 'jardin', 'total': 170}\n",
      "{'_id': 'slovaque', 'total': 1}\n",
      "{'_id': 'chambres insonorisées', 'total': 638}\n",
      "{'_id': \"garde d'enfants\", 'total': 186}\n",
      "{'_id': 'billetterie', 'total': 299}\n",
      "{'_id': ' hébreu', 'total': 2}\n",
      "{'_id': ' slovène', 'total': 3}\n",
      "{'_id': 'prêt de vélos', 'total': 1}\n",
      "{'_id': 'accessible aux personnes à mobilité réduite', 'total': 429}\n",
      "{'_id': 'presse à pantalons', 'total': 23}\n",
      "{'_id': ' chinois', 'total': 12}\n",
      "{'_id': 'terrasse', 'total': 241}\n",
      "{'_id': 'français', 'total': 358}\n",
      "{'_id': 'arabe', 'total': 195}\n",
      "{'_id': ' roumain', 'total': 6}\n",
      "{'_id': ' français', 'total': 393}\n",
      "{'_id': 'distributeur automatique de billets sur place', 'total': 8}\n",
      "{'_id': 'hébreu', 'total': 12}\n",
      "{'_id': '', 'total': 28}\n",
      "{'_id': 'location de voitures', 'total': 147}\n",
      "{'_id': 'hongrois', 'total': 1}\n",
      "{'_id': ' serbe', 'total': 4}\n",
      "{'_id': ' russe', 'total': 63}\n",
      "{'_id': 'casiers', 'total': 1}\n",
      "{'_id': 'chapelle', 'total': 5}\n",
      "{'_id': 'ascenseur', 'total': 1280}\n",
      "{'_id': 'restaurant (buffet)', 'total': 6}\n",
      "{'_id': 'service de navette (en supplément)', 'total': 210}\n",
      "{'_id': 'livraison de courses', 'total': 1}\n",
      "{'_id': 'polonais', 'total': 20}\n",
      "{'_id': 'billard', 'total': 3}\n",
      "{'_id': ' anglais', 'total': 2}\n",
      "{'_id': 'aire de jeux pour enfants', 'total': 13}\n",
      "{'_id': ' malais', 'total': 1}\n",
      "{'_id': 'espagnol', 'total': 580}\n",
      "{'_id': 'tennis de table', 'total': 1}\n",
      "{'_id': 'distributeur automatique (collations)', 'total': 56}\n",
      "{'_id': 'journaux', 'total': 891}\n",
      "{'_id': 'centre de remise en forme', 'total': 85}\n",
      "{'_id': 'espace fumeurs', 'total': 63}\n",
      "{'_id': 'chambres familiales', 'total': 655}\n",
      "{'_id': 'discothèque', 'total': 2}\n",
      "{'_id': 'salle de jeux', 'total': 7}\n",
      "{'_id': 'russe', 'total': 22}\n",
      "{'_id': 'salles de réunions banquets', 'total': 264}\n",
      "{'_id': 'portugais', 'total': 38}\n",
      "{'_id': 'service de concierge', 'total': 380}\n",
      "{'_id': 'chauffage', 'total': 1211}\n",
      "{'_id': 'chambres non-fumeurs', 'total': 1313}\n",
      "{'_id': ' portugais', 'total': 57}\n",
      "{'_id': ' turc', 'total': 9}\n",
      "{'_id': 'restaurant', 'total': 106}\n",
      "{'_id': 'petit-déjeuner en chambre', 'total': 782}\n",
      "{'_id': 'menus pour régimes spéciaux (sur demande)', 'total': 17}\n",
      "{'_id': ' thaïlandais', 'total': 1}\n",
      "{'_id': 'randonnée pédestre', 'total': 4}\n",
      "{'_id': \"bureau d'excursions\", 'total': 255}\n",
      "{'_id': 'bain à remous', 'total': 20}\n",
      "{'_id': 'sauna', 'total': 37}\n",
      "{'_id': ' philippin', 'total': 2}\n",
      "{'_id': 'bulgare', 'total': 4}\n",
      "{'_id': 'Toutes les parties communes et privées sont non-fumeurs',\n",
      " 'total': 1053}\n",
      "{'_id': 'coréen', 'total': 2}\n",
      "{'_id': 'terrasse bien exposée', 'total': 20}\n",
      "{'_id': 'enregistrement et règlement rapides', 'total': 472}\n",
      "{'_id': 'italien', 'total': 222}\n",
      "{'_id': 'solarium', 'total': 4}\n",
      "{'_id': 'malais', 'total': 1}\n",
      "{'_id': 'letton', 'total': 1}\n",
      "{'_id': 'enregistrement départ privé', 'total': 24}\n",
      "{'_id': 'hôtel design', 'total': 280}\n",
      "{'_id': ' néerlandais', 'total': 15}\n",
      "{'_id': 'néerlandais', 'total': 16}\n",
      "{'_id': 'massage', 'total': 82}\n",
      "{'_id': 'distributeur automatique (boissons)', 'total': 161}\n",
      "{'_id': 'supérette sur place', 'total': 5}\n",
      "{'_id': 'japonais', 'total': 17}\n",
      "{'_id': \"piscine intérieure (toute l'année)\", 'total': 8}\n",
      "{'_id': 'lituanien', 'total': 1}\n",
      "{'_id': 'coffre-fort', 'total': 1010}\n",
      "{'_id': ' bar', 'total': 1}\n",
      "{'_id': ' slovaque', 'total': 2}\n",
      "{'_id': 'chinois', 'total': 4}\n",
      "{'_id': 'restaurant (à la carte)', 'total': 69}\n",
      "{'_id': 'thaïlandais', 'total': 2}\n",
      "{'_id': 'bibliothèque', 'total': 76}\n",
      "{'_id': 'service de ménage quotidien', 'total': 41}\n",
      "{'_id': 'location de vélos', 'total': 48}\n",
      "{'_id': 'grec', 'total': 4}\n",
      "{'_id': ' salle de télévision', 'total': 14}\n",
      "{'_id': ' ukrainien', 'total': 4}\n",
      "{'_id': 'catalan', 'total': 6}\n",
      "{'_id': 'local à ski', 'total': 1}\n",
      "{'_id': 'estonien', 'total': 1}\n",
      "{'_id': ' croate', 'total': 1}\n",
      "{'_id': 'climatisation', 'total': 777}\n",
      "{'_id': 'croate', 'total': 4}\n",
      "{'_id': 'vietnamien', 'total': 1}\n",
      "{'_id': 'islandais', 'total': 1}\n",
      "{'_id': 'navette aéroport (en supplément)', 'total': 217}\n",
      "{'_id': 'boutique de souvenirs', 'total': 38}\n",
      "{'_id': ' italien', 'total': 145}\n",
      "{'_id': 'roumain', 'total': 10}\n",
      "{'_id': ' espagnol', 'total': 4}\n",
      "{'_id': ' polonais', 'total': 11}\n",
      "{'_id': 'installations pour barbecue', 'total': 2}\n",
      "{'_id': \"équipe d'animation\", 'total': 2}\n",
      "{'_id': 'paniers-repas', 'total': 19}\n",
      "{'_id': 'serbe', 'total': 2}\n",
      "{'_id': ' japonais', 'total': 3}\n",
      "{'_id': 'suite nuptiale', 'total': 54}\n",
      "{'_id': ' DJ', 'total': 2}\n",
      "{'_id': 'salon commun', 'total': 14}\n",
      "{'_id': 'piscine extérieure (de saison)', 'total': 1}\n",
      "{'_id': 'réception ouverte 24h 24', 'total': 1222}\n",
      "{'_id': 'salon de coiffure institut de beauté', 'total': 20}\n",
      "{'_id': 'service de repassage', 'total': 290}\n",
      "{'_id': ' lieu de culte', 'total': 5}\n",
      "{'_id': \"salon d'accueil VIP\", 'total': 28}\n",
      "{'_id': 'spa et centre de bien-être', 'total': 38}\n"
     ]
    }
   ],
   "source": [
    "client = MongoClient('mongodb://localhost:27017/')\n",
    "with client:\n",
    "    db  = client.tourPedia\n",
    "    agr = [ {'$match'  : {'category' : 'accommodation'}},\n",
    "            {'$unwind' : '$services'},\n",
    "            {'$group'  :\n",
    "                { '_id' : '$services', 'total' : {'$sum':1}}} ]\n",
    "    val = list(db.paris.aggregate(agr))\n",
    "    for v in val:\n",
    "        pprint(v)"
   ]
  }
 ],
 "metadata": {
  "kernelspec": {
   "display_name": "Python 3 (ipykernel)",
   "language": "python",
   "name": "python3"
  },
  "language_info": {
   "codemirror_mode": {
    "name": "ipython",
    "version": 3
   },
   "file_extension": ".py",
   "mimetype": "text/x-python",
   "name": "python",
   "nbconvert_exporter": "python",
   "pygments_lexer": "ipython3",
   "version": "3.11.5"
  }
 },
 "nbformat": 4,
 "nbformat_minor": 2
}
