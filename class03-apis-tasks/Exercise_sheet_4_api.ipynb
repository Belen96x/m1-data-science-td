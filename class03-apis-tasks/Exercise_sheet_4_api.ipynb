{
 "cells": [
  {
   "cell_type": "markdown",
   "metadata": {},
   "source": [
    "# Exercise sheet \\#4\n",
    "## Using APIs\n",
    "### Exercise 1\n",
    "Write a Python script which gets the list of astronauts who are currently in Space. To do so, you can use the [astro.json](http://api.open-notify.org/astros.json) OpenNotify API. "
   ]
  },
  {
   "cell_type": "code",
   "execution_count": 20,
   "metadata": {},
   "outputs": [
    {
     "name": "stdout",
     "output_type": "stream",
     "text": [
      "[{'name': 'Jasmin Moghbeli', 'craft': 'ISS'}, {'name': 'Andreas Mogensen', 'craft': 'ISS'}, {'name': 'Satoshi Furukawa', 'craft': 'ISS'}, {'name': 'Konstantin Borisov', 'craft': 'ISS'}, {'name': 'Oleg Kononenko', 'craft': 'ISS'}, {'name': 'Nikolai Chub', 'craft': 'ISS'}, {'name': \"Loral O'Hara\", 'craft': 'ISS'}]\n"
     ]
    }
   ],
   "source": [
    "import requests\n",
    "\n",
    "response = requests.get('http://api.open-notify.org/astros.json')\n",
    "\n",
    "content = response.json()\n",
    "\n",
    "people_space = []\n",
    "\n",
    "for k in content['people']:\n",
    "    people_space.append(k)\n",
    "\n",
    "print(people_space)"
   ]
  },
  {
   "cell_type": "markdown",
   "metadata": {},
   "source": [
    "### Exercise 2\n",
    "\n",
    "#### Question 2.1\n",
    "Write a Python program, which, for each astronaut found in Exercise 1, retrieves  their (English) wikipedia article and extract the article's summary and links."
   ]
  },
  {
   "cell_type": "code",
   "execution_count": 30,
   "metadata": {},
   "outputs": [
    {
     "name": "stdout",
     "output_type": "stream",
     "text": [
      "['Jasmin Moghbeli', 'Andreas Mogensen', 'Satoshi Furukawa', 'Konstantin Borisov', 'Oleg Kononenko', 'Nikolai Chub', \"Loral O'Hara\"]\n",
      "{'Jasmin Moghbeli': {'summary': 'Jasmin Moghbeli (born June 24, 1983) is an American U.S. Marine Corps test pilot and NASA astronaut. She is a graduate of the Massachusetts Institute of Technology, Naval Postgraduate School, and Naval Test Pilot School. Moghbeli was mission commander for SpaceX Crew-7 and flight engineer aboard the International Space Station for Expedition 69/70.\\n\\n', 'links': 'Achievement Medal'}, 'Andreas Mogensen': {'summary': 'Andreas Enevold \"Andy\" Mogensen (born 2 November 1976) is a Danish engineer and ESA astronaut who is best known for being the first Dane to fly in space as part of the European Space Agency\\'s Iriss program. Mogensen has also been involved in a number of other space-related projects throughout his career, including working as a test engineer for ESTEC and as a member of the European Astronaut Corps. In addition to his work with ESA, he has also worked with NASA and other international space agencies. Mogensen returned to space in August 2023 for his second spaceflight to the ISS onboard SpaceX Crew Dragon as the first non-American to serve as a pilot.\\n\\n', 'links': '14th CMAS Underwater Photography World Championship'}, 'Satoshi Furukawa': {'summary': 'Satoshi Furukawa (古川 聡, Furukawa Satoshi, born April 4, 1964) is a Japanese surgeon and JAXA astronaut. Furukawa was assigned to the International Space Station as a flight engineer on long-duration missions Expedition 28/29 (2011) and Expedition 69/70 (2023-2024).', 'links': '14th CMAS Underwater Photography World Championship'}, 'Konstantin Borisov': {'summary': 'Konstantin Sergeyevich Borisov (Russian: Константин Сергеевич Борисов; born 14 August 1984 in Smolensk) is a Russian cosmonaut. He flew on the SpaceX Crew-7 mission that launched on August 26, 2023, serving as flight engineer on Expedition 69/70 to the International Space Station.', 'links': 'Astronaut'}, 'Oleg Kononenko': {'summary': 'Oleg Dmitriyevich Kononenko (Russian: Олег Дмитриевич Кононенко; Turkmen: Oleg Dmitriýewiç Kononenko; born 21 June 1964) is a Russian cosmonaut. He has flown to the International Space Station five times as a flight engineer for Expedition 17 aboard Soyuz TMA-12, as a flight engineer on Expedition 30 and commander of Expedition 31 aboard Soyuz TMA-03M, as a flight engineer on Expedition 44 and Expedition 45 aboard Soyuz TMA-17M, and as commander of Expedition 58 and Expedition 59 aboard Soyuz MS-11 and Expedition 70 and Expedition 71 aboard Soyuz MS-24/MS-25.\\nKononenko accumulated over 924.816 days in orbit during his five (including current one-year flight) long duration flights to ISS, which is the longest time in space of any cosmonaut or astronaut. Gennady Padalka previously held the world record for the most time spent in space at 878 days with Kononenko breaking the record on February 4, 2024 at 07:30:08 UTC.', 'links': 'ABC News'}, 'Nikolai Chub': {'summary': 'Nikolay Aleksandrovich Chub (Russian: Николай Александрович Чуб; born 10 June 1984 in Novocherkassk, RSFSR, USSR, now Russia) is a cosmonaut selected by the Roscosmos space agency in 2012.', 'links': 'Alexander Grebenkin'}, \"Loral O'Hara\": {'summary': \"Loral Ashley O'Hara (born May 3, 1983) is an American engineer and NASA astronaut.\", 'links': 'Alexander Grebenkin'}}\n"
     ]
    }
   ],
   "source": [
    "import wikipedia\n",
    "\n",
    "### Extract the names of the people to then search in the API ###\n",
    "names = [people['name'] for people in people_space]\n",
    "print(names)\n",
    "\n",
    "### Saving JSon info from the API ###\n",
    "astronauts_info = {}\n",
    "\n",
    "### Extracting names, summary and links ###\n",
    "\n",
    "for name in names:\n",
    "    page = wikipedia.page(title=name)\n",
    "    astronauts_info[page.title] = {\n",
    "        'summary' : page.summary,\n",
    "        'links' : page.links[0]\n",
    "\n",
    "    }\n",
    "\n",
    "print(astronauts_info)\n"
   ]
  },
  {
   "cell_type": "markdown",
   "metadata": {},
   "source": [
    "#### Question 2.2\n",
    "Extend your Python program so that it only keeps links that are pointing to wikipedia pages (in any language)."
   ]
  },
  {
   "cell_type": "code",
   "execution_count": 38,
   "metadata": {},
   "outputs": [
    {
     "name": "stdout",
     "output_type": "stream",
     "text": [
      "['Achievement Medal', '14th CMAS Underwater Photography World Championship', '14th CMAS Underwater Photography World Championship', 'Astronaut', 'ABC News', 'Alexander Grebenkin', 'Alexander Grebenkin']\n",
      "['Achievement Medal']\n",
      "['14th CMAS Underwater Photography World Championship']\n",
      "['14th CMAS Underwater Photography World Championship']\n",
      "['Astronaut']\n",
      "['ABC News']\n",
      "['Alexander Grebenkin']\n",
      "['Alexander Grebenkin']\n",
      "['Achievement Medal', '14th CMAS Underwater Photography World Championship', '14th CMAS Underwater Photography World Championship', 'Astronaut', 'ABC News', 'Alexander Grebenkin', 'Alexander Grebenkin']\n"
     ]
    }
   ],
   "source": [
    "### Since I did a JSon file to store them all I have to pass it to a list ###\n",
    "\n",
    "links = []\n",
    "for astronaut, info in astronauts_info.items():\n",
    "    links.append(info['links'])\n",
    "\n",
    "print(links)\n",
    "\n",
    "### This should be done with wptools ###\n",
    "\n",
    "import wptools\n",
    "\n",
    "\n",
    "internal_links = []\n",
    "\n",
    "for alink in links[:10]: #this takes time so we restrict ourselves to the 10 first links\n",
    "    try:\n",
    "        page = wikipedia.search(alink, results=1)\n",
    "        print(page)\n",
    "        internal_links.append(alink)\n",
    "    except wikipedia.exceptions.PageError as e:\n",
    "        print(e.options)       \n",
    "print(internal_links)"
   ]
  },
  {
   "cell_type": "markdown",
   "metadata": {},
   "source": [
    "#### Question 2.3\n",
    "Extend your Python program so that it processes these links as follows:\n",
    " - it retrieves the corresponding article and then extracts its references\n"
   ]
  },
  {
   "cell_type": "code",
   "execution_count": 39,
   "metadata": {},
   "outputs": [
    {
     "name": "stdout",
     "output_type": "stream",
     "text": [
      "['http://www.tioh.hqda.pentagon.mil/Awards/army_achievement.aspx', 'http://edocket.access.gpo.gov/cfr_2008/julqtr/32cfr578.21.htm', 'http://www.tioh.hqda.pentagon.mil/Awards/joint_srv_achievement.aspx', 'https://www.hrc.army.mil/SITE/Active/TAGD/awards/FAQs/Joint_Awards.htm', 'http://www.afpc.af.mil/library/factsheets/factsheet.asp?id=7779', 'https://www.hrc.army.mil/site/Active/TAGD/awards/STATS/Historical_Stats.htm#ERAOIF', 'http://www.afpc.af.mil/library/factsheets/factsheet.asp?id=7778', 'https://awards.navy.mil/awards/webdoc01.nsf/(vwDocsByID)/DL060927142728/$file/1650.1H.pdf', 'https://web.archive.org/web/20110815025347/https://www.hrc.army.mil/site/Active/TAGD/awards/STATS/Historical_Stats.htm#ERAOIF', 'https://www.stripes.com/news/pentagon-implements-c-and-r-awards-devices-removes-v-from-2-awards-1.461526', 'https://web.archive.org/web/20170427120106/http://www.dtic.mil/whs/directives/corres/pdf/134833_dodi_2016.pdf', 'https://www.militarytimes.com/news/your-military/2017/03/30/12-military-awards-now-eligible-for-new-c-and-r-devices-and-2-no-longer-rate-a-v/', 'https://web.archive.org/web/20100918020113/https://awards.navy.mil/awards/webdoc01.nsf/(vwDocsByID)/DL060927142728/$file/1650.1H.pdf', 'https://web.archive.org/web/20110616183900/http://www.afpc.af.mil/library/factsheets/factsheet.asp?id=7779', 'https://web.archive.org/web/20120207172901/http://www.afpc.af.mil/library/factsheets/factsheet.asp?id=7778', 'https://web.archive.org/web/20090210142406/http://navywriter.com/namcam.htm', 'http://www.dtic.mil/whs/directives/corres/pdf/134833_dodi_2016.pdf', 'https://web.archive.org/web/20110303123914/http://www.tioh.hqda.pentagon.mil/Awards/joint_srv_achievement.aspx', 'https://web.archive.org/web/20120121085947/http://www.tioh.hqda.pentagon.mil/Awards/army_achievement.aspx', 'https://web.archive.org/web/20180111110243/http://govdocs.rutgers.edu/mil/army/r600_8_22.pdf', 'http://govdocs.rutgers.edu/mil/army/r600_8_22.pdf', 'https://web.archive.org/web/20180127192422/http://static.e-publishing.af.mil/production/1/af_a1/publication/afi36-2803/afi36-2803.pdf', 'http://static.e-publishing.af.mil/production/1/af_a1/publication/afi36-2803/afi36-2803.pdf', 'https://media.defense.gov/2017/Mar/29/2001723556/-1/-1/0/CIM_1650_25E.PDF', 'https://www.afpc.af.mil/About/Fact-Sheets/Display/Article/421869/air-force-achievement-medal/', 'https://static.e-publishing.af.mil/production/1/af_a1/publication/dafman36-2806/dafman36-2806.pdf', 'http://www.cmas.org/news/spain-and-italy-dominate-in-the-14th-world-championships-on-cuba-in-2013', 'http://www.cubanews.ain.cu/2013/0416Underwater%20Photography.htm', 'http://www.cmas.org/document?sessionId=&fileId=2523&language=1', 'http://www.cmas.org/document?sessionId=&fileId=2625&language=1', 'http://www.wetpixel.com/articles/wetpixel-member-david-barrio-wins-cmas-world-championship', 'http://www.davidbarrio.com/noticias.htm', 'http://www.cmas.org/document?sessionId=&fileId=2622&language=1', 'http://www.cmas.org/document?sessionId=&fileId=2620&language=1', 'http://www.cmas.org/document?sessionId=&fileId=2621&language=1', 'http://www.cmas.org/document?sessionId=&fileId=2624&language=1', 'http://www.cmas.org/document?sessionId=&fileId=2623&language=1', 'http://www.fedas.es/noticias/noticias2013/mundialfotosub2013_david_barrio.htm', 'https://www.youtube.com/watch?v=h_4DUsR8jpc', 'https://web.archive.org/web/20130501033924/http://www.davidbarrio.com/noticias.htm', 'https://web.archive.org/web/20130713081029/http://www.fedas.es/noticias/noticias2013/mundialfotosub2013_david_barrio.htm', 'http://www.cmas.org/news/spain-and-italy-dominate-in-the-14th-world-championships-on-cuba-in-2013', 'http://www.cubanews.ain.cu/2013/0416Underwater%20Photography.htm', 'http://www.cmas.org/document?sessionId=&fileId=2523&language=1', 'http://www.cmas.org/document?sessionId=&fileId=2625&language=1', 'http://www.wetpixel.com/articles/wetpixel-member-david-barrio-wins-cmas-world-championship', 'http://www.davidbarrio.com/noticias.htm', 'http://www.cmas.org/document?sessionId=&fileId=2622&language=1', 'http://www.cmas.org/document?sessionId=&fileId=2620&language=1', 'http://www.cmas.org/document?sessionId=&fileId=2621&language=1', 'http://www.cmas.org/document?sessionId=&fileId=2624&language=1', 'http://www.cmas.org/document?sessionId=&fileId=2623&language=1', 'http://www.fedas.es/noticias/noticias2013/mundialfotosub2013_david_barrio.htm', 'https://www.youtube.com/watch?v=h_4DUsR8jpc', 'https://web.archive.org/web/20130501033924/http://www.davidbarrio.com/noticias.htm', 'https://web.archive.org/web/20130713081029/http://www.fedas.es/noticias/noticias2013/mundialfotosub2013_david_barrio.htm', 'http://radiology.rsna.org/content/234/2/319.abstract', 'http://spaceflight.nasa.gov/outreach/jobsinfo/astronaut101.html', 'http://astronauts.nasa.gov/content/InternationalSpaceAgencies.htm', 'http://www.collectspace.com/sightings/', 'http://www.spacefacts.de/', 'http://astronauts.nasa.gov/content/broch00.htm', 'https://id.ndl.go.jp/auth/ndlna/00574075', 'https://d-nb.info/gnd/4143247-2', 'https://web.archive.org/web/20070208224003/http://space.kursknet.ru/cosmos/english/other/stat_kk.sht', 'https://catalog.archives.gov/id/10637145', 'https://www.wikidata.org/wiki/Q11631#identifiers', 'https://catalogue.bnf.fr/ark:/12148/cb11950047j', 'https://data.bnf.fr/ark:/12148/cb11950047j', 'https://web.archive.org/web/20200118030211/https://spaceflight.nasa.gov/outreach/jobsinfo/astronaut101.html', 'https://web.archive.org/web/20150926092741/http://astronauts.nasa.gov/content/InternationalSpaceAgencies.htm', 'https://web.archive.org/web/20120722120636/http://astronauts.nasa.gov/content/broch00.htm', 'https://web.archive.org/web/20160820191601/http://www.astronautix.com/p/phantomcosmonaut.html', 'https://aleph.nkp.cz/F/?func=find-c&local_base=aut&ccl_term=ica=ph114990&CON_LNG=ENG', 'https://aleph.nkp.cz/F/?func=find-c&local_base=aut&ccl_term=ica=ph1126919&CON_LNG=ENG', 'https://web.archive.org/web/20071025124047/http://spaceflight.nasa.gov/spacenews/factsheets/pdfs/astro.pdf', 'http://spaceflight.nasa.gov/spacenews/factsheets/pdfs/astro.pdf', 'https://web.archive.org/web/20080926175913/http://www.utahstatesman.com/campus_news/1.563784', 'http://www.utahstatesman.com/campus_news/1.563784', 'https://www.vocabulary.com/dictionary/astronaut', 'https://interestingengineering.com/spacexs-crew-3-launched-the-600th-person-to-space-in-60-years', 'https://www.fai.org/sites/default/files/documents/sporting_code_section_8_edition_2009.pdf', 'http://www.nasa.gov/centers/dryden/news/NewsReleases/2005/05-57.html', 'http://www.worldspaceflight.com/bios/stats.php', 'https://web.archive.org/web/20070827140010/http://www-pao.ksc.nasa.gov/kscpao/factoids/hundred.htm', 'http://www-pao.ksc.nasa.gov/kscpao/factoids/hundred.htm', 'https://web.archive.org/web/20070930195311/http://www.astronautix.com/articles/aststics.htm', 'http://www.astronautix.com/articles/aststics.htm', 'http://www.nasa.gov/vision/space/workinginspace/eva_stats.html', 'https://www.nytimes.com/live/international-space-station-launch/breaking-space-records', 'https://web.archive.org/web/20150405145407/http://www.nytimes.com/live/international-space-station-launch/breaking-space-records/', 'http://www.jsc.nasa.gov/Bios/htmlbios/whitson.html', 'https://web.archive.org/web/20080509130749/http://www.jsc.nasa.gov/Bios/htmlbios/whitson.html', 'https://books.google.com/books?id=afKBvKlg0-EC&pg=PA27', 'http://www.jsc.nasa.gov/history/suddenly_tomorrow/suddenly.htm', 'https://books.google.com/books?id=2XY9KXxF8OEC&pg=PA326', 'https://web.archive.org/web/20080105031754/http://www.thespacerace.com/glossary/index.php?term=54', 'http://www.thespacerace.com/glossary/index.php?term=54', 'https://web.archive.org/web/20110719102624/https://www.iafastro.org/index.html?title=History', 'http://www.iafastro.org/index.html?title=History', 'http://www.jsc.nasa.gov/Bios/', 'https://web.archive.org/web/20070307132816/http://www.jsc.nasa.gov/Bios/', 'http://www.esa.int/esaHS/ESA75G0VMOC_astronauts_0.html', 'https://web.archive.org/web/20081220054618/http://www.esa.int/esaHS/ESA75G0VMOC_astronauts_0.html', 'https://books.google.com/books?id=6DhWw_cYLicC', 'https://sjp.pwn.pl/poradnia/haslo/Astronauta-a-kosmonauta;17329.html', 'https://books.google.com/books?id=zk_MkKERUokC&pg=332', 'https://www.telegraph.co.uk/news/science/space/11871598/Russia-forgot-to-send-toothbrush-with-first-woman-in-space.html', 'https://web.archive.org/web/20190716183315/https://spaceflight.nasa.gov/history/shuttle-mir/references/documents/mirfinal.pdf#page=61', 'https://spaceflight.nasa.gov/history/shuttle-mir/references/documents/mirfinal.pdf#page=61', 'https://www.utsouthwestern.edu/newsroom/articles/year-2017/former-astronaut-alumnus-thagard.html', 'https://www.latimes.com/archives/la-xpm-1995-01-22-mn-22879-story.html', 'https://web.archive.org/web/20070929125754/http://www.fmprc.gov.cn/ce/ceka/rus/xwdt/t216370.htm', 'http://www.fmprc.gov.cn/ce/ceka/rus/xwdt/t216370.htm', 'http://ru.china-embassy.org/rus/xwdt/t73142.htm', 'https://web.archive.org/web/20070927002145/http://ru.china-embassy.org/rus/xwdt/t73142.htm', 'https://arstechnica.com/civis/viewtopic.php?f=2&t=1483555&start=120', 'https://chinese.yabla.com/chinese-english-pinyin-dictionary.php?define=%E5%A4%AA%E7%A9%BA%E4%BA%BA', 'https://web.archive.org/web/20081003201652/http://news.xinhuanet.com/english/2008-01/26/content_7500262.htm', 'http://news.xinhuanet.com/english/2008-01/26/content_7500262.htm', 'https://web.archive.org/web/20080928044453/http://news.xinhuanet.com/english/2008-09/25/content_10111749.htm', 'http://news.xinhuanet.com/english/2008-09/25/content_10111749.htm', 'http://english.peopledaily.com.cn/90001/90776/90881/6507790.html', 'https://web.archive.org/web/20080930071226/http://english.peopledaily.com.cn/90001/90776/90881/6507790.html', 'https://groups.google.com/groups/search?hl=en&safe=off&q=taikonaut&btnG=Search&as_mind=1&as_minm=1&as_miny=1981&as_maxd=24&as_maxm=5&as_maxy=1998&as_drrb=b&sitesearch=', 'https://groups.google.com/group/alt.chinese.text/browse_thread/thread/a7f02b9489c59c5b/dd9e7a1b78d7d5c7?hl=en&lnk=st&q=taikonout#dd9e7a1b78d7d5c7', 'https://www.esa.int/About_Us/Careers_at_ESA/ESA_Astronaut_Selection/Parastronaut_feasibility_project', 'https://spacenews.com/parastronaut-sought-as-esa-recruits-its-first-new-astronauts-in-more-than-a-decade/', 'https://www.newscientist.com/article/dn18338-wanted-four-vyomanauts-for-indian-spaceflight/amp/', 'https://m.thewire.in/article/the-sciences/infinite-in-all-directions-a-science-workshop-and-why-vyomanaut-is-not-cool', 'https://www.mtv.fi/uutiset/ulkomaat/artikkeli/sisunautti-haaveilee-uudesta-suomen-matkasta/2174370#gs.XWGxvao', 'https://www.faa.gov/about/office_org/headquarters_offices/ast/programs/astronaut_wings/', 'https://web.archive.org/web/20200614124620/https://www.nasa.gov/leo-economy/private-astronaut-missions/', 'https://www.nasa.gov/leo-economy/private-astronaut-missions', 'https://www.faa.gov/documentLibrary/media/Order/FAA_Order_8800.2.pdf', 'https://www.usatoday.com/story/tech/2021/07/25/jeff-bezos-federal-aviation-administration-astronaut-wings/8087596002/', 'http://www.jsc.nasa.gov/Bios/htmlbios/ride-sk.html', 'https://web.archive.org/web/20071016072450/http://www.jsc.nasa.gov/Bios/htmlbios/ride-sk.html', 'http://www.nasa.gov/audience/foreducators/k-4/features/F_Going_Out.html', 'https://web.archive.org/web/20071013100622/http://astronautix.com/astros/remek.htm', 'http://www.astronautix.com/astros/remek.htm', 'https://web.archive.org/web/20070930195347/http://www.astronautix.com/flights/salt6ep7.htm', 'http://www.astronautix.com/flights/salt6ep7.htm', 'http://www.jsc.nasa.gov/Bios/htmlbios/wang-t.html', 'https://web.archive.org/web/20070919003409/http://www.jsc.nasa.gov/Bios/htmlbios/wang-t.html', 'https://web.archive.org/web/20070827132048/http://www.astronautix.com/astros/wang.htm', 'http://www.astronautix.com/astros/wang.htm', 'https://web.archive.org/web/20070930214432/http://www.astronautix.com/astros/tamendez.htm', 'http://www.astronautix.com/astros/tamendez.htm', 'https://web.archive.org/web/20071013100617/http://astronautix.com/astros/baudry.htm', 'http://www.astronautix.com/astros/baudry.htm', 'http://www.jsc.nasa.gov/Bios/htmlbios/al-saud.html', 'https://web.archive.org/web/20110525174947/http://www.jsc.nasa.gov/Bios/htmlbios/al-saud.html', 'http://www.spacefacts.de/bios/international/english/mohmand_abdol.htm', 'https://web.archive.org/web/20070812133400/http://www.spacefacts.de/bios/international/english/mohmand_abdol.htm', 'http://www.asc-csa.gc.ca/eng/missions/default.asp', 'http://www.jsc.nasa.gov/Bios/htmlbios/nerivela-r.html', 'https://web.archive.org/web/20071027235759/http://www.jsc.nasa.gov/Bios/htmlbios/nerivela-r.html', 'http://news.bbc.co.uk/onthisday/hi/dates/stories/may/18/newsid_2380000/2380649.stm', 'https://web.archive.org/web/20070905072027/http://news.bbc.co.uk/onthisday/hi/dates/stories/may/18/newsid_2380000/2380649.stm', 'https://web.archive.org/web/20071013043906/http://africaninspace.com/home/mission/logs/1/20020610.shtml', 'http://www.africaninspace.com/home/mission/logs/1/20020610.shtml', 'https://www.arkansasonline.com/news/2021/jul/20/bezos-riding-own-rocket-companys-1st-flight-people/', 'http://news.bbc.co.uk/onthisday/hi/dates/stories/august/6/newsid_2944000/2944638.stm', 'https://articles.latimes.com/2000/sep/22/local/me-25219', 'https://www.space.com/how-space-tourism-could-affect-older-people', 'http://www.nasa.gov/centers/glenn/about/bios/glennbio.html', 'https://web.archive.org/web/20071014013832/http://www.nasa.gov/centers/glenn/about/bios/glennbio.html', 'https://web.archive.org/web/20110423074712/http://www.adm.yar.ru/english/section.aspx?section_id=74', 'http://www.adm.yar.ru/english/section.aspx?section_id=74', 'http://www.fourmilab.ch/fourmilog/archives/2006-08/000736.html', 'http://www.space.com/adastra/adastra_joewalker_061127.html', 'http://www.jsc.nasa.gov/Bios/htmlbios/lichtenberg-bk.html', 'https://web.archive.org/web/20070919000449/http://www.jsc.nasa.gov/Bios/htmlbios/lichtenberg-bk.html', 'http://www.nasm.si.edu/exhibitions/GAL114/SpaceRace/sec500/sec535.htm', 'https://web.archive.org/web/20071026073942/http://www.nasm.si.edu/exhibitions/gal114/SpaceRace/sec500/sec535.htm', 'http://news.bbc.co.uk/hi/english/static/in_depth/sci_tech/2001/mir/1990.stm', 'http://www.spacefacts.de/bios/international/english/akiyama_toyohiro.htm', 'https://web.archive.org/web/20070930033534/http://www.spacefacts.de/bios/international/english/akiyama_toyohiro.htm', 'https://web.archive.org/web/20060213031153/http://www.space.com/missionlaunches/SS1_pilot_040620.html', 'http://www.space.com/missionlaunches/SS1_pilot_040620.html', 'https://web.archive.org/web/20071011134507/http://www.roycecarlton.com/speakers/melvill.html', 'http://www.roycecarlton.com/speakers/melvill.html', 'https://web.archive.org/web/20070819111027/http://aerospacescholars.jsc.nasa.gov/HAS/cirr/ss/3/3.cfm', 'http://aerospacescholars.jsc.nasa.gov/HAS/cirr/ss/3/3.cfm', 'https://web.archive.org/web/19970215192726/http://liftoff.msfc.nasa.gov/academy/astronauts/training.html', 'http://liftoff.msfc.nasa.gov/academy/astronauts/training.html', 'https://archive.org/details/promisedmoonunto0000nole_k7a8/page/235', 'https://www.nasa.gov/audience/forstudents/5-8/features/F_Astronauts_in_Training.html', 'http://www.nasa.gov/home/hqnews/2007/sep/HQ_07196_astronaut_recruitment.html', 'https://web.archive.org/web/20070927081538/http://www.nasa.gov/home/hqnews/2007/sep/HQ_07196_astronaut_recruitment.html', 'http://www.nasa.gov/vision/space/preparingtravel/ascan2004.html', 'http://www.nasa.gov/home/hqnews/2004/oct/HQ_n04160_new_ascans.html', 'http://www.jsc.nasa.gov/Bios/htmlbios/morgan.html', 'https://web.archive.org/web/20071002195136/http://www.jsc.nasa.gov/Bios/htmlbios/morgan.html', 'https://web.archive.org/web/20061125035402/http://www.space.com/missionlaunches/space_educator_030203.html', 'http://www.space.com/missionlaunches/space_educator_030203.html', 'https://web.archive.org/web/20080516050936/https://wwwedu.ssc.nasa.gov/neap.asp', 'http://wwwedu.ssc.nasa.gov/neap.asp', 'https://ghostarchive.org/archive/20220101/https://www.nytimes.com/2014/01/28/science/bodies-not-made-for-space.html', 'https://www.nytimes.com/2014/01/28/science/bodies-not-made-for-space.html', 'https://www.wired.com/wiredscience/2012/07/medicine-psychology-space/', 'http://www.ophsource.org/periodicals/ophtha/article/S0161-6420(11)00564-1/abstract', 'http://www.zmescience.com/medicine/astronaut-eyesight-damage-weightlessness-3214143/', 'http://www.cnn.com/video/#/video/us/2012/02/09/pkg-zarrella-astronaut-vision.cnn', 'http://www.space.com/14876-astronaut-spaceflight-vision-problems.html', 'http://radiology.rsna.org/content/early/2012/03/07/radiol.12111986.abstract?sid=8682af1e-b07f-4ad9-8453-ee319bad639e', 'http://english.pravda.ru/science/earth/17-12-2008/106841-soviet_cosmonaut-0/', 'https://www.wired.com/opinion/2014/02/happens-body-mars/', 'https://www.seeker.com/space/brain-changes-in-space-could-be-linked-to-vision-problems-in-astronauts', 'https://web.archive.org/web/20091029061057/http://www.nasa.gov/mission_pages/station/science/experiments/ADUM.html', 'http://www.nasa.gov/mission_pages/station/science/experiments/ADUM.html', 'https://biodesign.asu.edu/news/space-flight-shown-alter-ability-bacteria-cause-disease', 'https://gizmodo.com/alarming-study-indicates-why-certain-bacteria-are-more-1805666249', 'http://publications.ub.uni-mainz.de/opus/volltexte/2008/11364/pdf/11364.pdf', 'https://ui.adsabs.harvard.edu/abs/2012PLoSO...753275C', 'http://spaceref.com/news/viewpr.html?pid=39650', 'http://nasawatch.com/archives/2013/01/important-resea.html', 'http://apnews.excite.com/article/20151029/us-sci-space-travel-health-6dfd5b2c76.html', 'https://oig.nasa.gov/audits/reports/FY16/IG-16-003.pdf', 'https://www.nasa.gov/mission_pages/station/research/news/Astronaut_Vision.html', 'https://api.semanticscholar.org/CorpusID:205102116', 'https://qz.com/1119668/space-travel-changes-astronauts-brains/', 'https://ui.adsabs.harvard.edu/abs/1999NYASA.871..367Y', 'https://api.semanticscholar.org/CorpusID:32639019', 'https://www.independent.co.uk/news/science/nasa-mars-deep-space-journey-guts-gi-digestive-animal-study-gastrointestinal-health-a8563926.html', 'https://www.eurekalert.org/pub_releases/2018-11/bc-ims112018.php', 'https://www.timesnownews.com/health/article/radiation-can-impact-astronauts-memory-temporarily-heres-all-you-need-to-know/397216', 'https://www.msn.com/en-us/news/technology/space-travel-can-lead-to-new-motor-skills-but-impaired-vision-according-to-a-new-study-of-cosmonaut-brains/ar-BB18Iu69', 'https://ui.adsabs.harvard.edu/abs/2020SciA....6.9488J', 'http://www.nasa.gov/vision/earth/everydaylife/jamestown-needs-fs.html', 'https://web.archive.org/web/20140728032237/http://airandspace.si.edu/collections/artifact.cfm?object=nasm_A19860035000', 'http://airandspace.si.edu/collections/artifact.cfm?object=nasm_A19860035000', 'https://www.nasa.gov/hrp/bodyinspace', 'https://web.archive.org/web/20170914172718/https://biodesign.asu.edu/news/space-flight-shown-alter-ability-bacteria-cause-disease', 'https://ghostarchive.org/archive/20221009/https://www.faa.gov/documentLibrary/media/Order/FAA_Order_8800.2.pdf', 'https://ghostarchive.org/archive/20221009/http://publications.ub.uni-mainz.de/opus/volltexte/2008/11364/pdf/11364.pdf', 'https://ghostarchive.org/archive/20221009/https://oig.nasa.gov/audits/reports/FY16/IG-16-003.pdf', 'https://api.semanticscholar.org/CorpusID:13965518', 'https://ui.adsabs.harvard.edu/abs/1995AdSpR..16h.119D', 'https://ui.adsabs.harvard.edu/abs/1995AdSpR..16h.105H', 'https://www.bbc.com/news/science-environment-63730022', 'https://www.worldcat.org/issn/0307-1235', 'https://doi.org/10.1016%2Fj.ophtha.2011.06.021', 'https://pubmed.ncbi.nlm.nih.gov/21849212', 'https://doi.org/10.1148%2Fradiol.12111986', 'https://pubmed.ncbi.nlm.nih.gov/22416248', 'https://doi.org/10.7863%2Fjum.2008.27.5.745', 'https://pubmed.ncbi.nlm.nih.gov/18424650', 'https://doi.org/10.1016%2F0273-1177(95)00280-R', 'https://pubmed.ncbi.nlm.nih.gov/11542696', 'https://doi.org/10.1016%2F0273-1177(95)00279-N', 'https://pubmed.ncbi.nlm.nih.gov/11542695', 'https://www.ncbi.nlm.nih.gov/pmc/articles/PMC3534034', 'https://doi.org/10.1371%2Fjournal.pone.0053275', 'https://pubmed.ncbi.nlm.nih.gov/23300905', 'https://doi.org/10.1056%2FNEJMoa1705129', 'https://pubmed.ncbi.nlm.nih.gov/29091569', 'https://doi.org/10.1111%2Fj.1749-6632.1999.tb09198.x', 'https://www.worldcat.org/issn/1749-6632', 'https://pubmed.ncbi.nlm.nih.gov/10372085', 'https://www.ncbi.nlm.nih.gov/pmc/articles/PMC6251167', 'https://doi.org/10.1186%2Fs12866-018-1325-2', 'https://pubmed.ncbi.nlm.nih.gov/30466389', 'https://www.ncbi.nlm.nih.gov/pmc/articles/PMC7473746', 'https://doi.org/10.1126%2Fsciadv.aaz9488', 'https://pubmed.ncbi.nlm.nih.gov/32917625', 'https://www.nasa.gov/audience/formedia/presskits/spacefood/gallery_iss005e16336.html', 'https://id.loc.gov/authorities/sh85008988', 'https://web.archive.org/web/20200521052054/http://spaceref.com/news/viewpr.html?pid=39650/', 'https://web.archive.org/web/20080106093433/http://www.nasa.gov/vision/space/workinginspace/eva_stats.html', 'https://web.archive.org/web/20201109013220/https://www.nasa.gov/audience/forstudents/5-8/features/F_Astronauts_in_Training.html', 'https://web.archive.org/web/20200820023031/https://www.nasa.gov/mission_pages/station/research/news/Astronaut_Vision.html', 'https://web.archive.org/web/20180816195043/https://www.mtv.fi/uutiset/ulkomaat/artikkeli/sisunautti-haaveilee-uudesta-suomen-matkasta/2174370#gs.XWGxvao', 'https://web.archive.org/web/20220311171234/https://interestingengineering.com/spacexs-crew-3-launched-the-600th-person-to-space-in-60-years', 'https://www.nytimes.com/2021/09/21/science/fungus-pilobolus-space-astronauts.html', 'https://www.worldcat.org/issn/0362-4331', 'http://olduli.nli.org.il/F/?func=find-b&local_base=NLX10&find_code=UID&request=987007295081105171', 'http://news.bbc.co.uk/1/hi/entertainment/tv_and_radio/3890821.stm', 'http://news.bbc.co.uk/1/hi/entertainment/tv_and_radio/3889595.stm', 'http://news.bbc.co.uk/1/hi/world/middle_east/3827207.stm', 'http://news.independent.co.uk/uk/legal/article2398870.ece', 'http://www.bbcgovernorsarchive.co.uk/docs/reviews/panel_report_final.pdf', 'https://web.archive.org/web/20070614000035/http://www.bbcgovernorsarchive.co.uk/docs/reviews/panel_report_final.pdf', 'http://www.timesonline.co.uk/article/0,,1072-2174641,00.html', 'http://old.nationalreview.com/comment/gross200406181018.asp', 'http://www.jpost.com/Opinion/Columnists/Article.aspx?id=178724', 'http://news.bbc.co.uk/2/hi/programmes/from_our_own_correspondent/4407086.stm', 'https://web.archive.org/web/20070314044208/http://news.bbc.co.uk/2/hi/programmes/from_our_own_correspondent/4407086.stm', 'http://www.asiamedia.ucla.edu/article.asp?parentid=21745', 'https://web.archive.org/web/20070310194208/http://www.asiamedia.ucla.edu/article.asp?parentid=21745', 'http://news.bbc.co.uk/2/hi/south_asia/4437494.stm', 'http://www.boston.com/news/world/articles/2006/12/18/iran_bloggers_test_regimes_tolerance/', 'http://www.abclive.in/abclive_global/bbc-news-website-china.html', 'https://web.archive.org/web/20081013035628/http://news.independent.co.uk/uk/legal/article2398870.ece', 'https://web.archive.org/web/20100628025507/http://old.nationalreview.com/comment/gross200406181018.asp', 'https://www.theguardian.com/media/2015/jun/01/rwanda-places-indefinite-ban-on-bbc-broadcasts-over-genocide-documentary', 'https://www.theguardian.com/us-news/2017/feb/24/media-blocked-white-house-briefing-sean-spicer', 'http://www.cbsnews.com/news/cbs-bbc-join-forces/', 'http://www.afrol.com/News2002/zim040_joytv_bbc.htm', 'https://photoarchivenews.com/news/the-bbc-drops-ap-for-afptv-ap-statement/', 'https://web.archive.org/web/20090408024616/http://abclive.in/abclive_global/bbc-news-website-china.html', 'https://www.theguardian.com/politics/2013/jul/16/david-kelly-death-10-years-on', 'https://www.bbc.co.uk/blogs/theeditors/2009/07/resuming_operations_in_zimbabw.html', 'https://www.bbc.co.uk/corporate2/mediacentre/statements/website-china', 'https://www.economist.com/britain/2020/01/30/the-bbc-performs-painful-internal-surgery', 'https://www.scotsman.com/news/obituaries/obituary-kenneth-kendall-newsreader-and-presenter-1596900', 'http://www.terramedia.co.uk/Chronomedia/years/1950.htm', 'https://web.archive.org/web/20071016210036/http://terramedia.co.uk/Chronomedia/years/1950.htm', 'http://news.bbc.co.uk/1/shared/spl/hi/pop_ups/08/programmes_past_faces_of_panorama/html/1.stm', 'https://books.google.com/books?id=Kviak52wjXsC&q=In+1958,+Hugh+Carleton+Greene+became+head+of+News+and+Current+Affairs&pg=PA78', 'https://books.google.com/books?id=DRPPJqqHTQoC&q=On+1+January+1960,+Greene+became+Director-General+and+brought+about+big+changes+at+BBC+Television+and+BBC+Television+News&pg=PA46', 'https://www.theguardian.com/media/2000/oct/17/broadcasting.bbc', 'https://publications.parliament.uk/pa/cm200708/cmselect/cmfaff/memo/annual/ucm27402.htm', 'https://www.independent.co.uk/news/obituaries/nan-winton-death-age-bbc-newsreader-female-age-cause-dead-obituary-a8929606.html', 'https://publications.parliament.uk/pa/ld200708/ldselect/ldcomuni/122/8040202.htm', 'http://www.terramedia.co.uk/Chronomedia/years/1964.htm', 'https://web.archive.org/web/20070303014530/http://www.terramedia.co.uk/Chronomedia/years/1964.htm', 'https://web.archive.org/web/20070516061628/http://www2.tv-ark.org.uk/bbcnews/bbcnationalnewsother.html', 'http://www2.tv-ark.org.uk/bbcnews/bbcnationalnewsother.html', 'https://www.bbc.co.uk/heritage/more/pdfs/1960s.pdf', 'http://www.tvradiobits.co.uk/', 'https://web.archive.org/web/20110510052949/http://www.tvhistory.btinternet.co.uk/html/early_satellite.html', 'http://www.tvhistory.btinternet.co.uk/html/early_satellite.html', 'http://news.bbc.co.uk/2/hi/programmes/ten/2655185.stm', 'http://news.bbc.co.uk/aboutbbcnews/spl/hi/history/noflash/html/1970s.stm', 'http://archive.thenorthernecho.co.uk/2004/7/3/46772.html', 'https://web.archive.org/web/20070929092219/http://archive.thenorthernecho.co.uk/2004/7/3/46772.html', 'http://news.bbc.co.uk/2/shared/spl/hi/newswatch/history/noflash/html/1970s.stm', 'http://tvlistings.thetvroomplus.com/listing-2528.html', 'https://www.bbc.co.uk/heritage/more/pdfs/1970s.pdf', 'https://web.archive.org/web/20060924233153/http://www.rts.org.uk/servedoc.asp?filename=AWARDS1.pdf', 'http://www.rts.org.uk/servedoc.asp?filename=AWARDS1.pdf#page=36', 'http://awards.bafta.org/keyword-search?keywords=1981', 'http://www.bafta.org/', 'http://www.bafta.org/site/webdav/site/myjahiasite/shared/import/TV_and_%20Craft_Winners_1980-1989.pdf', 'https://www.theguardian.com/falklands/story/0,,657871,00.html', 'http://www.iwm.org.uk/upload/package/29/mediawar/technolfalk.htm', 'http://news.bbc.co.uk/1/shared/spl/hi/newswatch/history/noflash/html/1980s.stm', 'http://news.bbc.co.uk/onthisday/hi/dates/stories/january/17/newsid_2530000/2530363.stm', 'http://news.bbc.co.uk/1/hi/uk/702700.stm', 'https://www.irishtimes.com/news/ireland/irish-news/higgins-marvels-at-change-in-ethiopia-s-tigray-province-1.1992467', 'https://www.bbc.co.uk/programmes/b0078x3n', 'http://www.bbceng.info/Designs/RDCE/part_I/101to200/ipage_43.htm', 'https://web.archive.org/web/20070929095542/http://www2.tv-ark.org.uk/bbcnews/bbcnationalnewsother.html', 'http://news.bbc.co.uk/2/hi/uk_news/120791.stm', 'http://news.bbc.co.uk/1/hi/entertainment/tv_and_radio/3829605.stm', 'http://news.bbc.co.uk/1/hi/programmes/breakfast/5048764.stm', 'https://www.telegraph.co.uk/culture/tvandradio/bbc/8057696/BBCs-Mark-Byford-made-redundant.html', 'https://www.bbc.co.uk/pressoffice/pressreleases/stories/2007/10_october/18/reform.shtml', 'https://web.archive.org/web/20071020051207/http://www.bbc.co.uk/pressoffice/pressreleases/stories/2007/10_october/18/reform.shtml', 'http://blogs.guardian.co.uk/organgrinder/2007/10/post_51.html', 'https://web.archive.org/web/20071024120744/http://blogs.guardian.co.uk/organgrinder/2007/10/post_51.html', 'http://news.bbc.co.uk/1/hi/entertainment/7050440.stm', 'https://web.archive.org/web/20071020035603/http://news.bbc.co.uk/1/hi/entertainment/7050440.stm#tables', 'https://www.bbc.co.uk/blogs/theeditors/2007/11/multimedia_news.html', 'https://web.archive.org/web/20071115103603/http://www.bbc.co.uk/blogs/theeditors/2007/11/multimedia_news.html', 'http://news.bbc.co.uk/1/hi/entertainment/6291338.stm', 'https://web.archive.org/web/20070714232708/http://news.bbc.co.uk/1/hi/entertainment/6291338.stm', 'http://business.timesonline.co.uk/tol/business/industry_sectors/media/article3735982.ece', 'https://web.archive.org/web/20110510021938/http://www2.tv-ark.org.uk/news/bbcnews24/2008.html', 'http://www2.tv-ark.org.uk/news/bbcnews24/2008.html', 'https://www.bbc.co.uk/blogs/theeditors/2008/04/new_news.html', 'http://news.bbc.co.uk/1/hi/entertainment/8544150.stm', 'https://web.archive.org/web/20100303054531/http://news.bbc.co.uk/1/hi/entertainment/8544150.stm', 'https://www.bbc.co.uk/news/entertainment-arts-21455396', 'https://www.bbc.co.uk/news/in-pictures-18627051', 'http://www.newscaststudio.com/blog/2012/07/09/bbc-news-begins-move-into-broadcasting-house/', 'https://www.bbc.co.uk/news/uk-21818963', 'https://www.bbc.co.uk/news/magazine-20032531', 'https://www.bbc.co.uk/worldserviceradio/help', 'http://www.radioacademy.org/about/patrons/', 'https://web.archive.org/web/20100107234239/http://www.radioacademy.org/about/patrons/', 'http://news.bbc.co.uk/1/hi/entertainment/4492820.stm', 'http://news.bbc.co.uk/1/hi/help/', 'https://web.archive.org/web/20070328040313/http://news.bbc.co.uk/1/hi/help/', 'https://www.bbc.co.uk/news/technology-10738882', 'http://news.bbc.co.uk/1/hi/help/5286426.stm', 'https://web.archive.org/web/20070315183757/http://news.bbc.co.uk/1/hi/help/5286426.stm', 'https://www.bbc.com/news/technology-50150981', 'https://www.npr.org/2019/10/24/773060596/bbc-launches-tor-mirror-site-to-thwart-media-censorship', 'https://archive.today/20191025202723/https://www.npr.org/2019/10/24/773060596/bbc-launches-tor-mirror-site-to-thwart-media-censorship', 'https://www.theverge.com/2019/10/24/20930085/bbc-news-dark-web-tor-the-onion-browser-secure-censorship', 'https://archive.today/20191024133650/https://www.theverge.com/2019/10/24/20930085/bbc-news-dark-web-tor-the-onion-browser-secure-censorship', 'https://www.bbc.co.uk/bbctrust/assets/files/pdf/review_report_research/impartiality_21century/f_editorial_guidelines_extracts.txt', 'https://web.archive.org/web/20080309115833/http://www.news24.com/News24/World/News/0,,2-10-1462_1390672,00.html', 'http://www.news24.com/News24/World/News/0,,2-10-1462_1390672,00.html', 'http://news.bbc.co.uk/1/hi/world/europe/2220904.stm', 'https://books.google.com/books?id=HlB8AgAAQBAJ&pg=PA79', 'http://www.jpost.com/Headlines/Article.aspx?id=186893', 'https://www.politics.co.uk/comment-analysis/2018/04/17/what-s-actually-going-on-with-the-bbc-and-brexit-bias', 'https://yougov.co.uk/topics/politics/articles-reports/2018/02/22/bbc-news-pro-brexit-or-anti-brexit', 'http://www.deccanherald.com/Content/Dec222008/editpage20081221108056.asp', 'http://www.rediff.com/news/2008/dec/14mumterror-mj-akbar-slams-bbc-for-biased-coverage-of-mumbai-terror-attack.htm', 'http://www.indianexpress.com/storyOld.php?storyId=42169', 'http://edition.cnn.com/2015/03/03/asia/india-rape-comment-outrage/index.html', 'https://www.bbc.co.uk/news/entertainment-arts-51271168', 'https://www.telegraph.co.uk/opinion/2020/01/29/budget-cuts-will-not-solve-bbcs-problems/', 'https://www.theguardian.com/media/2020/jul/15/bbc-announces-further-70-job-cuts-in-news-division', 'https://www.theguardian.com/media/2012/sep/07/bbc-1bn-new-base-broadcasting', 'https://genome.ch.bbc.co.uk/schedules/bbcone/london/2000-01-01', 'https://www.vau.net/system/files/documents/GB_Regional_TV_in_the_UK_April2015.pdf', 'https://core.ac.uk/download/pdf/4898275.pdf', 'http://news.bbc.co.uk/2/hi/entertainment/1600622.stm', 'https://www.independent.co.uk/news/obituaries/peter-sissons-death-tv-news-presenter-itn-bbc-channel-4-question-time-a9142781.html', 'http://www.theguardian.com/media/2002/jun/07/bbc.tvnews1', 'https://web.archive.org/web/20210319112027/https://www.bbc.com/news/technology-50150981', 'https://www.bbc.com/news/uk-politics-51530752', 'https://web.archive.org/web/20090424053328/http://www.bbc.co.uk/heritage/more/pdfs/1960s.pdf', 'https://web.archive.org/web/20130307235004/http://www.bbc.co.uk/bbctrust/assets/files/pdf/review_report_research/impartiality_21century/f_editorial_guidelines_extracts.txt', 'https://web.archive.org/web/20191208041921/http://www.bbc.co.uk/corporate2/mediacentre/statements/website-china', 'https://www.wikidata.org/wiki/Q1160945#P856', 'https://archive.today/20130204144206/http://tvlistings.thetvroomplus.com/listing-2528.html', 'https://web.archive.org/web/20061018094538/http://www.telegraph.co.uk/news/main.jhtml?xml=/news/2006/10/15/nbeeb15.xml', 'https://web.archive.org/web/20090418210846/http://www.independent.co.uk/news/media/tv-radio/bowen-breached-rules-on-impartiality-1669278.html', \"https://books.google.com/books?id=Kviak52wjXsC&q=bbc+news+the+start+of+the+radio+news+and+current+affairs+programme+The+Ten+O'clock+News&pg=PA83\", 'https://archive.org/details/introductoryhist00cris', 'https://archive.org/details/introductoryhist00cris/page/n31', 'https://books.google.com/books?id=OoxsKnfVzLwC&q=The+British+Broadcasting+Company+broadcast+its+first+radio+bulletin+from+radio+station+2LO+on+14+November+1922&pg=PA132', 'http://www.whirligig-tv.co.uk/tv/history/history.htm', 'https://web.archive.org/web/20070427124228/http://www.whirligig-tv.co.uk/tv/history/history.htm', 'http://etheses.lse.ac.uk/1759/1/U192411.pdf', 'https://web.archive.org/web/20070404014257/http://www.alexandrapalace.com/history.html', 'http://www.alexandrapalace.com/history.html', 'https://web.archive.org/web/20070506033602/http://www.tvhistory.btinternet.co.uk/html/landmark.html', 'http://www.tvhistory.btinternet.co.uk/html/landmark.html', 'http://www.terramedia.co.uk/Chronomedia/years/1953.htm', 'http://www.thevalvepage.com/tvyears/articals/coronation/arrangements/arrangements.htm', 'https://www.bbc.com/hindi/international-59498603', 'https://ghostarchive.org/archive/20220111/https://www.telegraph.co.uk/opinion/2020/01/29/budget-cuts-will-not-solve-bbcs-problems/', 'https://web.archive.org/web/20190329032408/https://www.politics.co.uk/comment-analysis/2018/04/17/what-s-actually-going-on-with-the-bbc-and-brexit-bias', 'https://www.bbc.com/news/entertainment-arts-55931548', 'https://indianexpress.com/article/india/kaziranga-film-bbc-banned-for-5-years-from-all-national-parks-sanctuaries-4613758/', 'http://www.mediaweek.co.uk/news/rss/1178458/Former-Times-editor-James-Harding-news-boss-BBC/', 'https://edition.cnn.com/videos/business/2021/02/12/bbc-news-banned-china-cgtn-uk.cnnbusiness', 'https://web.archive.org/web/20161230043836/http://www.bbc.co.uk/aboutthebbc/insidethebbc/managementstructure/bbcstructure/journalism.html', 'https://www.bbc.co.uk/aboutthebbc/insidethebbc/managementstructure/bbcstructure/journalism.html', 'http://news.bbc.co.uk/newswatch/ukfs/hi/newsid_3970000/newsid_3975900/3975913.stm', 'https://web.archive.org/web/20070227135731/http://www.westminsterjournalism.co.uk/Broadcast06/BBC/BBCNewsIntro.html', 'http://www.westminsterjournalism.co.uk/Broadcast06/BBC/BBCNewsIntro.html', 'https://books.google.com/books?id=2fFsAAAAQBAJ&q=the%20bbc%20has%20correspondents%20in%20nearly%20every%20country&pg=PA24', 'https://www.ofcom.org.uk/__data/assets/pdf_file/0025/173734/bbc-news-review.pdf', 'https://www.theguardian.com/media/gallery/2008/apr/18/bbc.television?picture=333595256', 'https://www.theguardian.com/media/2019/sep/16/bbc-to-switch-off-red-button-2020', 'https://www.newscaststudio.com/2015/11/03/column-david-lowe-the-man-who-changed-news-music-forever/?og=1', 'http://www.classical-music.com/article/what-music-used-tv-news-programmes', 'https://www.arabmediasociety.com/bbc-arabic-language-television-channel-to-be-launched-11-march/', 'https://books.google.com/books?id=8L81HYbAUfQC&q=bbc+news+a+Persian-language+channel+followed+on+14+January+2009&pg=PA101', 'https://www.bbc.co.uk/persian/news/story/2007/04/070426_adverttv.shtml', 'http://bbc.co.uk/news', 'http://bbc.com/news', 'http://news.bbc.co.uk/1/hi/in_depth/629/629/7057140.stm', 'https://www.similarweb.com/top-websites/category/news-and-media/', 'https://www.bbc.com/mediacentre/worldnews/2021/bbc.com/mediacentre/worldnews/2021/new-data-shows-bbc-is-the-worlds-most-visited-news-site/', 'https://www.ofcom.org.uk/__data/assets/pdf_file/0027/241947/News-Consumption-in-the-UK-2022-report.pdf', 'https://www.bbc.com/news', 'https://web.archive.org/web/20200504045751/https://www.ofcom.org.uk/__data/assets/pdf_file/0025/173734/bbc-news-review.pdf', 'https://web.archive.org/web/20200601040326/http://etheses.lse.ac.uk/1759/1/U192411.pdf', 'https://web.archive.org/web/20070614000032/https://www.bbc.co.uk/heritage/more/pdfs/1970s.pdf', 'https://web.archive.org/web/20051210100448/http://www.bafta.org/site/webdav/site/myjahiasite/shared/import/TV_and_%20Craft_Winners_1980-1989.pdf', 'https://web.archive.org/web/20210418003313/https://www.vau.net/system/files/documents/GB_Regional_TV_in_the_UK_April2015.pdf', 'https://web.archive.org/web/20171204192014/https://core.ac.uk/download/pdf/4898275.pdf', 'https://www.bbc.co.uk/mediacentre/articles/2022/bbc.com/mediacentre/articles/2022/deborah-turness-message-to-staff-first-day/', 'https://www.niemanlab.org/2018/10/heres-how-much-americans-trust-38-major-news-organizations-hint-not-all-that-much/', 'https://web.archive.org/web/20201208001945/https://www.niemanlab.org/2018/10/heres-how-much-americans-trust-38-major-news-organizations-hint-not-all-that-much/', 'https://www.jstor.org/stable/j.ctvkjb3sr.12', 'https://www.worldcat.org/issn/0013-0613', 'https://doi.org/10.1057%2F9780230346451_5', 'https://www.worldcat.org/issn/0261-3077', 'https://hdl.handle.net/2134%2F3158', 'https://www.washingtonpost.com/lifestyle/media/whca-seating-chart-2022/2022/02/01/77820ba2-807b-11ec-bf02-f9e24ccef149_story.html', 'https://web.archive.org/web/20060929160659/http://www.iwm.org.uk/upload/package/29/mediawar/technolfalk.htm', 'https://www.yahoo.com/entertainment/bbc-urgently-investigating-group-arab-173746683.html', 'https://web.archive.org/web/20110217084131/http://news.bbc.co.uk/newswatch/ukfs/hi/newsid_3970000/newsid_3975900/3975913.stm', 'https://web.archive.org/web/20231124132749/https://books.google.com/books?id=2fFsAAAAQBAJ&q=the%20bbc%20has%20correspondents%20in%20nearly%20every%20country&pg=PA24#v=snippet&q=the%20bbc%20has%20correspondents%20in%20nearly%20every%20country&f=false', 'https://web.archive.org/web/20221206162356/https://www.bbc.co.uk/mediacentre/articles/2022/bbc.com/mediacentre/articles/2022/deborah-turness-message-to-staff-first-day/', 'https://web.archive.org/web/20231124132653/https://books.google.com/books?id=OoxsKnfVzLwC&q=The+British+Broadcasting+Company+broadcast+its+first+radio+bulletin+from+radio+station+2LO+on+14+November+1922&pg=PA132#v=snippet&q=The%20British%20Broadcasting%20Company%20broadcast%20its%20first%20radio%20bulletin%20from%20radio%20station%202LO%20on%2014%20November%201922&f=false', 'https://web.archive.org/web/20070525193855/http://www.terramedia.co.uk/Chronomedia/years/1953.htm', 'https://web.archive.org/web/20070927204504/http://www.thevalvepage.com/tvyears/articals/coronation/arrangements/arrangements.htm', 'https://web.archive.org/web/20200521142154/https://www.economist.com/britain/2020/01/30/the-bbc-performs-painful-internal-surgery', 'https://web.archive.org/web/20201001204817/https://www.scotsman.com/news/obituaries/obituary-kenneth-kendall-newsreader-and-presenter-1596900', 'https://web.archive.org/web/20170820055940/http://news.bbc.co.uk/1/shared/spl/hi/pop_ups/08/programmes_past_faces_of_panorama/html/1.stm', 'https://web.archive.org/web/20231124132647/https://books.google.com/books?id=DRPPJqqHTQoC&q=On+1+January+1960,+Greene+became+Director-General+and+brought+about+big+changes+at+BBC+Television+and+BBC+Television+News&pg=PA46#v=onepage&q=On%201%20January%201960,%20Greene%20became%20Director-General%20and%20brought%20about%20big%20changes%20at%20BBC%20Television%20and%20BBC%20Television%20News&f=false', 'https://web.archive.org/web/20200330185500/https://www.independent.co.uk/news/obituaries/nan-winton-death-age-bbc-newsreader-female-age-cause-dead-obituary-a8929606.html', 'https://web.archive.org/web/20200726160952/https://publications.parliament.uk/pa/ld200708/ldselect/ldcomuni/122/8040202.htm', 'https://web.archive.org/web/20081217064328/http://news.bbc.co.uk/2/hi/programmes/ten/2655185.stm', 'https://web.archive.org/web/20081217064331/http://news.bbc.co.uk/aboutbbcnews/spl/hi/history/noflash/html/1970s.stm', 'https://web.archive.org/web/20080307094711/http://news.bbc.co.uk/2/shared/spl/hi/newswatch/history/noflash/html/1970s.stm', 'https://web.archive.org/web/20160224131452/http://awards.bafta.org/keyword-search?keywords=1981', 'https://web.archive.org/web/20070208122541/http://news.bbc.co.uk/1/shared/spl/hi/newswatch/history/noflash/html/1980s.stm', 'https://web.archive.org/web/20110831045105/http://www.bafta.org/', 'https://web.archive.org/web/20231124132746/https://www.theguardian.com/media/2002/feb/25/broadcasting.falklands', 'https://web.archive.org/web/20061219140555/http://news.bbc.co.uk/onthisday/hi/dates/stories/january/17/newsid_2530000/2530363.stm', 'https://web.archive.org/web/20081205000805/http://news.bbc.co.uk/1/hi/uk/702700.stm', 'https://web.archive.org/web/20180918134554/https://www.irishtimes.com/news/ireland/irish-news/higgins-marvels-at-change-in-ethiopia-s-tigray-province-1.1992467', 'https://web.archive.org/web/20200524001908/https://www.bbc.co.uk/programmes/b0078x3n', 'https://web.archive.org/web/20071016201502/http://bbceng.info/Designs/RDCE/part_I/101to200/ipage_43.htm', 'https://web.archive.org/web/20200726153440/https://www.theguardian.com/media/2000/oct/17/broadcasting.bbc', 'https://web.archive.org/web/20081217064359/http://news.bbc.co.uk/2/hi/uk_news/120791.stm', 'https://web.archive.org/web/20200628042938/http://news.bbc.co.uk/1/hi/in_depth/629/629/7057140.stm', 'https://web.archive.org/web/20210301172301/https://genome.ch.bbc.co.uk/schedules/bbcone/london/2000-01-01', 'https://web.archive.org/web/20210411062848/http://news.bbc.co.uk/2/hi/entertainment/1600622.stm', 'https://web.archive.org/web/20210418020258/https://www.independent.co.uk/news/obituaries/peter-sissons-death-tv-news-presenter-itn-bbc-channel-4-question-time-a9142781.html', 'https://web.archive.org/web/20210418011151/https://www.theguardian.com/media/2002/jun/07/bbc.tvnews1', 'https://web.archive.org/web/20061222142448/http://news.bbc.co.uk/1/hi/entertainment/tv_and_radio/3829605.stm', 'https://web.archive.org/web/20061120095948/http://news.bbc.co.uk/1/hi/programmes/breakfast/5048764.stm', 'https://web.archive.org/web/20171013235402/http://www.telegraph.co.uk/culture/tvandradio/bbc/8057696/BBCs-Mark-Byford-made-redundant.html', 'https://web.archive.org/web/20080907171053/http://business.timesonline.co.uk/tol/business/industry_sectors/media/article3735982.ece', 'https://web.archive.org/web/20200805003251/https://www.bbc.co.uk/blogs/theeditors/2008/04/new_news.html', 'https://web.archive.org/web/20200726153245/https://publications.parliament.uk/pa/cm200708/cmselect/cmfaff/memo/annual/ucm27402.htm', 'https://web.archive.org/web/20180404060207/http://www.bbc.co.uk/news/entertainment-arts-21455396', 'https://web.archive.org/web/20231124132757/https://www.campaignlive.co.uk//', 'https://web.archive.org/web/20180911114538/https://www.theguardian.com/media/2012/sep/07/bbc-1bn-new-base-broadcasting', 'https://web.archive.org/web/20130203151813/http://www.bbc.co.uk/news/in-pictures-18627051', 'https://web.archive.org/web/20130117060101/http://www.newscaststudio.com/blog/2012/07/09/bbc-news-begins-move-into-broadcasting-house/', 'https://web.archive.org/web/20201231012440/https://www.bbc.com/news/uk-21818963', 'https://web.archive.org/web/20201215000003/https://www.bbc.co.uk/news/entertainment-arts-51271168', 'https://web.archive.org/web/20201101031912/https://www.theguardian.com/media/2020/jul/15/bbc-announces-further-70-job-cuts-in-news-division', 'https://web.archive.org/web/20211202105446/https://www.bbc.com/hindi/international-59498603', 'https://web.archive.org/web/20200714143124/https://www.theguardian.com/media/2019/sep/16/bbc-to-switch-off-red-button-2020', 'https://web.archive.org/web/20200726160751/https://www.newscaststudio.com/2015/11/03/column-david-lowe-the-man-who-changed-news-music-forever/?og=1', 'https://web.archive.org/web/20190925114905/http://www.classical-music.com/article/what-music-used-tv-news-programmes', 'https://web.archive.org/web/20200726160936/https://www.arabmediasociety.com/bbc-arabic-language-television-channel-to-be-launched-11-march/', 'https://web.archive.org/web/20231124132819/https://books.google.com/books?id=8L81HYbAUfQC&q=bbc+news+a+Persian-language+channel+followed+on+14+January+2009&pg=PA101#v=snippet&q=bbc%20news%20a%20Persian-language%20channel%20followed%20on%2014%20January%202009&f=false', 'https://web.archive.org/web/20080915193131/http://www.bbc.co.uk/persian/news/story/2007/04/070426_adverttv.shtml', 'https://web.archive.org/web/20180811184649/https://www.bbc.co.uk/news/magazine-20032531', 'https://web.archive.org/web/20130318055140/http://www.bbc.co.uk/worldserviceradio/help', 'https://web.archive.org/web/20080106140827/http://news.bbc.co.uk/1/hi/entertainment/4492820.stm', 'https://web.archive.org/web/20210430115953/https://www.similarweb.com/top-websites/category/news-and-media/', 'https://web.archive.org/web/20221019163415/https://www.ofcom.org.uk/__data/assets/pdf_file/0027/241947/News-Consumption-in-the-UK-2022-report.pdf', 'https://web.archive.org/web/20150125142437/http://www.bbc.co.uk/news/technology-10738882', 'https://web.archive.org/web/20210604190724/https://www.bbc.com/news/uk-politics-51530752', 'https://web.archive.org/web/20040708024137/http://news.bbc.co.uk/1/hi/world/europe/2220904.stm', 'https://web.archive.org/web/20110511111244/http://www.jpost.com/Headlines/Article.aspx?id=186893', 'https://web.archive.org/web/20190329032405/https://yougov.co.uk/topics/politics/articles-reports/2018/02/22/bbc-news-pro-brexit-or-anti-brexit', 'https://web.archive.org/web/20130908211553/http://www.rediff.com/news/2008/dec/14mumterror-mj-akbar-slams-bbc-for-biased-coverage-of-mumbai-terror-attack.htm', 'https://web.archive.org/web/20110515113814/http://www.indianexpress.com/storyOld.php?storyId=42169', 'https://web.archive.org/web/20150424230948/http://edition.cnn.com/2015/03/03/asia/india-rape-comment-outrage/index.html', 'https://web.archive.org/web/20170324180323/https://www.theguardian.com/politics/2013/jul/16/david-kelly-death-10-years-on', 'https://web.archive.org/web/20060315044309/http://news.bbc.co.uk/1/hi/entertainment/tv_and_radio/3890821.stm', 'https://web.archive.org/web/20040715042305/http://news.bbc.co.uk/1/hi/entertainment/tv_and_radio/3889595.stm', 'https://web.archive.org/web/20090123001938/http://news.bbc.co.uk/1/hi/world/middle_east/3827207.stm', 'https://web.archive.org/web/20061001075902/http://www.timesonline.co.uk/article/0,,1072-2174641,00.html', 'https://web.archive.org/web/20121024041913/http://www.jpost.com/Opinion/Columnists/Article.aspx?id=178724', 'https://web.archive.org/web/20231124132822/https://www.yahoo.com/entertainment/bbc-urgently-investigating-group-arab-173746683.html', 'https://web.archive.org/web/20170713124235/http://www.cbsnews.com/news/cbs-bbc-join-forces/', 'https://web.archive.org/web/20171011231855/https://photoarchivenews.com/news/the-bbc-drops-ap-for-afptv-ap-statement/', 'https://web.archive.org/web/20070930180629/http://www.afrol.com/News2002/zim040_joytv_bbc.htm', 'https://web.archive.org/web/20190202055243/http://www.bbc.co.uk/blogs/theeditors/2009/07/resuming_operations_in_zimbabw.html', 'https://web.archive.org/web/20051231214057/http://news.bbc.co.uk/2/hi/south_asia/4437494.stm', 'https://web.archive.org/web/20071016191018/http://boston.com/news/world/articles/2006/12/18/iran_bloggers_test_regimes_tolerance/', 'https://web.archive.org/web/20160128025853/http://www.theguardian.com/media/2015/jun/01/rwanda-places-indefinite-ban-on-bbc-broadcasts-over-genocide-documentary', 'https://web.archive.org/web/20170731190705/https://www.theguardian.com/us-news/2017/feb/24/media-blocked-white-house-briefing-sean-spicer', 'https://web.archive.org/web/20210418160439/https://indianexpress.com/article/india/kaziranga-film-bbc-banned-for-5-years-from-all-national-parks-sanctuaries-4613758/', 'https://web.archive.org/web/20210320110450/https://www.bbc.com/news/entertainment-arts-55931548', 'https://web.archive.org/web/20210213225430/https://edition.cnn.com/videos/business/2021/02/12/bbc-news-banned-china-cgtn-uk.cnnbusiness', 'https://web.archive.org/web/20231130214812/https://www.icij.org/investigations/cyprus-confidential/leaked-data-journalism-methodology/', 'https://web.archive.org/web/20231121093552/https://www.icij.org/investigations/cyprus-confidential/about-cyprus-confidential-investigation/', 'https://web.archive.org/web/20231214203142/https://www.icij.org/investigations/cyprus-confidential/cypriot-president-pledges-government-probe-into-cyprus-confidential-revelations/', 'https://web.archive.org/web/20231224114123/https://www.icij.org/investigations/cyprus-confidential/lawmakers-call-for-eu-crackdown-after-icijs-cyprus-confidential-revelations/', 'https://web.archive.org/web/20231214002320/https://www.icij.org/investigations/cyprus-confidential/cyprus-russia-eu-secrecy-tax-haven/', 'https://web.archive.org/web/20231224114126/https://knews.kathimerini.com.cy/en/news/finance-minister-perturbed-over-cyprus-confidential', 'https://www.irishtimes.com/business/financial-services/2023/11/15/cyprus-confidential-leaked-roman-abramovich-documents-raise-fresh-questions-for-chelsea-fc/', 'https://www.icij.org/investigations/cyprus-confidential/leaked-data-journalism-methodology/', 'https://www.icij.org/investigations/cyprus-confidential/about-cyprus-confidential-investigation/', 'https://www.icij.org/investigations/cyprus-confidential/', 'https://www.icij.org/investigations/cyprus-confidential/cypriot-president-pledges-government-probe-into-cyprus-confidential-revelations/', 'https://www.icij.org/investigations/cyprus-confidential/lawmakers-call-for-eu-crackdown-after-icijs-cyprus-confidential-revelations/', 'https://www.icij.org/investigations/cyprus-confidential/cyprus-russia-eu-secrecy-tax-haven/', 'https://knews.kathimerini.com.cy/en/news/finance-minister-perturbed-over-cyprus-confidential', 'https://archive.org/details/TV-BBCNEWS', 'https://web.archive.org/web/20231210180419/https://bbcnews.bbcstudios.com/platforms/bbc-news-tv/', 'https://bbcnews.bbcstudios.com/platforms/bbc-news-tv/', 'https://www.roscosmos.ru/25402/', 'https://www.gctc.ru/main.php?id=5146', 'https://astronaut.ru/as_rusia/2016/text/grebenkin.htm?reload_coolmenus', 'http://www.spacefacts.de/bios/cosmonauts/english/grebenkin_aleksandr.htm', 'http://www.roscosmos.ru/39477/', 'https://www.roscosmos.ru/25402/', 'https://www.gctc.ru/main.php?id=5146', 'https://astronaut.ru/as_rusia/2016/text/grebenkin.htm?reload_coolmenus', 'http://www.spacefacts.de/bios/cosmonauts/english/grebenkin_aleksandr.htm', 'http://www.roscosmos.ru/39477/']\n"
     ]
    }
   ],
   "source": [
    "import sys\n",
    "\n",
    "refs = []\n",
    "for alink in internal_links:\n",
    "    try:\n",
    "        page = wikipedia.page(wikipedia.search(alink, results=1)[0])\n",
    "        #print(page)\n",
    "        refs.extend(page.references)\n",
    "    except wikipedia.exceptions.PageError as e:\n",
    "        print(e, file=sys.stderr)\n",
    "\n",
    "print(refs)"
   ]
  },
  {
   "cell_type": "markdown",
   "metadata": {},
   "source": [
    "#### Question 2.4\n",
    "Extend your Python program to compute the average number of views for each astronaut's main article."
   ]
  },
  {
   "cell_type": "code",
   "execution_count": 40,
   "metadata": {},
   "outputs": [
    {
     "name": "stderr",
     "output_type": "stream",
     "text": [
      "en.wikipedia.org (querymore) Jasmin Moghbeli\n",
      "Jasmin Moghbeli (en) data\n",
      "{\n",
      "  backlinks: <list(92)> {'pageid': 199297, 'ns': 0, 'title': 'List...\n",
      "  categories: <list(19)> Category:1983 births, Category:American p...\n",
      "  contributors: 217\n",
      "  files: <list(8)> File:Commons-logo.svg, File:ISS Expedition 69 P...\n",
      "  languages: <list(25)> {'lang': 'ar', 'title': 'جاسمين مغبل'}, {'...\n",
      "  pageid: 54253250\n",
      "  requests: <list(1)> querymore\n",
      "  title: Jasmin Moghbeli\n",
      "  views: 744\n",
      "}\n",
      "en.wikipedia.org (querymore) Andreas Mogensen\n",
      "en.wikipedia.org (querymore) 22874912 (&blcontinue=0|7305976)\n",
      "en.wikipedia.org (querymore) 22874912 (&blcontinue=0|38412278)\n",
      "Andreas Mogensen (en) data\n",
      "{\n",
      "  backlinks: <list(1344)> {'pageid': 9955, 'ns': 0, 'title': 'Nitr...\n",
      "  categories: <list(10)> Category:1976 births, Category:21st-centu...\n",
      "  contributors: 134\n",
      "  files: <list(14)> File:Andreas Mogensen official portrait.jpg, F...\n",
      "  languages: <list(26)> {'lang': 'ar', 'title': 'أندرياس موغنسن'},...\n",
      "  pageid: 22874912\n",
      "  requests: <list(3)> querymore, querymore, querymore\n",
      "  title: Andreas Mogensen\n",
      "  views: 300\n",
      "}\n",
      "en.wikipedia.org (querymore) Satoshi Furukawa\n",
      "en.wikipedia.org (querymore) 6926351 (&blcontinue=0|8706128)\n",
      "en.wikipedia.org (querymore) 6926351 (&blcontinue=0|39581662)\n",
      "Satoshi Furukawa (en) data\n",
      "{\n",
      "  backlinks: <list(1306)> {'pageid': 9955, 'ns': 0, 'title': 'Nitr...\n",
      "  categories: <list(8)> Category:1964 births, Category:Aquanauts, ...\n",
      "  contributors: 83\n",
      "  files: <list(14)> File:Commons-logo.svg, File:Furukawa after lan...\n",
      "  languages: <list(26)> {'lang': 'ar', 'title': 'ساتوشي فوروكاوا'}...\n",
      "  pageid: 6926351\n",
      "  requests: <list(3)> querymore, querymore, querymore\n",
      "  title: Satoshi Furukawa\n",
      "  views: 137\n",
      "}\n",
      "en.wikipedia.org (querymore) Konstantin Borisov\n",
      "Konstantin Borisov (en) data\n",
      "{\n",
      "  backlinks: <list(24)> {'pageid': 199297, 'ns': 0, 'title': 'List...\n",
      "  categories: <list(7)> Category:1984 births, Category:21st-centur...\n",
      "  contributors: 31\n",
      "  files: <list(9)> File:Engineering.png, File:Flag of Russia.svg, ...\n",
      "  languages: <list(9)> {'lang': 'cs', 'title': 'Konstantin Borisov...\n",
      "  pageid: 71749426\n",
      "  requests: <list(1)> querymore\n",
      "  title: Konstantin Borisov\n",
      "  views: 134\n",
      "}\n",
      "en.wikipedia.org (querymore) Oleg Kononenko\n",
      "Oleg Kononenko (en) data\n",
      "{\n",
      "  backlinks: <list(198)> {'pageid': 664, 'ns': 0, 'title': 'Astron...\n",
      "  categories: <list(12)> Category:1964 births, Category:Commanders...\n",
      "  contributors: 172\n",
      "  files: <list(22)> File:'A Beautiful Planet' World Premiere (NHQ2...\n",
      "  languages: <list(31)> {'lang': 'ar', 'title': 'أوليغ كونونينكو'}...\n",
      "  pageid: 8659323\n",
      "  requests: <list(1)> querymore\n",
      "  title: Oleg Kononenko\n",
      "  views: 365\n",
      "}\n",
      "en.wikipedia.org (querymore) Nikolai Chub\n",
      "Nikolai Chub (en) data\n",
      "{\n",
      "  backlinks: <list(50)> {'pageid': 664, 'ns': 0, 'title': 'Astrona...\n",
      "  categories: <list(8)> Category:1984 births, Category:Astronaut s...\n",
      "  contributors: 35\n",
      "  files: <list(9)> File:Commons-logo.svg, File:Flag of Russia.svg,...\n",
      "  languages: <list(8)> {'lang': 'cs', 'title': 'Nikolaj Čub'}, {'l...\n",
      "  pageid: 66020268\n",
      "  requests: <list(1)> querymore\n",
      "  title: Nikolai Chub\n",
      "  views: 112\n",
      "}\n",
      "en.wikipedia.org (querymore) Loral O'Hara\n"
     ]
    },
    {
     "name": "stdout",
     "output_type": "stream",
     "text": [
      "296.14285714285717\n"
     ]
    },
    {
     "name": "stderr",
     "output_type": "stream",
     "text": [
      "Loral O'Hara (en) data\n",
      "{\n",
      "  backlinks: <list(83)> {'pageid': 664, 'ns': 0, 'title': 'Astrona...\n",
      "  categories: <list(11)> Category:1983 births, Category:21st-centu...\n",
      "  contributors: 75\n",
      "  files: <list(8)> File:Commons-logo.svg, File:Flag of Russia.svg,...\n",
      "  languages: <list(16)> {'lang': 'ar', 'title': 'لورال أشلي أوهارا...\n",
      "  pageid: 54253230\n",
      "  requests: <list(1)> querymore\n",
      "  title: Loral O'Hara\n",
      "  views: 281\n",
      "}\n"
     ]
    }
   ],
   "source": [
    "total = 0\n",
    "\n",
    "for astronaut in names:\n",
    "    page = wptools.page(astronaut)\n",
    "    total += page.get_more().data['views']\n",
    "    \n",
    "print(total / len(names))"
   ]
  },
  {
   "cell_type": "markdown",
   "metadata": {},
   "source": [
    "#### Question 2.5\n",
    "Export the extracted information in a CSV file having the following fields:\n",
    "\n",
    "`Astronaut's name ; Article's summary ; links separated by commas ; number of views`"
   ]
  },
  {
   "cell_type": "code",
   "execution_count": 41,
   "metadata": {},
   "outputs": [
    {
     "name": "stderr",
     "output_type": "stream",
     "text": [
      "en.wikipedia.org (query) Jasmin Moghbeli\n",
      "en.wikipedia.org (imageinfo) File:Jasmin Moghbeli official portrait.jpg\n",
      "Jasmin Moghbeli (en) data\n",
      "{\n",
      "  WARNINGS: <dict(1)> extracts\n",
      "  assessments: <dict(4)> Military history, Biography, Spaceflight,...\n",
      "  description: US astronaut\n",
      "  extext: <str(350)> **Jasmin Moghbeli** (born June 24, 1983) is a...\n",
      "  extract: <str(392)> <p class=\"mw-empty-elt\"></p><p><b>Jasmin Mog...\n",
      "  image: <list(2)> {'kind': 'query-pageimage', 'file': 'File:Jasmi...\n",
      "  label: Jasmin Moghbeli\n",
      "  length: 17,453\n",
      "  links: <list(92)> Achievement Medal, Aerospace engineering, Air ...\n",
      "  modified: <dict(1)> page\n",
      "  pageid: 54253250\n",
      "  random: Hebron Christian College\n",
      "  redirects: <list(1)> {'pageid': 62944494, 'ns': 0, 'title': 'Yas...\n",
      "  requests: <list(2)> query, imageinfo\n",
      "  title: Jasmin Moghbeli\n",
      "  url: https://en.wikipedia.org/wiki/Jasmin_Moghbeli\n",
      "  url_raw: https://en.wikipedia.org/wiki/Jasmin_Moghbeli?action=raw\n",
      "  watchers: 44\n",
      "  wikibase: Q30157740\n",
      "  wikidata_url: https://www.wikidata.org/wiki/Q30157740\n",
      "}\n",
      "en.wikipedia.org (querymore) 54253250\n",
      "Jasmin Moghbeli (en) data\n",
      "{\n",
      "  WARNINGS: <dict(1)> extracts\n",
      "  assessments: <dict(4)> Military history, Biography, Spaceflight,...\n",
      "  backlinks: <list(92)> {'pageid': 199297, 'ns': 0, 'title': 'List...\n",
      "  categories: <list(19)> Category:1983 births, Category:American p...\n",
      "  contributors: 217\n",
      "  description: US astronaut\n",
      "  extext: <str(350)> **Jasmin Moghbeli** (born June 24, 1983) is a...\n",
      "  extract: <str(392)> <p class=\"mw-empty-elt\"></p><p><b>Jasmin Mog...\n",
      "  files: <list(8)> File:Commons-logo.svg, File:ISS Expedition 69 P...\n",
      "  image: <list(2)> {'kind': 'query-pageimage', 'file': 'File:Jasmi...\n",
      "  label: Jasmin Moghbeli\n",
      "  languages: <list(25)> {'lang': 'ar', 'title': 'جاسمين مغبل'}, {'...\n",
      "  length: 17,453\n",
      "  links: <list(92)> Achievement Medal, Aerospace engineering, Air ...\n",
      "  modified: <dict(1)> page\n",
      "  pageid: 54253250\n",
      "  random: Hebron Christian College\n",
      "  redirects: <list(1)> {'pageid': 62944494, 'ns': 0, 'title': 'Yas...\n",
      "  requests: <list(3)> query, imageinfo, querymore\n",
      "  title: Jasmin Moghbeli\n",
      "  url: https://en.wikipedia.org/wiki/Jasmin_Moghbeli\n",
      "  url_raw: https://en.wikipedia.org/wiki/Jasmin_Moghbeli?action=raw\n",
      "  views: 744\n",
      "  watchers: 44\n",
      "  wikibase: Q30157740\n",
      "  wikidata_url: https://www.wikidata.org/wiki/Q30157740\n",
      "}\n",
      "+ query results in cache\n",
      "+ query results in cache\n",
      "en.wikipedia.org (query) Andreas Mogensen\n"
     ]
    },
    {
     "name": "stdout",
     "output_type": "stream",
     "text": [
      "Jasmin Moghbeli;**Jasmin Moghbeli** (born June 24, 1983) is an American U.S. Marine Corps test pilot and NASA astronaut. She is a graduate of the Massachusetts Institute of Technology, Naval Postgraduate School, and Naval Test Pilot School. Moghbeli was mission commander for SpaceX Crew-7 and flight engineer aboard the International Space Station for Expedition 69/70.;['Achievement Medal', 'Aerospace engineering', 'Air Medal', 'Arizona', 'Artemis program', 'Astronaut ranks and positions', 'Bachelor of Science', \"Bachelor's degree\", 'Bad Nauheim', 'Baldwin Senior High School (New York)', 'Bell AH-1 SuperCobra', 'Bell AH-1Z Viper', 'CBS Broadcasting', 'CBS News', 'California', 'Canadian Space Agency', 'Commendation Medal', 'Expedition 69', 'Expedition 70', 'Extravehicular activity', 'Flight engineer', 'Francisco Rubio (astronaut)', 'Houston Chronicle', 'Information technology', 'Instagram (identifier)', 'International Space Station', 'Jennifer Sidey', 'Jessica Watkins', 'Jonny Kim', 'Joshua Kutryk', 'Kayla Barron', 'Lieutenant colonel (United States)', 'List of United States Marine Corps astronauts', 'List of United States Space Force astronauts', 'List of astronauts by year of selection', \"Loral O'Hara\", 'MIT Engineers', 'Marine Corps Air Station Yuma', 'Mars', 'Maryland', 'Massachusetts Institute of Technology', 'Master of Science', \"Master's degree\", 'Matthew Dominick', 'Mercury Seven', 'Moon', 'NASA', 'NASA Astronaut Corps', 'NASA Astronaut Group 10', 'NASA Astronaut Group 11', 'NASA Astronaut Group 12', 'NASA Astronaut Group 13', 'NASA Astronaut Group 14', 'NASA Astronaut Group 15', 'NASA Astronaut Group 16', 'NASA Astronaut Group 17', 'NASA Astronaut Group 18', 'NASA Astronaut Group 19', 'NASA Astronaut Group 2', 'NASA Astronaut Group 20', 'NASA Astronaut Group 21', 'NASA Astronaut Group 22', 'NASA Astronaut Group 23', 'NASA Astronaut Group 3', 'NASA Astronaut Group 4', 'NASA Astronaut Group 5', 'NASA Astronaut Group 6', 'NASA Astronaut Group 7', 'NASA Astronaut Group 8', 'NASA Astronaut Group 9', 'NASA astronaut', 'Naval Air Station Patuxent River', 'Naval Postgraduate School', 'New York (state)', 'Nowruz', 'Officer (armed forces)', 'Persian language', 'Raja Chari', 'Robb Kulin', 'Robert Hines (astronaut)', 'Sortie', 'SpaceX Crew-7', 'The New Yorker', 'United States Marine Corps', 'United States Naval Test Pilot School', 'VMX-1', 'Valentina Tereshkova', 'War in Afghanistan (2001–2021)', 'Warren Hoburg', 'West Germany', 'William C. McCool', 'Zena Cardman'];744\n"
     ]
    },
    {
     "name": "stderr",
     "output_type": "stream",
     "text": [
      "en.wikipedia.org (query) Andreas Mogensen (&plcontinue=22874912|0...\n",
      "en.wikipedia.org (query) Andreas Mogensen (&plcontinue=22874912|0...\n",
      "en.wikipedia.org (imageinfo) File:Andreas Mogensen official portr...\n",
      "Andreas Mogensen (en) data\n",
      "{\n",
      "  WARNINGS: <dict(1)> extracts\n",
      "  aliases: <list(1)> Andreas Enevold Mogensen\n",
      "  assessments: <dict(4)> Biography, Spaceflight, Denmark, Scuba diving\n",
      "  description: Danish astronaut\n",
      "  extext: <str(654)> **Andreas Enevold \"Andy\" Mogensen** (born 2 N...\n",
      "  extract: <str(700)> <p class=\"mw-empty-elt\"></p><p><b>Andreas En...\n",
      "  image: <list(6)> {'kind': 'query-pageimage', 'file': 'File:Andre...\n",
      "  label: Andreas Mogensen\n",
      "  length: 18,043\n",
      "  links: <list(1444)> 14th CMAS Underwater Photography World Champ...\n",
      "  modified: <dict(1)> page\n",
      "  pageid: 22874912\n",
      "  random: Jerome Xaba\n",
      "  redirects: <list(1)> {'pageid': 74936524, 'ns': 0, 'title': 'And...\n",
      "  requests: <list(4)> query, query, query, imageinfo\n",
      "  title: Andreas Mogensen\n",
      "  url: https://en.wikipedia.org/wiki/Andreas_Mogensen\n",
      "  url_raw: https://en.wikipedia.org/wiki/Andreas_Mogensen?action=raw\n",
      "  wikibase: Q499636\n",
      "  wikidata_url: https://www.wikidata.org/wiki/Q499636\n",
      "}\n",
      "en.wikipedia.org (querymore) 22874912\n",
      "en.wikipedia.org (querymore) 22874912 (&blcontinue=0|7305976)\n",
      "en.wikipedia.org (querymore) 22874912 (&blcontinue=0|38412278)\n",
      "Andreas Mogensen (en) data\n",
      "{\n",
      "  WARNINGS: <dict(1)> extracts\n",
      "  aliases: <list(1)> Andreas Enevold Mogensen\n",
      "  assessments: <dict(4)> Biography, Spaceflight, Denmark, Scuba diving\n",
      "  backlinks: <list(1344)> {'pageid': 9955, 'ns': 0, 'title': 'Nitr...\n",
      "  categories: <list(10)> Category:1976 births, Category:21st-centu...\n",
      "  contributors: 134\n",
      "  description: Danish astronaut\n",
      "  extext: <str(654)> **Andreas Enevold \"Andy\" Mogensen** (born 2 N...\n",
      "  extract: <str(700)> <p class=\"mw-empty-elt\"></p><p><b>Andreas En...\n",
      "  files: <list(14)> File:Andreas Mogensen official portrait.jpg, F...\n",
      "  image: <list(6)> {'kind': 'query-pageimage', 'file': 'File:Andre...\n",
      "  label: Andreas Mogensen\n",
      "  languages: <list(26)> {'lang': 'ar', 'title': 'أندرياس موغنسن'},...\n",
      "  length: 18,043\n",
      "  links: <list(1444)> 14th CMAS Underwater Photography World Champ...\n",
      "  modified: <dict(1)> page\n",
      "  pageid: 22874912\n",
      "  random: Jerome Xaba\n",
      "  redirects: <list(1)> {'pageid': 74936524, 'ns': 0, 'title': 'And...\n",
      "  requests: <list(7)> query, query, query, imageinfo, querymore, q...\n",
      "  title: Andreas Mogensen\n",
      "  url: https://en.wikipedia.org/wiki/Andreas_Mogensen\n",
      "  url_raw: https://en.wikipedia.org/wiki/Andreas_Mogensen?action=raw\n",
      "  views: 300\n",
      "  wikibase: Q499636\n",
      "  wikidata_url: https://www.wikidata.org/wiki/Q499636\n",
      "}\n",
      "+ query results in cache\n",
      "+ query results in cache\n",
      "en.wikipedia.org (query) Satoshi Furukawa\n"
     ]
    },
    {
     "name": "stdout",
     "output_type": "stream",
     "text": [
      "Andreas Mogensen;**Andreas Enevold \"Andy\" Mogensen** (born 2 November 1976) is a Danish engineer and ESA astronaut who is best known for being the first Dane to fly in space as part of the European Space Agency's Iriss program. Mogensen has also been involved in a number of other space-related projects throughout his career, including working as a test engineer for ESTEC and as a member of the European Astronaut Corps. In addition to his work with ESA, he has also worked with NASA and other international space agencies. Mogensen returned to space in August 2023 for his second spaceflight to the ISS onboard SpaceX Crew Dragon as the first non-American to serve as a pilot.;['14th CMAS Underwater Photography World Championship', '1973 Mount Gambier cave diving accident', '1992 cageless shark-diving expedition', '2022 European Space Agency Astronaut Group', '8A4-class ROUV', 'AAI underwater revolver', 'ABISMO', 'ADS amphibious rifle', 'AIDA Hellas', 'AIDA International', 'AP Diving', 'APS underwater rifle', 'ASM-DT amphibious rifle', 'ASRV Remora', 'Abrasive waterjet', 'Acta Astronautica', 'Activated carbon', 'Adrian Biddle', 'Advanced Open Water Diver', 'Advanced SEAL Delivery System', 'Aeronautical Engineering', 'Aerosinusitis', 'Aerospace Engineering', 'Aerospace Medical Association', 'Aerospace engineer', 'Agnes Milowka', 'Aharon Solomons', 'Aidyn Aimbetov', 'Air embolism', 'Air line', 'Air spread', 'Air-lock', 'Airlift (dredging device)', 'Akihiko Hoshide', 'Albert A. Bühlmann', 'Albert D. Stover', 'Albert Falco', 'Albert R. Behnke', 'Albert Tillman', 'Alessia Zecchini', 'Alexander Gerst', 'Alexey Molchanov', 'Alf O. Brubakk', 'Allan Bridge', 'Alpazat cave rescue', 'Alternative air source', 'Alternobaric vertigo', 'Altitude diving', 'Aluminaut', 'Ama (diving)', 'Amelia Behrens-Furniss', 'American Academy of Underwater Sciences', 'American Canadian Underwater Certifications', 'American Nitrox Divers International', 'American submarine NR-1', 'Anders Franzén', 'Andreas Rechnitzer', 'Andrew Abercromby', 'Andrew J. Feustel', 'Andrew Wight', 'Andriy Yevhenovych Khvetkevych', 'André Kuipers', 'Andy Torbet', 'Ankle weights (diving)', 'Anna Marguerite McCann', 'Annelie Pompe', 'Anti-fog', 'Anxiety', 'Apeks', 'Apnoea finswimming', 'Aqua Lung America', 'Aqua Lung/La Spirotechnique', 'Aqua-Lung', 'Aquanaut', 'Aquarius (laboratory)', 'Aquarius Reef Base', 'Aquathlon (underwater wrestling)', 'Archaeology of shipwrecks', 'Archimède', 'Aristotelis Zervoudis', 'Army engineer diver', 'Arne Zetterström', 'Arthur C. Clarke', 'Arthur J. Bachrach', 'Artificial Reef Society of British Columbia', 'Artur Kozłowski (speleologist)', 'Ascending and descending (diving)', 'Asphyxia', 'Association nationale des moniteurs de plongée', 'Association of Diving Contractors International', 'Astronaut', 'Atlantis ROV Team', 'Atmospheric diving suit', 'Atmospheric pressure diving', 'Atrial septal defect', 'Audrey Mestre', 'Auguste Denayrouze', 'Auguste Piccard', 'Augustus Siebe', 'Australian Diver Accreditation Scheme', 'Australian Underwater Federation', 'Autonomous diver', 'Avascular necrosis', 'Bailout block', 'Bailout bottle', 'Bailout gas', 'Baited remote underwater video', 'Band mask', 'Barodontalgia', 'Barostriction', 'Barotrauma', 'Basic Cave Diving: A Blueprint for Survival', 'Basic Scuba', 'Bathyscaphe', 'Bathyscaphe Trieste II', 'Bathysphere', 'Bell cursor', 'Bellman (diving)', 'Ben Cropp', 'Benign water diving', \"Bennett and Elliott's physiology and medicine of diving\", 'Bernard Delemotte', 'Berry L. Cannon', 'Beuchat', 'Bill Nagle', 'Bill Todd', 'Billy Deans (diver)', 'Black-water diving', 'Blue-water diving', 'Boarding stirrup', 'Boat diving', 'Bob Behnken', 'Bob Halstead', 'Bolt snap', 'Booster pump', 'Bottom gas', 'Bottom timer', 'Breathing air', 'Breathing gas', 'Breathing gas quality', 'Breathing performance of regulators', 'Bret Gilliam', 'Brian Andrew Hills', 'Brian Skerry', 'British Freediving Association', 'British Octopush Association', 'British Sub-Aqua Club', 'British Underwater Sports Association', 'Buddy breathing', 'Buddy check', 'Buddy diving', 'Buddy line', 'Built-in breathing system', 'Buoyancy compensator (diving)', 'Burst disc', 'Byford Dolphin', 'Bühlmann decompression algorithm', 'CMAS Europe', 'CMAS* scuba diver', 'CMAS** scuba diver', 'CUMA', 'CURV', 'Canadian Armed Forces Divers', 'Candice Farmer', 'Canoe and kayak diving', 'Carbon dioxide scrubber', 'Carbon monoxide poisoning', 'Carleton CDBA', 'Carlos Coste', 'Cascade filling system', 'Catherine Coleman', 'Cathy Church', 'Cave Divers Association of Australia', 'Cave Diving Group', 'Cave diving', 'Cavitation cleaning', 'Chamber operator', 'Charles Anthony Deane', 'Charles Momsen', 'Charles Spalding', 'Charles T. Meide', 'Charles Wesley Shilling', 'Checklist', 'Chris Hadfield', 'Christer Fuglesang', 'Christian J. Lambertsen', 'Christopher E. Gerty', 'Cis-Lunar', 'Civil liability in recreational diving', 'Claude Nicollier', 'Claudia Serpieri', 'Claudie Haigneré', 'Clayton Anderson', 'Cleaning and disinfection of personal diving equipment', 'Clearance Divers Life Support Equipment', 'Clearance Diving Branch (RAN)', 'Clearance diver', 'Clive Cussler', 'Closed bell', 'Clump weight', 'Cláudio Coutinho', 'Code of Practice for Scientific Diving (UNESCO)', 'Code of practice', 'Cold shock response', 'Columbus Control Centre', 'Comando Raggruppamento Subacquei e Incursori Teseo Tesei', 'Combat Rubber Raiding Craft', 'Combat sidestroke', 'Comhairle Fo-Thuinn', 'Commando Hubert', 'Commercial diver', 'Commercial diver registration in South Africa', 'Commercial diver training', 'Commercial offshore diver', 'Commercial offshore diving', \"Compagnie maritime d'expertises\", 'Competence (human resources)', 'Competency-based learning', 'Compression arthralgia', 'Confined water diving', 'Confédération Mondiale des Activités Subaquatiques', 'Constant weight', 'Constant weight bi-fins', 'Constant weight without fins', 'Continental Shelf Station Two', 'Contingency plan', 'Convention on the Protection of the Underwater Cultural Heritage', 'Copenhagen', 'Copenhagen International School', 'Copenhagen Suborbitals', 'Coral Reef Alliance', 'Cosmos CE2F series', 'Cotton Coulson', 'Craig B. Cooper', 'Craig Challen', 'Craig M. Hoffman', 'Craig McKinley (physician)', 'Cramp', 'Cressi-Sub', 'Cristina Zenato', 'Cryogenic rebreather', 'DESCO', 'DIN 7876', 'DSEA', 'DSRV-1 Mystic', 'DSRV-2 Avalon', 'DSV Alvin', 'DSV Limiting Factor', 'DSV Sea Cliff', 'DSV Shinkai', 'DSV Shinkai 2000', 'DSV Shinkai 6500', 'DSV Turtle', 'DSV-5 Nemo', 'Dacor (scuba diving)', 'Dafydd Williams', 'Danai Varveri', 'Daniel M. Tani', 'Danish Meteorological Institute', 'Danish royal family', 'Dave Mullins (freediver)', 'Dave Shaw (diver)', 'David Attenborough', 'David Bright (diver)', 'David Doubilet', 'David Gibbins', 'David Gruber', 'David Saint-Jacques', 'Davis Submerged Escape Apparatus', 'Death of Bradley Westell', 'Death of Steve Irwin', 'Deborah Andollo', 'Decima Flottiglia MAS', 'Decompression (diving)', 'Decompression buoy', 'Decompression chamber', 'Decompression cylinder', 'Decompression equipment', 'Decompression gas', 'Decompression illness', 'Decompression practice', 'Decompression sickness', 'Decompression tables', 'Decompression theory', 'Decompression trapeze', 'Deep Drone', 'Deep diving', 'Deep-sea exploration', 'Deep-submergence rescue vehicle', 'Deep-submergence vehicle', 'Deep-water blackout', 'Deepsea Challenger', 'Defence Diving School', 'Defense against swimmer incursions', 'Delta-P (hazard)', 'Demand valve oxygen therapy', 'Dental barotrauma', 'Deon Dreyer', 'Department of Employment and Labour', 'Depth gauge', 'Derya Can Göçen', 'Devrim Cenk Ulusoy', 'Dewey Smith', 'Diamond Reef System', 'Dick Rutkowski', 'Distance line', 'Dive Xtras', 'Dive boat', 'Dive briefing', 'Dive center', 'Dive computer', 'Dive guide (publication)', 'Dive leader', 'Dive light', 'Dive log', 'Dive planning', 'Dive reel', 'Dive skins', 'Dive timer', 'Divemaster', 'Diver communications', 'Diver detection sonar', 'Diver down flag', 'Diver lift', 'Diver medical technician', 'Diver navigation', 'Diver organisations', 'Diver propulsion vehicle', 'Diver rescue', 'Diver training', 'Diver training organization', 'Diver training standard', 'Diver trim', \"Diver's attendant\", \"Diver's cutting tool\", \"Diver's knife\", \"Diver's pump\", \"Diver's telephone\", \"Diver's umbilical\", 'Divers Academy International', 'Divers Alert Network', 'Divers Institute of Technology', 'Diversnight', 'Divex', 'Diving (sport)', 'Diving Diseases Research Centre', 'Diving Medical Advisory Council', 'Diving Medical Examiner', 'Diving Medical Practitioner', 'Diving Medical Technician', 'Diving Science and Technology', 'Diving Unlimited International', 'Diving activities', 'Diving air compressor', 'Diving air filter', 'Diving bell', 'Diving chamber', 'Diving compass', 'Diving contractor', 'Diving cylinder', 'Diving disorders', 'Diving environment', 'Diving equipment', 'Diving hazards', 'Diving helmet', 'Diving in East Timor', 'Diving in the Maldives', 'Diving instructor', 'Diving ladder', 'Diving mask', 'Diving medicine', 'Diving mode', 'Diving physics', 'Diving physiology', 'Diving platform (scuba)', 'Diving procedures', 'Diving rebreather', 'Diving reflex', 'Diving regulations', 'Diving regulator', 'Diving safety', 'Diving safety harness', 'Diving safety officer', 'Diving school', 'Diving shot', 'Diving spread', 'Diving stage', 'Diving suit', 'Diving superintendent', 'Diving supervisor', 'Diving support equipment', 'Diving support vessel', 'Diving systems technician', 'Diving team', 'Diving watch', 'Diving weighting system', 'Doctor of Philosophy', 'Doi (identifier)', 'Doing It Right (scuba diving)', 'Dominic Landucci', 'Dorothy Metcalf-Lindenburger', 'Dottie Frazier', 'Doug Allan', 'Douglas H. Wheelock', 'Downline (diving)', 'Drift diving', 'Drill Master diving accident', 'Drowning', 'Dry Combat Submersible', 'Dry suit', 'Dräger Dolphin', 'Dräger Ray', 'Drägerwerk', 'Dump valve (diving)', 'Duty of care', 'Dynamic apnea', 'Dynamic apnea without fins', 'Dysbaric osteonecrosis', 'Dysbarism', 'E. Lee Spence', 'E. Yale Dawson', 'EADS Astrium', 'ENOS Rescue-System', 'ESA', 'ESA CAVES', 'ESA PANGAEA', 'ESTEC', 'Ear clearing', 'Ebenezer Watson', 'Eduard Admetlla i Lázaro', 'Edward D. Thalmann', 'Edwin Clayton Link', 'Effects of drugs on fitness to dive', 'Electro-galvanic oxygen sensor', 'Elisabeth Kristoffersen', 'Emergency ascent', 'Emergency gas supply', 'Emergency locator beacon', 'Emergency response plan', 'Emma Farrell (freediver)', 'Emma Hwang', 'Encyclopedia of Recreational Diving', 'Entanglement (hazard)', 'Environmental impact of recreational diving', 'Enzo Maiorca', 'Equivalent air depth', 'Equivalent narcotic depth', 'Eric Cheng', 'Ernest William Moir', 'Esbjörn Svensson', 'Escape set', 'Escape trunk', 'Eugenie Clark', 'European Astronaut Centre', 'European Astronaut Corps', 'European Diving Technology Committee', 'European Space Agency', 'European Underwater Federation', 'European Underwater and Baromedical Society', 'European contribution to the International Space Station', 'Expedition 69', 'Expedition 70', 'FNRS-2', 'FNRS-3', 'Fabien Cousteau', 'Fatma Uruk', 'Federación Española de Actividades Subacuáticas', 'Federazione Italiana Attività Subacquee', 'Felix Hoppe-Seyler', 'Fenzy', 'Fernando Garfella Palmer', 'Finger Lakes Underwater Preserve Association', 'Finning techniques', 'Finswimming', 'First aid', 'Fitness to dive', 'Flavia Eberhard', 'Francis P. Hammerberg', 'Francisco Ferreras', 'Frank De Winne', 'François de Roubaix', 'Free immersion', 'Free-flow helmet', 'Freediving', 'Freediving blackout', 'Freeflow', 'French federation of underwater studies and sports', 'Frenzel maneuver', 'Frogman', 'Frogman Corps (Denmark)', 'Fuerzas Especiales', 'Fukuryu', 'Full-face diving mask', 'Full-face mask', \"Fédération Française d'Études et de Sports Sous-Marins\", 'GRUMEC', 'Garrett Reisman', 'Gary Gentile', 'Gas blending', 'Gas blending for scuba diving', 'Gas man', 'Gas panel', 'Gas reclaim system', 'Gas storage bank', 'Gas storage quad', 'Gas storage tube', 'Gennady Padalka', 'George Bass (archaeologist)', 'George F. Bond', 'George R. Fischer', 'Georges Beuchat', 'Gerard Anthony Prangley', 'Gerhard Thiele', 'Giovanni Alfonso Borelli', 'Global Explorer ROV', 'Global Underwater Explorers', 'Glossary of underwater diving terminology', 'Goldfinder', 'Goldfish-class ROUV', 'Goran Čolak', 'Gordon Smith (inventor)', 'Graham Balcombe', 'Graham Jessop', 'Green Fins', 'Gregory Chamitoff', 'Grup Gerak Khas', 'Guillaume Néry', 'Gunter Schöbel', 'Guy Garman', 'Guybon Chesney Castell Damant', 'Gyrojet', 'HMS Challenger (K07)', 'HMS Royal George (1756)', 'Haenyeo', 'Halcyon PVR-BASC', 'Halcyon RB80', \"Haldane's decompression model\", 'Half mask', 'Hans Hass', 'Hans Hass Award', 'Hans Schlegel', 'Hawaiian sling', 'Hazard analysis', 'Hazmat diver', 'Hazmat diving', 'Hdl (identifier)', 'Health and Safety Executive', 'Heckler & Koch P11', 'Heidemarie Stefanyshyn-Piper', 'Heinke (diving equipment manufacturer)', 'HeinrichsWeikamp', 'Helgoland Habitat', 'Helicopter Aircrew Breathing Device', 'Heliox', 'Helium analyzer', 'Helium release valve', 'Helix Energy Solutions Group', 'Hellerup', 'Henry Fleuss', 'Henry Valence Hempleman', 'Henry Way Kendall', 'Herbert Nitsch', 'Hervé Stevenin', 'Hierarchy of hazard controls', 'High pressure breathing air compressor', 'High-pressure nervous syndrome', 'Hillary Hauser', 'History of Diving Museum', 'History of decompression research and development', 'History of scuba diving', 'History of underwater diving', 'Honor Frost', 'Hookah (diving)', 'Hopcalite', 'Hot water system (diving)', 'Hot-water suit', 'Hugh Bradner', 'Human factors in diving equipment design', 'Human factors in diving safety', 'Human torpedo', 'Hydreliox', 'Hydrogen narcosis', 'Hydrostatic test', 'Hydrox (breathing gas)', 'Hyperbaric evacuation and rescue', 'Hyperbaric lifeboat', 'Hyperbaric medicine', 'Hyperbaric nursing', 'Hyperbaric stretcher', 'Hyperbaric treatment schedules', 'Hyperbaric welding', 'Hypercapnia', 'Hyperoxia', 'Hyperthermia', 'Hypocapnia', 'Hypothermia', 'Hypoxia (medical)', 'IDA71', 'IMCA Code of Practice for Offshore Diving', 'ISO 24801 Recreational diving services — Requirements for the training of recreational scuba divers', 'ISS', 'ISSN (identifier)', 'Ian Edward Fraser', 'Ice diving', 'Ictineu 3', 'Immersion diuresis', 'Immersion finswimming', 'Imperial College London', 'In-water recompression', 'In-water surface cleaning', 'Incident pit', 'Independent doubles', 'Index of recreational dive sites', 'Index of underwater divers', 'Index of underwater diving', 'Ingeniøren', 'Inland diving', 'Inner ear decompression sickness', 'Innes McCartney', 'Inshore diving', 'Instinctive drowning response', 'Instituto Superior Tecnico', 'Integrated weights', 'International Association for Handicapped Divers', 'International Association of Nitrox and Technical Divers', 'International Baccalaureate', 'International Diving Regulators and Certifiers Forum', 'International Diving Schools Association', 'International Life Saving Federation', 'International Marine Contractors Association', 'International Scuba Diving Hall of Fame', 'International Submarine Escape and Rescue Liaison Office', 'Interspiro DCSC', 'Introductory diving', 'Investigation of diving accidents', 'Isobaric counterdiffusion', 'Israeli Diving Federation', 'Ivan Tors', 'J. Lamar Worzel', 'JAGO (German research submersible)', 'JIM suit', 'JW Formoza', 'JW GROM', 'JW Komandosów', 'Jack Sheppard (cave diver)', 'Jackstay', 'Jackstay (diving)', 'Jacques Cousteau', 'Jacques Mayol', 'Jacques Triger', 'Jagdkommando', 'James F. Cahill', 'James Joseph Magennis', 'James P. Delgado', 'James Talacek', 'Jarrod Jablonski', 'Jason deCaires Taylor', 'Jean-François Clervoy', 'Jean-Michel Cousteau', 'Jean-Pierre Haigneré', 'Jeanette Epps', 'Jeffrey Williams (astronaut)', 'Jeremy Hansen', 'Jersey upline', 'Jerónimo de Ayanz y Beaumont', 'Jessica Meir', 'Jiaolong (submersible)', 'Jill Heinerth', 'Jim Bowden (diver)', 'Jim Jones (American football, born 1935)', 'Joachim Wendler', 'Job safety analysis', 'Jochen Hasenmayer', 'Joe Savoie', 'John Bennett (diver)', 'John Chatterton', 'John Christopher Fine', 'John D. Craig', 'John D. Olivas', 'John Day (carpenter)', 'John Deane (inventor)', 'John Ernest Williamson', 'John Herrington', 'John Lethbridge', 'John Mattera', 'John Morgan Wells', 'John Peter Oleson', 'John R. Clarke (scientist)', 'John Rawlins (Royal Navy officer)', 'John Scott Haldane', 'John Veltri', 'John Volanthen', 'Johnson Outdoors', 'Johnson Sea Link accident', 'Jon Lindbergh', 'Jonathan Bird', 'Jonathan Dory', 'Jonline', 'Josef Schmid (flight surgeon)', 'Josef Velek', 'Joseph B. MacInnis', 'Joseph M. Acaba', 'Joseph Salim Peress', 'Joseph-Martin Cabirol', 'José M. Hernández', 'Justin Brown (aquanaut)', 'K. Megan McArthur', 'KOPASKA', 'Kaikō ROV', 'Karen Kohanowich', 'Karen Nyberg', 'Karl Heinrich Klingert', 'Karol Meyer', 'Karst Underwater Research', 'Kate Middleton (free-diver)', 'Kathleen Rubins', 'Kaşif ROUV', 'Keith Jessop', 'Kenneth William Donald', 'Kimiya Yui', 'Kirsty MacColl', 'Kjell N. Lindgren', 'Koichi Wakata', 'Kommando Spezialkräfte Marine', 'Konsul-class submersible', 'Kronan (ship)', 'Krzysztof Starnawski', 'LAR-5', 'LAR-6', 'LAR-V', 'LEGO', 'LR5', 'LR7', 'La Belle (ship)', 'Lambertsen Amphibious Respiratory Unit', 'Laryngospasm', 'Launch and recovery system (diving)', 'Leigh Bishop', 'Leni Riefenstahl', 'Leonard Erskine Hill', \"Leonardo D'Imporzano\", 'Les Kaufman', 'Life support technician', 'Life-support system', 'Lifeline (diving)', 'Lifting bag', 'Lightweight demand helmet', 'Limpet mine', 'Line marker', 'Lionel Crabb', 'List of Divers Alert Network publications', 'List of astronauts by selection', 'List of astronauts by year of selection', 'List of diver certification organizations', 'List of diving environments by type', 'List of diving hazards and precautions', 'List of legislation regulating underwater diving', 'List of military diving units', 'List of researchers in diving physiology and medicine', 'List of researchers in underwater diving', 'List of signs and symptoms of diving disorders', 'List of wreck diving sites', 'Lithuanian Special Operations Force', 'Liv Philip', 'Liveaboard', 'Lockout–tagout', 'London Diving Chamber Dive Lectures', 'Long-Term Mine Reconnaissance System', 'Lothar Michael Ward', 'Louis Boutan', 'Louis de Corlieu', 'Low Impact Diver', 'Low impact diving', 'Low pressure breathing air compressor', 'Loïc Leferme', 'Luca Parmitano', 'Luigi Ferraro (naval officer)', 'Luis Marden', 'Lyons Maritime Museum', 'Lyuba Ognenova-Marinova', 'Léopold Eyharts', 'MARCOS', 'MSM-1', 'Magnesium torch', 'Man in the Sea Museum', 'Mandy-Rae Cruickshank', 'Manifolded twin set', 'Marc Reagan', 'Marco Alain Sieber', 'Marcus Wandt', 'Mares (scuba equipment)', 'Margaret Rule', 'Marianne Merchez', 'Marine Commandos', 'Marine Raider Regiment', 'Marine construction', 'Marinejegerkommandoen', 'Mark Ellyatt', 'Mark Hulsbeck', 'Mark IV Amphibian', 'Mark M. Newell', 'Mark T. Vande Hei', 'Martin Štěpánek (free-diver)', 'Martyn Farr', 'Mary Bonnin', 'Mary Rose', 'Master Instructor', 'Master Scuba Diver', 'Master diver (United States Navy)', 'Master of Engineering', 'Matthias Maurer', 'Maurice Fargues', 'Maurice Fernez', 'Maurizio Cheli', 'Maximum operating depth', 'McCann Rescue Chamber', 'Mechanism of diving regulators', 'Media diver', 'Media diving', 'Mehgan Heaney-Grier', 'Membrane gas separation', 'Mendel L. Peterson', 'Mensun Bound', 'Messenger line', 'Metre sea water', 'Michael Arbuthnot', 'Michael Barratt (astronaut)', 'Michael Board', 'Michael C. Barnette', 'Michael Fincke', 'Michael L. Gernhardt', 'Michael López-Alegría', 'Michel Tognini', 'Michele Westmorland', 'Middle ear barotrauma', 'Milan Dufek', 'Military diver training', 'Military diving', 'Minedykkerkommandoen', 'Minentaucher', 'Mini Rover ROV', 'Mir (submersible)', 'Mission 31', 'Mk 1 Underwater Defense Gun', 'Modulated ultrasound', 'Molecular sieve', 'Momsen lung', 'Monofin', 'Monty Halls', 'Moon pool', 'Morse Diving', 'Motion sickness', 'Motorised Submersible Canoe', 'Mountaineering', 'Muck diving', 'Muscle memory', 'Myriam Seco', 'Mystic-class deep-submergence rescue vehicle', 'NASA', 'NASASpaceFlight.com', 'NATO Submarine Rescue System', 'NEEMO', 'NOAA Diving Manual', 'NOGI Awards', 'Namibian Marine Corps', 'Natalia Molchanova', 'Nataliia Zharkova', 'National Academy of Scuba Educators', 'National Association of Underwater Instructors', 'National Board of Diving and Hyperbaric Medical Technology', 'National Oceanic and Atmospheric Administration', 'National Speleological Society', 'Nautical Archaeology Program', 'Nautical Archaeology Society', 'Nautile', 'Nautilus Productions', 'Naval Air Command Sub Aqua Club', 'Naval Diving Unit (Singapore)', 'Naval Service Diving Section', 'Naval Special Operations Command', 'Naval Submarine Medical Research Laboratory', 'Naval Support Activity Panama City', 'Navy diver (United States Navy)', 'Neal W. Pollock', 'Necker Nymph', 'Nederlandse Onderwatersport Bond', 'Nemrod', 'Neutral Buoyancy Laboratory', 'Neutral Buoyancy Simulator', 'Neutral buoyancy', 'Neutral buoyancy pool', 'Neutral buoyancy simulation as a training aid', 'Neville Coleman', 'Newtsuit', 'Nicholas Mevoli', 'Nicholas Patrick', 'Nicole Stott', 'Night diving', 'Nikolai Tikhonov (cosmonaut)', 'Nikonos', 'Nitrogen narcosis', 'Nitrox', 'Nitrox production', 'No-limits apnea', 'Noel Monkman', 'Non-freezing cold injury', 'Nondestructive testing', 'Nordic Deep', 'Norishige Kanai', 'Nuno Gomes (diver)', 'Oberpfaffenhofen', 'Occupational safety and health', 'Ocean current', 'Oceanic Worldwide', 'Octopus regulator', 'Octopus wrestling', 'Offshore construction', 'Offshore diving', 'Offshore survey', 'Open Water Diver', 'Open-circuit scuba', 'Open-water diving', 'OpenROV', 'Operational Diving Division (SA Navy)', 'Operations manual', 'Orinasal mask', 'Oscar Gugen', 'Outline of recreational dive sites', 'Outline of underwater divers', 'Outline of underwater diving', 'Overconfidence effect', 'Overlearning', 'Oxygen', 'Oxygen analyser', 'Oxygen compatibility', 'Oxygen therapy', 'Oxygen toxicity', 'Oxygen window', 'Pablo Álvarez Fernández', 'Panic', 'Paolo Nespoli', 'Pascal Bernabé', 'Patrick Musimu', 'Paul Bert', 'Paul Hill (flight director)', 'Paul Rose (TV presenter)', 'Pearl hunting', 'Pearling in Western Australia', 'Pedro Duque', 'Peggy Whitson', 'Penetration diving', 'Peppo Biscarini', 'Per Skipnes', 'Performance Freediving International', 'Permit To Work', 'Pete Oxford', 'Peter B. Bennett', 'Peter Gimbel', 'Peter Henry Michael Holmes', 'Peter Kreeft (diver)', 'Peter Scoones', 'Peter Throckmorton', 'Philippe Cousteau', 'Philippe Diolé', 'Philippe Perrin', 'Philippe Tailliez', 'Physiological response to water immersion', 'Physiology of decompression', 'Pierre Frolla', 'Pierre Petit (photographer)', 'Pierre-Marie Touboulic', 'Pigging', 'Pilar Luna', 'Pisces-class deep submergence vehicle', 'Pneumofathometer', 'Polespear', 'Police diver', 'Police diving', 'Pony bottle', 'Porpoise (scuba gear)', 'Potable water diving', 'Power inflator', 'PowerSwim', 'Powerhead (firearm)', 'Pressure swing adsorption', 'Pressure washing', 'Priz-class deep-submergence rescue vehicle', 'Professional Association of Diving Instructors', \"Professional Diver's Handbook\", 'Professional Diving Instructors Corporation', 'Professional Technical and Recreational Diving', 'Professional diving', 'Project AWARE', 'Psychological fitness to dive', 'Public safety diver', 'Public safety diver training', 'Public safety diving', 'Pulmonary barotrauma', 'Pyle stop', 'QBS-06', \"Queen Anne's Revenge\", 'Quintana Roo Speleological Survey', 'R-2 Mala-class swimmer delivery vehicle', 'RMS Lusitania', 'ROV KIEL 6000', 'ROV PHOCA', 'RV Calypso', 'Raid on Alexandria (1941)', 'Ramón Bravo', 'Randolph Bresnik', 'Raphaël Liégeois', 'Rash vest', 'Ratio decompression', 'Rebreather Association of International Divers', 'Rebreather diving', 'Reclaim helmet', 'Recreational Dive Planner', 'Recreational dive sites', 'Recreational diver training', 'Recreational diving', 'Recreational scuba certification levels', 'Reduced gradient bubble model', 'Redundancy (engineering)', 'Reef Check', 'Reef Life Survey', 'Refresher training (diving)', 'Regulator freeze', 'Regulator malfunction', 'Reid Wiseman', 'Reinhold Ewald', 'Remotely operated underwater vehicle', 'René Cavalero', 'Rescue Diver', 'Rescue tether', 'Research and development', 'Reserve gas supply (diving)', 'Rex J. Walheim', 'Ric Frazier', 'Ricardo Armbruster', 'Richard A. Walker', 'Richard Harris (anaesthetist)', 'Richard Pyle', 'Richard R. Arnold', 'Richie Kohler', 'Rick Stanton', 'Risk assessment', 'Risk control', 'Risk management', 'Rob Stewart (filmmaker)', 'Robert A. Barth', 'Robert Ballard', 'Robert Boyle', 'Robert Croft (diver)', 'Robert F. Marx', 'Robert John Smyth', 'Robert Sheats', 'Robert Sténuit', 'Robert Thirsk', 'Robert William Hamilton Jr.', 'Roberto Vittori', 'Robin Cook (American novelist)', 'Rodney Fox', 'Roger Baldwin (diver)', 'Ron Taylor (diver)', 'Ronald J. Garan Jr.', 'Rosemary Coogan', 'Royal Australian Navy School of Underwater Medicine', 'Royal Engineers', 'Royal Medal of Recompense', 'Royal Navy ships diver', 'Rubicon Foundation', 'Rudie Kuiter', 'Rugby football', 'Rugged compact camera', 'Rule of thirds (diving)', 'Russian commando frogmen', 'Russian deep submergence rescue vehicle AS-28', 'Russian submarine AS-34', 'Russian submarine Losharik', 'Rygaards International School', 'S2CID (identifier)', 'SEAL Delivery Vehicle', 'SEALAB', 'SJT-class ROUV', 'SP-350 Denise', 'SPP-1 underwater pistol', 'SRV-300', 'SS Commodore', 'SS Egypt', 'SS Laurentic (1908)', 'Safety data sheet', 'Safety helmet', 'Safety-critical system', 'Salt water aspiration syndrome', 'Salvage diving', 'Samantha Cristoforetti', 'Samir Alhafith', 'Sandra Magnus', 'Sappers Divers Group', 'Sara Campbell', 'Sardinia', 'Satoshi Furukawa', 'Saturation diving', 'Saturation spread', 'Saturation system', 'Save Ontario Shipwrecks', 'Science of underwater diving', 'Scientific diver', 'Scientific diver training', 'Scientific diving', 'Scorpio ROV', 'Scott Carpenter', 'Scott Carpenter Space Analog Station', 'Scott Kelly (astronaut)', 'Scottish Sub Aqua Club', 'Screw gate carabiner', 'Scuba Diving International', 'Scuba Educators International', 'Scuba Schools International', 'Scuba configuration', 'Scuba cylinder valve', 'Scuba diving', 'Scuba diving fatalities', 'Scuba diving in the Cayman Islands', 'Scuba diving therapy', 'Scuba diving tourism', 'Scuba gas management', 'Scuba gas planning', 'Scuba manifold', 'Scuba replacement', 'Scuba set', 'Scuba skills', 'Sea Dragon-class ROV', 'Sea Pole-class bathyscaphe', 'Sea Research Society', 'SeaKeys', 'SeaPerch', 'Seabed mining', 'Seabed tractor', 'Seafox drone', 'Seasickness', 'Serena Auñón-Chancellor', 'Sergey Alexandrovich Volkov', 'Shadow Divers', 'Shallow Water Combat Submersible', 'Shallow water helmet', 'Shannon Walker', 'Shark tourism', 'Shark-proof cage', 'Shayetet 13', 'Shearwater Research', 'Sheck Exley', 'Ships husbandry', 'Sidemount', 'Sidemount diving', 'Siebe Gorman', 'Siebe Gorman CDBA', 'Siebe Gorman Salvus', 'Silica gel', 'Silt out', 'Silt screw', 'Siluro San Bartolomeo', 'Simon Mitchell', 'Simone Arrigoni', 'Simone Melchior', 'Single point of failure', 'Single-hose regulator', 'Sinking of MV Conception', 'Sinking of the Rainbow Warrior', 'Sinking ships for wreck diving sites', 'Situation awareness', 'Siva (rebreather)', 'Skandalopetra diving', 'Skill assessment', 'Sladen suit', 'Sling cylinder', 'Snoopy loop', 'Snorkel (swimming)', 'Snorkeling', 'Snuba', 'Society for Underwater Historical Research', 'Society for Underwater Technology', 'Soichi Noguchi', 'Solo diver', 'Solo diving', 'Sonar', 'Sophie Adenot', 'South African Underwater Sports Federation', 'South Pacific Underwater Medicine Society', 'Southern African Underwater and Hyperbaric Medical Association', 'Soyuz TMA-16M', 'Soyuz TMA-18M', 'Space Systems Laboratory (Maryland)', 'SpaceX Crew-7', 'SpaceX Dragon 2', 'Spearfishing', 'Speargun', 'Special Actions Detachment', 'Special Air Service', 'Special Air Service Regiment', 'Special Boat Service', 'Special Boat Squadron (Sri Lanka)', 'Special Forces Command (Turkey)', 'Special Forces Group (Belgium)', 'Special Operations Battalion (Croatia)', 'Special Service Group (Navy)', 'Special Warfare Diving and Salvage', 'Sponge diving', 'Sport diving (sport)', 'Sprite (lightning)', 'Stan Waterman', 'Stand-by diver', 'Standard diving dress', 'Standard diving helmet', 'Standard diving suit', 'Standard operating procedure', 'Star Canopus diving accident', 'Static apnea', 'Steinke hood', 'Stena Seaspread diving accident', 'Stephanie Schwabe', 'Stephen Frink', 'Steve Chappell', 'Steve Irwin', 'Steve Lewis (diver)', 'Steve Parish', 'Steve Squyres', 'Stig Severinsen', 'Stress exposure training', 'Stéphane Mifsud', 'Sub Marine Explorer', 'Sub-Aqua Association', 'Submarine Escape Immersion Equipment', 'Submarine Escape Training Facility (Australia)', 'Submarine Escape and Rescue system (Royal Swedish Navy)', 'Submarine Products', 'Submarine Rescue Diving Recompression System', 'Submarine escape', 'Submarine escape training facility', 'Submarine pipeline', 'Submarine rescue', 'Submarine rescue ship', 'Submersible pressure gauge', 'Subskimmer', 'Sunita Williams', 'Supervised diver', 'Surface marker buoy', 'Surface oriented diving', 'Surface-supplied diving', 'Surface-supplied diving equipment', 'Surface-supplied diving skills', \"Surfer's ear\", 'Surrey Space Centre', 'Sustained load cracking', 'Suunto', 'Swarm (ESA mission)', 'Swedish warship Mars', 'Swietenia Puspa Lestari', 'Swimfin', \"Swimming at the 1900 Summer Olympics – Men's underwater swimming\", 'Swimming-induced pulmonary edema', 'Sydney Knowles', 'Sylvia Earle', 'T1200 Trenching Unit', 'Tactical Divers Group', 'Takuya Onishi', 'Tamara Benitez', 'Tanya Streeter', 'Tara Ruttley', 'Taravana', 'Task loading', 'Teaching method', 'Technical Diving International', 'Technical diving', 'Ted Eldred', 'Tektite habitat', 'Teseo Tesei', 'Test engineer', 'Testing and inspection of diving cylinders', 'Thalmann algorithm', 'Tham Luang cave rescue', 'The Darkness Beckons', 'The Diver', 'The Last Dive', 'The Silent World: A Story of Undersea Discovery and Adventure', 'The new science of skin and scuba diving', 'Therapeutic recompression', 'Thermal lance', 'Thermodynamic model of decompression', 'Thomas Marshburn', 'Thomas Pesquet', 'Thomas Reiter', 'Through-water communications', 'Tim Peake', 'Timeline of diving technology', 'Timothy Creamer', 'Timothy J. Broderick', 'Timothy Kopra', 'Tom Mount', 'Tom Sietas', 'Torricellian chamber', 'Towboard', 'Travel gas', 'Tremie', 'Trevor Hampton', 'Trevor Jackson (diver)', 'Trim weights (diving)', 'Trimix (breathing gas)', 'Trimix Scuba Association', 'Turkish Underwater Sports Federation', 'Tweet (social media)', 'Twin-hose regulator', 'Twitter', 'Type 7103 DSRV', 'U.S. Navy Diving Manual', 'UNGERIN', 'URF (Swedish Navy)', 'US Navy decompression models and tables', 'USS Monitor', 'Ulf Merbold', 'Umberto Guidoni', 'Umberto Pelizzari', 'Uncontrolled decompression', 'Undersea and Hyperbaric Medical Society', 'Underwater Archaeology Branch, Naval History & Heritage Command', 'Underwater Bike Race', 'Underwater Construction Teams', 'Underwater Demolition Command', 'Underwater Demolition Team', 'Underwater Escape Training Unit', 'Underwater Handbook', 'Underwater Hockey World Championships', 'Underwater Offence (Turkish Armed Forces)', 'Underwater Orienteering World Championships', 'Underwater Rugby World Championships', 'Underwater Society of America', 'Underwater acoustic communication', 'Underwater acoustic positioning system', 'Underwater acoustics', 'Underwater archaeologist', 'Underwater archaeology', 'Underwater breathing apparatus', 'Underwater computer vision', 'Underwater construction', 'Underwater cutting and welding', 'Underwater cycling', 'Underwater demolition', 'Underwater diving', 'Underwater diving on Guam', 'Underwater domain awareness', 'Underwater environment', 'Underwater exploration', 'Underwater firearm', 'Underwater football', 'Underwater habitat', 'Underwater hockey', 'Underwater hockey in Australia', 'Underwater hockey in Turkey', 'Underwater inspection', 'Underwater logging', 'Underwater orienteering', 'Underwater photography', 'Underwater photography (sport)', 'Underwater rugby', 'Underwater rugby in Colombia', 'Underwater rugby in the United States', 'Underwater search and recovery', 'Underwater searches', 'Underwater sports', 'Underwater survey', 'Underwater target shooting', 'Underwater vehicle', 'Underwater videography', 'Underwater vision', 'Underwater work', 'United Diving Instructors', 'United States Marine Corps Combatant Diver Course', 'United States Marine Corps Force Reconnaissance', 'United States Marine Corps Reconnaissance Battalions', 'United States Navy Experimental Diving Unit', 'United States Navy SEALs', 'United States military divers', 'Universal Referral Program', 'University of Lisbon', 'University of Surrey', 'University of Texas at Austin', 'Unmanned diving', 'Valerie Taylor (diver)', 'Valerie van Heest', 'Valsalva maneuver', 'Variable buoyancy pressure vessel', 'Variable weight apnea', 'Variable weight apnea without fins', 'Varying Permeability Model', 'Vasa (ship)', 'Venture One diving accident', 'Vertical Blue', 'Vestas Wind Systems', 'Victor Berge', 'Victor F. Guiel Jr.', 'VideoRay UROVs', 'Vintage scuba', 'Waage Drill II diving accident', 'Walter Steyn', 'Water jetting', 'Water polo cap', 'Water safety', 'Water separator', 'Water surface searches', 'Wave action', 'Wayback Machine', 'Weight belt', 'Welfreighter', 'Wesley C. Skiles', 'Western Norway University of Applied Sciences', 'Wet Nellie', 'Wet bell', 'Wet sub', 'Wetsuit', 'Whydah Gally', 'Wildrake diving accident', 'Willard Franklyn Searle', 'Willful violation', 'William Beebe', 'William Hogarth Main', 'William Paul Fife', 'William R. Royal', 'William Stone (caver)', 'William Trubridge', 'Women Divers Hall of Fame', 'Woodville Karst Plain Project', 'Work of breathing', 'World Recreational Scuba Training Council', 'Wreck diving', 'Wubbo Ockels', 'YMCA SCUBA Program', 'Yasemin Dalkılıç', 'Yuri Gagarin Cosmonaut Training Center', 'Yuri Lipski', 'Yves Le Prieur', 'Zale Parry', 'Émile Gagnan', 'Épaulard', 'Şahika Ercümen'];300\n"
     ]
    },
    {
     "name": "stderr",
     "output_type": "stream",
     "text": [
      "en.wikipedia.org (query) Satoshi Furukawa (&plcontinue=6926351|0|...\n",
      "en.wikipedia.org (query) Satoshi Furukawa (&plcontinue=6926351|0|...\n",
      "en.wikipedia.org (imageinfo) File:Satoshi Furukawa (cropped).jpg\n",
      "Satoshi Furukawa (en) data\n",
      "{\n",
      "  WARNINGS: <dict(1)> extracts\n",
      "  assessments: <dict(4)> Biography, Japan, Spaceflight, Scuba diving\n",
      "  description: Japanese astronaut\n",
      "  extext: <str(269)> **Satoshi Furukawa** (古川 聡, _Furukawa Satoshi...\n",
      "  extract: <str(1564)> <p><b>Satoshi Furukawa</b><span> (<span tit...\n",
      "  image: <list(6)> {'kind': 'query-pageimage', 'file': 'File:Satos...\n",
      "  label: Satoshi Furukawa\n",
      "  length: 8,023\n",
      "  links: <list(1388)> 14th CMAS Underwater Photography World Champ...\n",
      "  modified: <dict(1)> page\n",
      "  pageid: 6926351\n",
      "  random: Gregorio Salvador Caja\n",
      "  redirects: <list(1)> {'pageid': 57273956, 'ns': 0, 'title': 'Fur...\n",
      "  requests: <list(4)> query, query, query, imageinfo\n",
      "  title: Satoshi Furukawa\n",
      "  url: https://en.wikipedia.org/wiki/Satoshi_Furukawa\n",
      "  url_raw: https://en.wikipedia.org/wiki/Satoshi_Furukawa?action=raw\n",
      "  wikibase: Q706916\n",
      "  wikidata_url: https://www.wikidata.org/wiki/Q706916\n",
      "}\n",
      "en.wikipedia.org (querymore) 6926351\n",
      "en.wikipedia.org (querymore) 6926351 (&blcontinue=0|8706128)\n",
      "en.wikipedia.org (querymore) 6926351 (&blcontinue=0|39581662)\n",
      "Satoshi Furukawa (en) data\n",
      "{\n",
      "  WARNINGS: <dict(1)> extracts\n",
      "  assessments: <dict(4)> Biography, Japan, Spaceflight, Scuba diving\n",
      "  backlinks: <list(1306)> {'pageid': 9955, 'ns': 0, 'title': 'Nitr...\n",
      "  categories: <list(8)> Category:1964 births, Category:Aquanauts, ...\n",
      "  contributors: 83\n",
      "  description: Japanese astronaut\n",
      "  extext: <str(269)> **Satoshi Furukawa** (古川 聡, _Furukawa Satoshi...\n",
      "  extract: <str(1564)> <p><b>Satoshi Furukawa</b><span> (<span tit...\n",
      "  files: <list(14)> File:Commons-logo.svg, File:Furukawa after lan...\n",
      "  image: <list(6)> {'kind': 'query-pageimage', 'file': 'File:Satos...\n",
      "  label: Satoshi Furukawa\n",
      "  languages: <list(26)> {'lang': 'ar', 'title': 'ساتوشي فوروكاوا'}...\n",
      "  length: 8,023\n",
      "  links: <list(1388)> 14th CMAS Underwater Photography World Champ...\n",
      "  modified: <dict(1)> page\n",
      "  pageid: 6926351\n",
      "  random: Gregorio Salvador Caja\n",
      "  redirects: <list(1)> {'pageid': 57273956, 'ns': 0, 'title': 'Fur...\n",
      "  requests: <list(7)> query, query, query, imageinfo, querymore, q...\n",
      "  title: Satoshi Furukawa\n",
      "  url: https://en.wikipedia.org/wiki/Satoshi_Furukawa\n",
      "  url_raw: https://en.wikipedia.org/wiki/Satoshi_Furukawa?action=raw\n",
      "  views: 137\n",
      "  wikibase: Q706916\n",
      "  wikidata_url: https://www.wikidata.org/wiki/Q706916\n",
      "}\n",
      "+ query results in cache\n",
      "+ query results in cache\n",
      "en.wikipedia.org (query) Konstantin Borisov\n"
     ]
    },
    {
     "name": "stdout",
     "output_type": "stream",
     "text": [
      "Satoshi Furukawa;**Satoshi Furukawa** (古川 聡, _Furukawa Satoshi_ , born April 4, 1964) is a Japanese surgeon and JAXA astronaut. Furukawa was assigned to the International Space Station as a flight engineer on long-duration missions Expedition 28/29 (2011) and Expedition 69/70 (2023-2024).;['14th CMAS Underwater Photography World Championship', '1973 Mount Gambier cave diving accident', '1992 cageless shark-diving expedition', '8A4-class ROUV', 'AAI underwater revolver', 'ABISMO', 'ADS amphibious rifle', 'AIDA Hellas', 'AIDA International', 'AP Diving', 'APS underwater rifle', 'ASM-DT amphibious rifle', 'ASRV Remora', 'Abrasive waterjet', 'Activated carbon', 'Adrian Biddle', 'Advanced Open Water Diver', 'Advanced SEAL Delivery System', 'Aerosinusitis', 'Aerospace Medical Association', 'Agnes Milowka', 'Aharon Solomons', 'Air embolism', 'Air line', 'Air spread', 'Air-lock', 'Airlift (dredging device)', 'Akihiko Hoshide', 'Albert A. Bühlmann', 'Albert D. Stover', 'Albert Falco', 'Albert R. Behnke', 'Albert Tillman', 'Aleksey Ovchinin', 'Alessia Zecchini', 'Alexey Molchanov', 'Alf O. Brubakk', 'Allan Bridge', 'Alpazat cave rescue', 'Alternative air source', 'Alternobaric vertigo', 'Altitude diving', 'Aluminaut', 'Ama (diving)', 'Amelia Behrens-Furniss', 'American Academy of Underwater Sciences', 'American Canadian Underwater Certifications', 'American Nitrox Divers International', 'American submarine NR-1', 'Anders Franzén', 'Andreas Mogensen', 'Andreas Rechnitzer', 'Andrew Abercromby', 'Andrew J. Feustel', 'Andrew Wight', 'Andriy Yevhenovych Khvetkevych', 'Andy Torbet', 'Ankle weights (diving)', 'Anna Marguerite McCann', 'Annelie Pompe', 'Anti-fog', 'Anxiety', 'Apeks', 'Apnoea finswimming', 'Aqua Lung America', 'Aqua Lung/La Spirotechnique', 'Aqua-Lung', 'Aquanaut', 'Aquarius (laboratory)', 'Aquarius Reef Base', 'Aquathlon (underwater wrestling)', 'Archaeology of shipwrecks', 'Archimède', 'Aristotelis Zervoudis', 'Army engineer diver', 'Arne Zetterström', 'Arthur C. Clarke', 'Arthur J. Bachrach', 'Artificial Reef Society of British Columbia', 'Artur Kozłowski (speleologist)', 'Ascending and descending (diving)', 'Asphyxia', 'Association nationale des moniteurs de plongée', 'Association of Diving Contractors International', 'Astronaut', 'Astronaut training', 'Atlantis ROV Team', 'Atmospheric diving suit', 'Atmospheric pressure diving', 'Atrial septal defect', 'Audrey Mestre', 'Auguste Denayrouze', 'Auguste Piccard', 'Augustus Siebe', 'Australian Diver Accreditation Scheme', 'Australian Underwater Federation', 'Autonomous diver', 'Avascular necrosis', 'Bailout block', 'Bailout bottle', 'Bailout gas', 'Baited remote underwater video', 'Band mask', 'Barodontalgia', 'Barostriction', 'Barotrauma', 'Basic Cave Diving: A Blueprint for Survival', 'Basic Scuba', 'Bathyscaphe', 'Bathyscaphe Trieste II', 'Bathysphere', 'Bell cursor', 'Bellman (diving)', 'Ben Cropp', 'Benign water diving', \"Bennett and Elliott's physiology and medicine of diving\", 'Bernard Delemotte', 'Berry L. Cannon', 'Beuchat', 'Bill Nagle', 'Bill Todd', 'Billy Deans (diver)', 'Black-water diving', 'Blue-water diving', 'Boarding stirrup', 'Boat diving', 'Bob Behnken', 'Bob Halstead', 'Bolt snap', 'Booster pump', 'Bottom gas', 'Bottom timer', 'Breathing air', 'Breathing gas', 'Breathing gas quality', 'Breathing performance of regulators', 'Bret Gilliam', 'Brian Andrew Hills', 'Brian Skerry', 'British Freediving Association', 'British Octopush Association', 'British Sub-Aqua Club', 'British Underwater Sports Association', 'Buddy breathing', 'Buddy check', 'Buddy diving', 'Buddy line', 'Built-in breathing system', 'Buoyancy compensator (diving)', 'Burst disc', 'Byford Dolphin', 'Bühlmann decompression algorithm', 'CMAS Europe', 'CMAS* scuba diver', 'CMAS** scuba diver', 'CUMA', 'CURV', 'Canadian Armed Forces Divers', 'Candice Farmer', 'Canoe and kayak diving', 'Carbon dioxide scrubber', 'Carbon monoxide poisoning', 'Carleton CDBA', 'Carlos Coste', 'Cascade filling system', 'Catherine Coleman', 'Cathy Church', 'Cave Divers Association of Australia', 'Cave Diving Group', 'Cave diving', 'Cavitation cleaning', 'Chamber operator', 'Charles Anthony Deane', 'Charles Momsen', 'Charles Spalding', 'Charles T. Meide', 'Charles Wesley Shilling', 'Checklist', 'Chris Hadfield', 'Christian J. Lambertsen', 'Christopher E. Gerty', 'Cis-Lunar', 'Civil liability in recreational diving', 'Claudia Serpieri', 'Clayton Anderson', 'Cleaning and disinfection of personal diving equipment', 'Clearance Divers Life Support Equipment', 'Clearance Diving Branch (RAN)', 'Clearance diver', 'Clive Cussler', 'Closed bell', 'Clump weight', 'Cláudio Coutinho', 'Code of Practice for Scientific Diving (UNESCO)', 'Code of practice', 'Cold shock response', 'Comando Raggruppamento Subacquei e Incursori Teseo Tesei', 'Combat Rubber Raiding Craft', 'Combat sidestroke', 'Comhairle Fo-Thuinn', 'Commando Hubert', 'Commercial diver', 'Commercial diver registration in South Africa', 'Commercial diver training', 'Commercial offshore diver', 'Commercial offshore diving', \"Compagnie maritime d'expertises\", 'Competence (human resources)', 'Competency-based learning', 'Compression arthralgia', 'Confined water diving', 'Confédération Mondiale des Activités Subaquatiques', 'Constant weight', 'Constant weight bi-fins', 'Constant weight without fins', 'Continental Shelf Station Two', 'Contingency plan', 'Convention on the Protection of the Underwater Cultural Heritage', 'Coral Reef Alliance', 'Cosmos CE2F series', 'Cotton Coulson', 'Craig B. Cooper', 'Craig Challen', 'Craig M. Hoffman', 'Craig McKinley (physician)', 'Cramp', 'Cressi-Sub', 'Crew-7', 'Cristina Zenato', 'Cryogenic rebreather', 'DESCO', 'DIN 7876', 'DSEA', 'DSRV-1 Mystic', 'DSRV-2 Avalon', 'DSV Alvin', 'DSV Limiting Factor', 'DSV Sea Cliff', 'DSV Shinkai', 'DSV Shinkai 2000', 'DSV Shinkai 6500', 'DSV Turtle', 'DSV-5 Nemo', 'Dacor (scuba diving)', 'Dafydd Williams', 'Danai Varveri', 'Daniel M. Tani', 'Dave Mullins (freediver)', 'Dave Shaw (diver)', 'David Attenborough', 'David Bright (diver)', 'David Doubilet', 'David Gibbins', 'David Gruber', 'David Saint-Jacques', 'Davis Submerged Escape Apparatus', 'Death of Bradley Westell', 'Death of Steve Irwin', 'Deborah Andollo', 'Decima Flottiglia MAS', 'Decompression (diving)', 'Decompression buoy', 'Decompression chamber', 'Decompression cylinder', 'Decompression equipment', 'Decompression gas', 'Decompression illness', 'Decompression practice', 'Decompression sickness', 'Decompression tables', 'Decompression theory', 'Decompression trapeze', 'Deep Drone', 'Deep diving', 'Deep-sea exploration', 'Deep-submergence rescue vehicle', 'Deep-submergence vehicle', 'Deep-water blackout', 'Deepsea Challenger', 'Defence Diving School', 'Defense against swimmer incursions', 'Delta-P (hazard)', 'Demand valve oxygen therapy', 'Dental barotrauma', 'Deon Dreyer', 'Department of Employment and Labour', 'Depth gauge', 'Derya Can Göçen', 'Devrim Cenk Ulusoy', 'Dewey Smith', 'Diamond Reef System', 'Dick Rutkowski', 'Distance line', 'Dive Xtras', 'Dive boat', 'Dive briefing', 'Dive center', 'Dive computer', 'Dive guide (publication)', 'Dive leader', 'Dive light', 'Dive log', 'Dive planning', 'Dive reel', 'Dive skins', 'Dive timer', 'Divemaster', 'Diver communications', 'Diver detection sonar', 'Diver down flag', 'Diver lift', 'Diver medical technician', 'Diver navigation', 'Diver organisations', 'Diver propulsion vehicle', 'Diver rescue', 'Diver training', 'Diver training organization', 'Diver training standard', 'Diver trim', \"Diver's attendant\", \"Diver's cutting tool\", \"Diver's knife\", \"Diver's pump\", \"Diver's telephone\", \"Diver's umbilical\", 'Divers Academy International', 'Divers Alert Network', 'Divers Institute of Technology', 'Diversnight', 'Divex', 'Diving Diseases Research Centre', 'Diving Medical Advisory Council', 'Diving Medical Examiner', 'Diving Medical Practitioner', 'Diving Medical Technician', 'Diving Science and Technology', 'Diving Unlimited International', 'Diving activities', 'Diving air compressor', 'Diving air filter', 'Diving bell', 'Diving chamber', 'Diving compass', 'Diving contractor', 'Diving cylinder', 'Diving disorders', 'Diving environment', 'Diving equipment', 'Diving hazards', 'Diving helmet', 'Diving in East Timor', 'Diving in the Maldives', 'Diving instructor', 'Diving ladder', 'Diving mask', 'Diving medicine', 'Diving mode', 'Diving physics', 'Diving physiology', 'Diving platform (scuba)', 'Diving procedures', 'Diving rebreather', 'Diving reflex', 'Diving regulations', 'Diving regulator', 'Diving safety', 'Diving safety harness', 'Diving safety officer', 'Diving school', 'Diving shot', 'Diving spread', 'Diving stage', 'Diving suit', 'Diving superintendent', 'Diving supervisor', 'Diving support equipment', 'Diving support vessel', 'Diving systems technician', 'Diving team', 'Diving watch', 'Diving weighting system', 'Doctor of Medicine', 'Doctor of Philosophy', 'Doing It Right (scuba diving)', 'Dominic Landucci', 'Dorothy Metcalf-Lindenburger', 'Dottie Frazier', 'Doug Allan', 'Douglas H. Wheelock', 'Downline (diving)', 'Drift diving', 'Drill Master diving accident', 'Drowning', 'Dry Combat Submersible', 'Dry suit', 'Dräger Dolphin', 'Dräger Ray', 'Drägerwerk', 'Dump valve (diving)', 'Duty of care', 'Dynamic apnea', 'Dynamic apnea without fins', 'Dysbaric osteonecrosis', 'Dysbarism', 'E. Lee Spence', 'E. Yale Dawson', 'ENOS Rescue-System', 'ESA CAVES', 'Ear clearing', 'Ebenezer Watson', 'Eduard Admetlla i Lázaro', 'Edward D. Thalmann', 'Edwin Clayton Link', 'Effects of drugs on fitness to dive', 'Electro-galvanic oxygen sensor', 'Elisabeth Kristoffersen', 'Emergency ascent', 'Emergency gas supply', 'Emergency locator beacon', 'Emergency response plan', 'Emma Farrell (freediver)', 'Emma Hwang', 'Encyclopedia of Recreational Diving', 'Entanglement (hazard)', 'Environmental impact of recreational diving', 'Enzo Maiorca', 'Equivalent air depth', 'Equivalent narcotic depth', 'Eric Cheng', 'Ernest William Moir', 'Esbjörn Svensson', 'Escape set', 'Escape trunk', 'Eugenie Clark', 'European Diving Technology Committee', 'European Underwater Federation', 'European Underwater and Baromedical Society', 'Expedition 28', 'Expedition 29', 'Expedition 69', 'Expedition 70', 'FNRS-2', 'FNRS-3', 'Fabien Cousteau', 'Fatma Uruk', 'Federación Española de Actividades Subacuáticas', 'Federazione Italiana Attività Subacquee', 'Felix Hoppe-Seyler', 'Fenzy', 'Fernando Garfella Palmer', 'Finger Lakes Underwater Preserve Association', 'Finning techniques', 'Finswimming', 'First aid', 'Fitness to dive', 'Flavia Eberhard', 'Francis P. Hammerberg', 'Francisco Ferreras', 'François de Roubaix', 'Free immersion', 'Free-flow helmet', 'Freediving', 'Freediving blackout', 'Freeflow', 'French federation of underwater studies and sports', 'Frenzel maneuver', 'Frogman', 'Frogman Corps (Denmark)', 'Fuerzas Especiales', 'Fukuryu', 'Full-face diving mask', 'Full-face mask', \"Fédération Française d'Études et de Sports Sous-Marins\", 'GRUMEC', 'Garrett Reisman', 'Gary Gentile', 'Gas blending', 'Gas blending for scuba diving', 'Gas man', 'Gas panel', 'Gas reclaim system', 'Gas storage bank', 'Gas storage quad', 'Gas storage tube', 'George Bass (archaeologist)', 'George F. Bond', 'George R. Fischer', 'Georges Beuchat', 'Gerard Anthony Prangley', 'Giovanni Alfonso Borelli', 'Global Explorer ROV', 'Global Underwater Explorers', 'Glossary of underwater diving terminology', 'Goldfinder', 'Goldfish-class ROUV', 'Goran Čolak', 'Gordon Smith (inventor)', 'Graham Balcombe', 'Graham Jessop', 'Green Fins', 'Gregory Chamitoff', 'Grup Gerak Khas', 'Guillaume Néry', 'Gunter Schöbel', 'Guy Garman', 'Guybon Chesney Castell Damant', 'Gyrojet', 'HMS Challenger (K07)', 'HMS Royal George (1756)', 'Haenyeo', 'Halcyon PVR-BASC', 'Halcyon RB80', \"Haldane's decompression model\", 'Half mask', 'Hans Hass', 'Hans Hass Award', 'Hawaiian sling', 'Hazard analysis', 'Hazmat diver', 'Hazmat diving', 'Health and Safety Executive', 'Heckler & Koch P11', 'Heidemarie Stefanyshyn-Piper', 'Heinke (diving equipment manufacturer)', 'HeinrichsWeikamp', 'Helgoland Habitat', 'Helicopter Aircrew Breathing Device', 'Heliox', 'Helium analyzer', 'Helium release valve', 'Helix Energy Solutions Group', 'Henry Fleuss', 'Henry Valence Hempleman', 'Henry Way Kendall', 'Herbert Nitsch', 'Hervé Stevenin', 'Hierarchy of hazard controls', 'High pressure breathing air compressor', 'High-pressure nervous syndrome', 'Hillary Hauser', 'History of Diving Museum', 'History of decompression research and development', 'History of scuba diving', 'History of underwater diving', 'Honor Frost', 'Hookah (diving)', 'Hopcalite', 'Hot water system (diving)', 'Hot-water suit', 'Hugh Bradner', 'Human factors in diving equipment design', 'Human factors in diving safety', 'Human torpedo', 'Hydreliox', 'Hydrogen narcosis', 'Hydrostatic test', 'Hydrox (breathing gas)', 'Hyperbaric evacuation and rescue', 'Hyperbaric lifeboat', 'Hyperbaric medicine', 'Hyperbaric nursing', 'Hyperbaric stretcher', 'Hyperbaric treatment schedules', 'Hyperbaric welding', 'Hypercapnia', 'Hyperoxia', 'Hyperthermia', 'Hypocapnia', 'Hypothermia', 'Hypoxia (medical)', 'IDA71', 'IMCA Code of Practice for Offshore Diving', 'ISO 24801 Recreational diving services — Requirements for the training of recreational scuba divers', 'Ian Edward Fraser', 'Ice diving', 'Ictineu 3', 'Immersion diuresis', 'Immersion finswimming', 'In-water recompression', 'In-water surface cleaning', 'Incident pit', 'Independent doubles', 'Index of recreational dive sites', 'Index of underwater divers', 'Index of underwater diving', 'Inland diving', 'Inner ear decompression sickness', 'Innes McCartney', 'Inshore diving', 'Instinctive drowning response', 'Institute of Space and Astronautical Science', 'Integrated weights', 'International Association for Handicapped Divers', 'International Association of Nitrox and Technical Divers', 'International Diving Regulators and Certifiers Forum', 'International Diving Schools Association', 'International Life Saving Federation', 'International Marine Contractors Association', 'International Scuba Diving Hall of Fame', 'International Space Station', 'International Submarine Escape and Rescue Liaison Office', 'Interspiro DCSC', 'Introductory diving', 'Investigation of diving accidents', 'Isobaric counterdiffusion', 'Israeli Diving Federation', 'Ivan Tors', 'J. Lamar Worzel', 'JAGO (German research submersible)', 'JAXA', 'JIM suit', 'JW Formoza', 'JW GROM', 'JW Komandosów', 'Jack D. Fischer', 'Jack Sheppard (cave diver)', 'Jackstay', 'Jackstay (diving)', 'Jacques Cousteau', 'Jacques Mayol', 'Jacques Triger', 'Jagdkommando', 'James F. Cahill', 'James Joseph Magennis', 'James P. Delgado', 'James Talacek', 'Japan Aerospace Exploration Agency', 'Japanese Experiment Module', 'Jarrod Jablonski', 'Jason deCaires Taylor', 'Jean-Michel Cousteau', 'Jeanette Epps', 'Jeffrey Williams (astronaut)', 'Jeremy Hansen', 'Jersey upline', 'Jerónimo de Ayanz y Beaumont', 'Jessica Meir', 'Jiaolong (submersible)', 'Jill Heinerth', 'Jim Bowden (diver)', 'Jim Jones (American football, born 1935)', 'Joachim Wendler', 'Job safety analysis', 'Jochen Hasenmayer', 'Joe Savoie', 'John Bennett (diver)', 'John Chatterton', 'John Christopher Fine', 'John D. Craig', 'John D. Olivas', 'John Day (carpenter)', 'John Deane (inventor)', 'John Ernest Williamson', 'John Herrington', 'John Lethbridge', 'John Mattera', 'John Morgan Wells', 'John Peter Oleson', 'John R. Clarke (scientist)', 'John Rawlins (Royal Navy officer)', 'John Scott Haldane', 'John Veltri', 'John Volanthen', 'Johnson Outdoors', 'Johnson Sea Link accident', 'Johnson Space Center', 'Jon Lindbergh', 'Jonathan Bird', 'Jonathan Dory', 'Jonline', 'Josef Schmid (flight surgeon)', 'Josef Velek', 'Joseph B. MacInnis', 'Joseph M. Acaba', 'Joseph Salim Peress', 'Joseph-Martin Cabirol', 'José M. Hernández', 'Justin Brown (aquanaut)', 'K. Megan McArthur', 'KOPASKA', 'Kaikō ROV', 'Kanagawa Prefecture', 'Karen Kohanowich', 'Karen Nyberg', 'Karl Heinrich Klingert', 'Karol Meyer', 'Karst Underwater Research', 'Kate Middleton (free-diver)', 'Kathleen Rubins', 'Kazakhstan', 'Kaşif ROUV', 'Keith Jessop', 'Kenneth William Donald', 'Kibō (ISS module)', 'Kimiya Yui', 'Kirsty MacColl', 'Kjell N. Lindgren', 'Koichi Wakata', 'Kommando Spezialkräfte Marine', 'Konsul-class submersible', 'Kronan (ship)', 'Krzysztof Starnawski', 'LAR-5', 'LAR-6', 'LAR-V', 'LR5', 'LR7', 'La Belle (ship)', 'Lambertsen Amphibious Respiratory Unit', 'Laryngospasm', 'Launch and recovery system (diving)', 'Leigh Bishop', 'Leni Riefenstahl', 'Leonard Erskine Hill', \"Leonardo D'Imporzano\", 'Les Kaufman', 'Life support technician', 'Life-support system', 'Lifeline (diving)', 'Lifting bag', 'Lightweight demand helmet', 'Limpet mine', 'Line marker', 'Lionel Crabb', 'List of Divers Alert Network publications', 'List of astronauts by selection', 'List of diver certification organizations', 'List of diving environments by type', 'List of diving hazards and precautions', 'List of legislation regulating underwater diving', 'List of military diving units', 'List of researchers in diving physiology and medicine', 'List of researchers in underwater diving', 'List of signs and symptoms of diving disorders', 'List of wreck diving sites', 'Lithuanian Special Operations Force', 'Liv Philip', 'Liveaboard', 'Lockout–tagout', 'London Diving Chamber Dive Lectures', 'Long-Term Mine Reconnaissance System', 'Lothar Michael Ward', 'Louis Boutan', 'Louis de Corlieu', 'Low Impact Diver', 'Low impact diving', 'Low pressure breathing air compressor', 'Loïc Leferme', 'Luca Parmitano', 'Luigi Ferraro (naval officer)', 'Luis Marden', 'Lyons Maritime Museum', 'Lyuba Ognenova-Marinova', 'MARCOS', 'MSM-1', 'Magnesium torch', 'Man in the Sea Museum', 'Mandy-Rae Cruickshank', 'Manifolded twin set', 'Marc Reagan', 'Mares (scuba equipment)', 'Margaret Rule', 'Marine Commandos', 'Marine Raider Regiment', 'Marine construction', 'Marinejegerkommandoen', 'Mark Ellyatt', 'Mark Hulsbeck', 'Mark IV Amphibian', 'Mark M. Newell', 'Mark T. Vande Hei', 'Martin Štěpánek (free-diver)', 'Martyn Farr', 'Mary Bonnin', 'Mary Rose', 'Master Instructor', 'Master Scuba Diver', 'Master diver (United States Navy)', 'Matthias Maurer', 'Maurice Fargues', 'Maurice Fernez', 'Maximum operating depth', 'McCann Rescue Chamber', 'Mechanism of diving regulators', 'Media diver', 'Media diving', 'Mehgan Heaney-Grier', 'Membrane gas separation', 'Mendel L. Peterson', 'Mensun Bound', 'Messenger line', 'Metre sea water', 'Michael Arbuthnot', 'Michael Barratt (astronaut)', 'Michael Board', 'Michael C. Barnette', 'Michael E. Fossum', 'Michael Fincke', 'Michael L. Gernhardt', 'Michael López-Alegría', 'Michele Westmorland', 'Middle ear barotrauma', 'Milan Dufek', 'Military diver training', 'Military diving', 'Minedykkerkommandoen', 'Minentaucher', 'Mini Rover ROV', 'Mir (submersible)', 'Mission 31', 'Mk 1 Underwater Defense Gun', 'Modulated ultrasound', 'Molecular sieve', 'Momsen lung', 'Monofin', 'Monty Halls', 'Moon pool', 'Morse Diving', 'Motion sickness', 'Motorised Submersible Canoe', 'Muck diving', 'Muscle memory', 'Myriam Seco', 'Mystic-class deep-submergence rescue vehicle', 'NASDA', 'NATO Submarine Rescue System', 'NEEMO', 'NOAA Diving Manual', 'NOGI Awards', 'Namibian Marine Corps', 'Natalia Molchanova', 'Nataliia Zharkova', 'National Academy of Scuba Educators', 'National Aeronautics and Space Administration', 'National Aerospace Laboratory of Japan', 'National Association of Underwater Instructors', 'National Board of Diving and Hyperbaric Medical Technology', 'National Oceanic and Atmospheric Administration', 'National Space Development Agency of Japan', 'National Speleological Society', 'Nautical Archaeology Program', 'Nautical Archaeology Society', 'Nautile', 'Nautilus Productions', 'Naval Air Command Sub Aqua Club', 'Naval Diving Unit (Singapore)', 'Naval Service Diving Section', 'Naval Special Operations Command', 'Naval Submarine Medical Research Laboratory', 'Naval Support Activity Panama City', 'Navy diver (United States Navy)', 'Neal W. Pollock', 'Necker Nymph', 'Nederlandse Onderwatersport Bond', 'Nemrod', 'Neutral Buoyancy Laboratory', 'Neutral Buoyancy Simulator', 'Neutral buoyancy', 'Neutral buoyancy pool', 'Neutral buoyancy simulation as a training aid', 'Neville Coleman', 'Newtsuit', 'Nicholas Mevoli', 'Nicholas Patrick', 'Nicole Stott', 'Night diving', 'Nikonos', 'Nitrogen narcosis', 'Nitrox', 'Nitrox production', 'No-limits apnea', 'Noel Monkman', 'Non-freezing cold injury', 'Nondestructive testing', 'Nordic Deep', 'Norishige Kanai', 'Northrop T-38 Talon', 'Nuno Gomes (diver)', 'Occupational safety and health', 'Ocean current', 'Oceanic Worldwide', 'Octopus regulator', 'Octopus wrestling', 'Offshore construction', 'Offshore diving', 'Offshore survey', 'Open Water Diver', 'Open-circuit scuba', 'Open-water diving', 'OpenROV', 'Operational Diving Division (SA Navy)', 'Operations manual', 'Orinasal mask', 'Oscar Gugen', 'Outline of recreational dive sites', 'Outline of underwater divers', 'Outline of underwater diving', 'Overconfidence effect', 'Overlearning', 'Oxygen', 'Oxygen analyser', 'Oxygen compatibility', 'Oxygen therapy', 'Oxygen toxicity', 'Oxygen window', 'Panic', 'Paolo Nespoli', 'Pascal Bernabé', 'Patrick Musimu', 'Paul Bert', 'Paul Hill (flight director)', 'Paul Rose (TV presenter)', 'Pearl hunting', 'Pearling in Western Australia', 'Pedro Duque', 'Peggy Whitson', 'Penetration diving', 'Peppo Biscarini', 'Per Skipnes', 'Performance Freediving International', 'Permit To Work', 'Pete Oxford', 'Peter B. Bennett', 'Peter Gimbel', 'Peter Henry Michael Holmes', 'Peter Kreeft (diver)', 'Peter Scoones', 'Peter Throckmorton', 'Philippe Cousteau', 'Philippe Diolé', 'Philippe Tailliez', 'Physiological response to water immersion', 'Physiology of decompression', 'Pierre Frolla', 'Pierre Petit (photographer)', 'Pierre-Marie Touboulic', 'Pigging', 'Pilar Luna', 'Pisces-class deep submergence vehicle', 'Pneumofathometer', 'Polespear', 'Police diver', 'Police diving', 'Pony bottle', 'Porpoise (scuba gear)', 'Potable water diving', 'Power inflator', 'PowerSwim', 'Powerhead (firearm)', 'Pressure swing adsorption', 'Pressure washing', 'Priz-class deep-submergence rescue vehicle', 'Professional Association of Diving Instructors', \"Professional Diver's Handbook\", 'Professional Diving Instructors Corporation', 'Professional Technical and Recreational Diving', 'Professional diving', 'Project AWARE', 'Psychological fitness to dive', 'Public safety diver', 'Public safety diver training', 'Public safety diving', 'Pulmonary barotrauma', 'Pyle stop', 'QBS-06', \"Queen Anne's Revenge\", 'Quintana Roo Speleological Survey', 'R-2 Mala-class swimmer delivery vehicle', 'RMS Lusitania', 'ROV KIEL 6000', 'ROV PHOCA', 'RV Calypso', 'Raid on Alexandria (1941)', 'Ramón Bravo', 'Randolph Bresnik', 'Rash vest', 'Ratio decompression', 'Rebreather Association of International Divers', 'Rebreather diving', 'Reclaim helmet', 'Recreational Dive Planner', 'Recreational dive sites', 'Recreational diver training', 'Recreational diving', 'Recreational scuba certification levels', 'Reduced gradient bubble model', 'Redundancy (engineering)', 'Reef Check', 'Reef Life Survey', 'Refresher training (diving)', 'Regulator freeze', 'Regulator malfunction', 'Reid Wiseman', 'Remotely operated underwater vehicle', 'René Cavalero', 'Rescue Diver', 'Rescue tether', 'Reserve gas supply (diving)', 'Rex J. Walheim', 'Ric Frazier', 'Ricardo Armbruster', 'Richard A. Walker', 'Richard Harris (anaesthetist)', 'Richard Pyle', 'Richard R. Arnold', 'Richie Kohler', 'Rick Stanton', 'Risk assessment', 'Risk control', 'Risk management', 'Rob Stewart (filmmaker)', 'Robert A. Barth', 'Robert Ballard', 'Robert Boyle', 'Robert Croft (diver)', 'Robert F. Marx', 'Robert John Smyth', 'Robert Sheats', 'Robert Sténuit', 'Robert Thirsk', 'Robert William Hamilton Jr.', 'Robin Cook (American novelist)', 'Rodney Fox', 'Roger Baldwin (diver)', 'Ron Taylor (diver)', 'Ronald J. Garan Jr.', 'Royal Australian Navy School of Underwater Medicine', 'Royal Engineers', 'Royal Navy ships diver', 'Rubicon Foundation', 'Rudie Kuiter', 'Rugged compact camera', 'Rule of thirds (diving)', 'Russian commando frogmen', 'Russian deep submergence rescue vehicle AS-28', 'Russian submarine AS-34', 'Russian submarine Losharik', 'SEAL Delivery Vehicle', 'SEALAB', 'SJT-class ROUV', 'SP-350 Denise', 'SPP-1 underwater pistol', 'SRV-300', 'SS Commodore', 'SS Egypt', 'SS Laurentic (1908)', 'Safety data sheet', 'Safety helmet', 'Safety-critical system', 'Salt water aspiration syndrome', 'Salvage diving', 'Samir Alhafith', 'Sandra Magnus', 'Sappers Divers Group', 'Sara Campbell', 'Sardinia', 'Saturation diving', 'Saturation spread', 'Saturation system', 'Save Ontario Shipwrecks', 'Science of underwater diving', 'Scientific diver', 'Scientific diver training', 'Scientific diving', 'Scorpio ROV', 'Scott Carpenter', 'Scott Carpenter Space Analog Station', 'Scott Kelly (astronaut)', 'Scottish Sub Aqua Club', 'Screw gate carabiner', 'Scuba Diving International', 'Scuba Educators International', 'Scuba Schools International', 'Scuba configuration', 'Scuba cylinder valve', 'Scuba diving', 'Scuba diving fatalities', 'Scuba diving in the Cayman Islands', 'Scuba diving therapy', 'Scuba diving tourism', 'Scuba gas management', 'Scuba gas planning', 'Scuba manifold', 'Scuba replacement', 'Scuba set', 'Scuba skills', 'Sea Dragon-class ROV', 'Sea Pole-class bathyscaphe', 'Sea Research Society', 'SeaKeys', 'SeaPerch', 'Seabed mining', 'Seabed tractor', 'Seafox drone', 'Seasickness', 'Serena Auñón-Chancellor', 'Sergey Alexandrovich Volkov', 'Shadow Divers', 'Shallow Water Combat Submersible', 'Shallow water helmet', 'Shannon Walker', 'Shark tourism', 'Shark-proof cage', 'Shayetet 13', 'Shearwater Research', 'Sheck Exley', 'Ships husbandry', 'Sidemount', 'Sidemount diving', 'Siebe Gorman', 'Siebe Gorman CDBA', 'Siebe Gorman Salvus', 'Silica gel', 'Silt out', 'Silt screw', 'Siluro San Bartolomeo', 'Simon Mitchell', 'Simone Arrigoni', 'Simone Melchior', 'Single point of failure', 'Single-hose regulator', 'Sinking of MV Conception', 'Sinking of the Rainbow Warrior', 'Sinking ships for wreck diving sites', 'Situation awareness', 'Siva (rebreather)', 'Skandalopetra diving', 'Skill assessment', 'Sladen suit', 'Sling cylinder', 'Snoopy loop', 'Snorkel (swimming)', 'Snorkeling', 'Snuba', 'Society for Underwater Historical Research', 'Society for Underwater Technology', 'Solo diver', 'Solo diving', 'Sonar', 'South African Underwater Sports Federation', 'South Pacific Underwater Medicine Society', 'Southern African Underwater and Hyperbaric Medical Association', 'Soyuz TMA-02M', 'Soyuz-TMA', 'Space Shuttle', 'Space Systems Laboratory (Maryland)', 'SpaceX Crew Dragon', 'SpaceX Crew-7', 'Spearfishing', 'Speargun', 'Special Actions Detachment', 'Special Air Service', 'Special Air Service Regiment', 'Special Boat Service', 'Special Boat Squadron (Sri Lanka)', 'Special Forces Command (Turkey)', 'Special Forces Group (Belgium)', 'Special Operations Battalion (Croatia)', 'Special Service Group (Navy)', 'Special Warfare Diving and Salvage', 'Sponge diving', 'Sport diving (sport)', 'Stan Waterman', 'Stand-by diver', 'Standard diving dress', 'Standard diving helmet', 'Standard diving suit', 'Standard operating procedure', 'Star Canopus diving accident', 'Static apnea', 'Steinke hood', 'Stena Seaspread diving accident', 'Stephanie Schwabe', 'Stephen Frink', 'Steve Chappell', 'Steve Irwin', 'Steve Lewis (diver)', 'Steve Parish', 'Steve Squyres', 'Stig Severinsen', 'Stress exposure training', 'Stéphane Mifsud', 'Sub Marine Explorer', 'Sub-Aqua Association', 'Submarine Escape Immersion Equipment', 'Submarine Escape Training Facility (Australia)', 'Submarine Escape and Rescue system (Royal Swedish Navy)', 'Submarine Products', 'Submarine Rescue Diving Recompression System', 'Submarine escape', 'Submarine escape training facility', 'Submarine pipeline', 'Submarine rescue', 'Submarine rescue ship', 'Submersible pressure gauge', 'Subskimmer', 'Sunita Williams', 'Supervised diver', 'Surface marker buoy', 'Surface oriented diving', 'Surface-supplied diving', 'Surface-supplied diving equipment', 'Surface-supplied diving skills', \"Surfer's ear\", 'Surgeon', 'Sustained load cracking', 'Suunto', 'Swedish warship Mars', 'Swietenia Puspa Lestari', 'Swimfin', \"Swimming at the 1900 Summer Olympics – Men's underwater swimming\", 'Swimming-induced pulmonary edema', 'Sydney Knowles', 'Sylvia Earle', 'T1200 Trenching Unit', 'Tactical Divers Group', 'Takuya Onishi', 'Tamara Benitez', 'Tanya Streeter', 'Tara Ruttley', 'Taravana', 'Task loading', 'Teaching method', 'Technical Diving International', 'Technical diving', 'Ted Eldred', 'Tektite habitat', 'Teseo Tesei', 'Testing and inspection of diving cylinders', 'Thalmann algorithm', 'Tham Luang cave rescue', 'The Darkness Beckons', 'The Diver', 'The Last Dive', 'The Silent World: A Story of Undersea Discovery and Adventure', 'The new science of skin and scuba diving', 'Therapeutic recompression', 'Thermal lance', 'Thermodynamic model of decompression', 'Thomas Marshburn', 'Thomas Pesquet', 'Through-water communications', 'Tim Peake', 'Timeline of diving technology', 'Timothy Creamer', 'Timothy J. Broderick', 'Timothy Kopra', 'Tom Mount', 'Tom Sietas', 'Torricellian chamber', 'Towboard', 'Travel gas', 'Tremie', 'Trevor Hampton', 'Trevor Jackson (diver)', 'Trim weights (diving)', 'Trimix (breathing gas)', 'Trimix Scuba Association', 'Turkish Underwater Sports Federation', 'Twin-hose regulator', 'Twitter (identifier)', 'Type 7103 DSRV', 'U.S. Navy Diving Manual', 'UNGERIN', 'URF (Swedish Navy)', 'US Navy decompression models and tables', 'USS Monitor', 'UTC', 'Umberto Pelizzari', 'Uncontrolled decompression', 'Undersea and Hyperbaric Medical Society', 'Underwater Archaeology Branch, Naval History & Heritage Command', 'Underwater Bike Race', 'Underwater Construction Teams', 'Underwater Demolition Command', 'Underwater Demolition Team', 'Underwater Escape Training Unit', 'Underwater Handbook', 'Underwater Hockey World Championships', 'Underwater Offence (Turkish Armed Forces)', 'Underwater Orienteering World Championships', 'Underwater Rugby World Championships', 'Underwater Society of America', 'Underwater acoustic communication', 'Underwater acoustic positioning system', 'Underwater acoustics', 'Underwater archaeologist', 'Underwater archaeology', 'Underwater breathing apparatus', 'Underwater computer vision', 'Underwater construction', 'Underwater cutting and welding', 'Underwater cycling', 'Underwater demolition', 'Underwater diving', 'Underwater diving on Guam', 'Underwater domain awareness', 'Underwater environment', 'Underwater exploration', 'Underwater firearm', 'Underwater football', 'Underwater habitat', 'Underwater hockey', 'Underwater hockey in Australia', 'Underwater hockey in Turkey', 'Underwater inspection', 'Underwater logging', 'Underwater orienteering', 'Underwater photography', 'Underwater photography (sport)', 'Underwater rugby', 'Underwater rugby in Colombia', 'Underwater rugby in the United States', 'Underwater search and recovery', 'Underwater searches', 'Underwater sports', 'Underwater survey', 'Underwater target shooting', 'Underwater vehicle', 'Underwater videography', 'Underwater vision', 'Underwater work', 'United Diving Instructors', 'United States Marine Corps Combatant Diver Course', 'United States Marine Corps Force Reconnaissance', 'United States Marine Corps Reconnaissance Battalions', 'United States Navy Experimental Diving Unit', 'United States Navy SEALs', 'United States military divers', 'Universal Referral Program', 'University of Tokyo', 'Unmanned diving', 'Valerie Taylor (diver)', 'Valerie van Heest', 'Valsalva maneuver', 'Variable buoyancy pressure vessel', 'Variable weight apnea', 'Variable weight apnea without fins', 'Varying Permeability Model', 'Vasa (ship)', 'Venture One diving accident', 'Vertical Blue', 'Victor Berge', 'Victor F. Guiel Jr.', 'VideoRay UROVs', 'Vintage scuba', 'Waage Drill II diving accident', 'Walter Steyn', 'Water jetting', 'Water polo cap', 'Water safety', 'Water separator', 'Water surface searches', 'Wave action', 'Weight belt', 'Welfreighter', 'Wesley C. Skiles', 'Western Norway University of Applied Sciences', 'Wet Nellie', 'Wet bell', 'Wet sub', 'Wetsuit', 'Whydah Gally', 'Wildrake diving accident', 'Willard Franklyn Searle', 'Willful violation', 'William Beebe', 'William Hogarth Main', 'William Paul Fife', 'William R. Royal', 'William Stone (caver)', 'William Trubridge', 'Women Divers Hall of Fame', 'Woodville Karst Plain Project', 'Work of breathing', 'World Recreational Scuba Training Council', 'Wreck diving', 'YMCA SCUBA Program', 'Yasemin Dalkılıç', 'Yokohama', 'Yuri Gagarin Cosmonaut Training Center', 'Yuri Lipski', 'Yves Le Prieur', 'Zale Parry', 'Émile Gagnan', 'Épaulard', 'Şahika Ercümen'];137\n"
     ]
    },
    {
     "name": "stderr",
     "output_type": "stream",
     "text": [
      "en.wikipedia.org (imageinfo) File:Konstantin Borisov (cropped).jpg\n",
      "Konstantin Borisov (en) data\n",
      "{\n",
      "  WARNINGS: <dict(1)> extracts\n",
      "  aliases: <list(1)> Konstantin Sergeevich Borisov\n",
      "  assessments: <dict(2)> Biography, Russia\n",
      "  description: Russian cosmonaut\n",
      "  extext: <str(282)> **Konstantin Sergeyevich Borisov** (Russian: ...\n",
      "  extract: <str(1440)> <p><b>Konstantin Sergeyevich Borisov</b> (R...\n",
      "  image: <list(2)> {'kind': 'query-pageimage', 'file': 'File:Konst...\n",
      "  label: Konstantin Borisov\n",
      "  length: 4,123\n",
      "  links: <list(14)> Astronaut, Expedition 69, Expedition 70, Houst...\n",
      "  modified: <dict(1)> page\n",
      "  pageid: 71749426\n",
      "  random: 1979 South Dakota Coyotes football team\n",
      "  requests: <list(2)> query, imageinfo\n",
      "  title: Konstantin Borisov\n",
      "  url: https://en.wikipedia.org/wiki/Konstantin_Borisov\n",
      "  url_raw: https://en.wikipedia.org/wiki/Konstantin_Borisov?action=raw\n",
      "  wikibase: Q109493060\n",
      "  wikidata_url: https://www.wikidata.org/wiki/Q109493060\n",
      "}\n",
      "en.wikipedia.org (querymore) 71749426\n",
      "Konstantin Borisov (en) data\n",
      "{\n",
      "  WARNINGS: <dict(1)> extracts\n",
      "  aliases: <list(1)> Konstantin Sergeevich Borisov\n",
      "  assessments: <dict(2)> Biography, Russia\n",
      "  backlinks: <list(24)> {'pageid': 199297, 'ns': 0, 'title': 'List...\n",
      "  categories: <list(7)> Category:1984 births, Category:21st-centur...\n",
      "  contributors: 31\n",
      "  description: Russian cosmonaut\n",
      "  extext: <str(282)> **Konstantin Sergeyevich Borisov** (Russian: ...\n",
      "  extract: <str(1440)> <p><b>Konstantin Sergeyevich Borisov</b> (R...\n",
      "  files: <list(9)> File:Engineering.png, File:Flag of Russia.svg, ...\n",
      "  image: <list(2)> {'kind': 'query-pageimage', 'file': 'File:Konst...\n",
      "  label: Konstantin Borisov\n",
      "  languages: <list(9)> {'lang': 'cs', 'title': 'Konstantin Borisov...\n",
      "  length: 4,123\n",
      "  links: <list(14)> Astronaut, Expedition 69, Expedition 70, Houst...\n",
      "  modified: <dict(1)> page\n",
      "  pageid: 71749426\n",
      "  random: 1979 South Dakota Coyotes football team\n",
      "  requests: <list(3)> query, imageinfo, querymore\n",
      "  title: Konstantin Borisov\n",
      "  url: https://en.wikipedia.org/wiki/Konstantin_Borisov\n",
      "  url_raw: https://en.wikipedia.org/wiki/Konstantin_Borisov?action=raw\n",
      "  views: 134\n",
      "  wikibase: Q109493060\n",
      "  wikidata_url: https://www.wikidata.org/wiki/Q109493060\n",
      "}\n",
      "+ query results in cache\n",
      "+ query results in cache\n",
      "en.wikipedia.org (query) Oleg Kononenko\n"
     ]
    },
    {
     "name": "stdout",
     "output_type": "stream",
     "text": [
      "Konstantin Borisov;**Konstantin Sergeyevich Borisov** (Russian: Константин Сергеевич Борисов; born 14 August 1984 in Smolensk) is a Russian cosmonaut. He flew on the SpaceX Crew-7 mission that launched on August 26, 2023, serving as flight engineer on Expedition 69/70 to the International Space Station.;['Astronaut', 'Expedition 69', 'Expedition 70', 'Houston Chronicle', 'International Space Station', 'Moscow Aviation Institute', 'Plekhanov Russian University of Economics', 'Roscosmos', 'Russian language', 'Smolensk', 'Smolensk Oblast', 'SpaceX Crew-7', 'USSR', 'University of Warwick'];134\n"
     ]
    },
    {
     "name": "stderr",
     "output_type": "stream",
     "text": [
      "en.wikipedia.org (imageinfo) File:'A Beautiful Planet' World Prem...\n",
      "Oleg Kononenko (en) data\n",
      "{\n",
      "  WARNINGS: <dict(1)> extracts\n",
      "  aliases: <list(1)> Oleg Dmitriyevich Kononenko\n",
      "  assessments: <dict(3)> Biography, Russia, Spaceflight\n",
      "  description: Russian cosmonaut\n",
      "  extext: <str(923)> **Oleg Dmitriyevich Kononenko** (Russian: Оле...\n",
      "  extract: <str(1071)> <link rel=\"mw-deduplicated-inline-style\" hr...\n",
      "  image: <list(2)> {'kind': 'query-pageimage', 'file': \"File:'A Be...\n",
      "  label: Oleg Kononenko\n",
      "  length: 26,717\n",
      "  links: <list(120)> ABC News, Aleksey Ovchinin, Alexander Gerst, ...\n",
      "  modified: <dict(1)> page\n",
      "  pageid: 8659323\n",
      "  random: 2009 Men's EuroHockey Nations Championship\n",
      "  redirects: <list(1)> {'pageid': 64642989, 'ns': 0, 'title': 'Ole...\n",
      "  requests: <list(2)> query, imageinfo\n",
      "  title: Oleg Kononenko\n",
      "  url: https://en.wikipedia.org/wiki/Oleg_Kononenko\n",
      "  url_raw: https://en.wikipedia.org/wiki/Oleg_Kononenko?action=raw\n",
      "  wikibase: Q375659\n",
      "  wikidata_url: https://www.wikidata.org/wiki/Q375659\n",
      "}\n",
      "en.wikipedia.org (querymore) 8659323\n",
      "Oleg Kononenko (en) data\n",
      "{\n",
      "  WARNINGS: <dict(1)> extracts\n",
      "  aliases: <list(1)> Oleg Dmitriyevich Kononenko\n",
      "  assessments: <dict(3)> Biography, Russia, Spaceflight\n",
      "  backlinks: <list(198)> {'pageid': 664, 'ns': 0, 'title': 'Astron...\n",
      "  categories: <list(12)> Category:1964 births, Category:Commanders...\n",
      "  contributors: 172\n",
      "  description: Russian cosmonaut\n",
      "  extext: <str(923)> **Oleg Dmitriyevich Kononenko** (Russian: Оле...\n",
      "  extract: <str(1071)> <link rel=\"mw-deduplicated-inline-style\" hr...\n",
      "  files: <list(22)> File:'A Beautiful Planet' World Premiere (NHQ2...\n",
      "  image: <list(2)> {'kind': 'query-pageimage', 'file': \"File:'A Be...\n",
      "  label: Oleg Kononenko\n",
      "  languages: <list(31)> {'lang': 'ar', 'title': 'أوليغ كونونينكو'}...\n",
      "  length: 26,717\n",
      "  links: <list(120)> ABC News, Aleksey Ovchinin, Alexander Gerst, ...\n",
      "  modified: <dict(1)> page\n",
      "  pageid: 8659323\n",
      "  random: 2009 Men's EuroHockey Nations Championship\n",
      "  redirects: <list(1)> {'pageid': 64642989, 'ns': 0, 'title': 'Ole...\n",
      "  requests: <list(3)> query, imageinfo, querymore\n",
      "  title: Oleg Kononenko\n",
      "  url: https://en.wikipedia.org/wiki/Oleg_Kononenko\n",
      "  url_raw: https://en.wikipedia.org/wiki/Oleg_Kononenko?action=raw\n",
      "  views: 365\n",
      "  wikibase: Q375659\n",
      "  wikidata_url: https://www.wikidata.org/wiki/Q375659\n",
      "}\n",
      "+ query results in cache\n",
      "+ query results in cache\n",
      "en.wikipedia.org (query) Nikolai Chub\n"
     ]
    },
    {
     "name": "stdout",
     "output_type": "stream",
     "text": [
      "Oleg Kononenko;**Oleg Dmitriyevich Kononenko** (Russian: Олег Дмитриевич Кононенко; Turkmen: _Oleg Dmitriýewiç Kononenko_ ; born 21 June 1964) is a Russian cosmonaut. He has flown to the International Space Station five times as a flight engineer for Expedition 17 aboard Soyuz TMA-12, as a flight engineer on Expedition 30 and commander of Expedition 31 aboard Soyuz TMA-03M, as a flight engineer on Expedition 44 and Expedition 45 aboard Soyuz TMA-17M, and as commander of Expedition 58 and Expedition 59 aboard Soyuz MS-11 and Expedition 70 and Expedition 71 aboard Soyuz MS-24/MS-25.  Kononenko accumulated over 924.886 days in orbit during his five (including current one-year flight) long duration flights to ISS, which is the longest time in space of any cosmonaut or astronaut. Gennady Padalka previously held the world record for the most time spent in space at 878 days with Kononenko breaking the record on February 4, 2024 at 07:30:08 UTC.;['ABC News', 'Aleksey Ovchinin', 'Alexander Gerst', 'Alexander Grebenkin', 'André Kuipers', 'Anne McClain', 'Anton Shkaplerov', 'Arkalyk', 'Associated Press', 'BBC News', 'Baikonur Cosmodrome', 'China', 'Civilian', 'Cosmonaut', 'Daniel C. Burbank', 'David Saint-Jacques', 'Destiny (ISS module)', 'Donald Pettit', 'Eastern Slavic naming customs', 'Eastern Time Zone', 'Engineer', 'Expedition 11', 'Expedition 17', 'Expedition 18', 'Expedition 30', 'Expedition 31', 'Expedition 44', 'Expedition 45', 'Expedition 58', 'Expedition 59', 'Expedition 69', 'Expedition 70', 'Expedition 71', 'Expedition 9', 'Extravehicular activity', 'Flag of Turkmenistan', 'Gagarin Cosmonaut Training Center', 'Gagarin, Smolensk Oblast', 'Gennady Padalka', 'Gurbanguly Berdymukhamedov', 'Hero of Turkmenistan', 'Hero of the Russian Federation', 'ISS year-long mission', 'International Business Times', 'International Space Station', 'Jeanette Epps', 'Jiang Xinlin', 'Kazakhstan', 'Kharkiv Aviation Institute', 'Kimiya Yui', 'Kjell N. Lindgren', 'Lebap Region', 'List of International Space Station expeditions', 'List of International Space Station spacewalks', 'List of Tiangong Space Station expeditions', 'List of astronauts by selection', 'List of human spaceflights in Tiangong Program', 'List of human spaceflights to the International Space Station', 'List of human spaceflights to the Tiangong space station', 'List of spaceflight records', 'List of visitors to the International Space Station', \"Loral O'Hara\", 'Low Earth orbit', 'Matthew Dominick', 'Mechanical engineer', 'Medal \"For Merit in Space Exploration\"', 'Michael Barratt (astronaut)', 'Moscow', 'NASA', 'NASA Distinguished Public Service Medal', 'NASA Space Flight Medal', 'NASASpaceFlight.com', 'National Aeronautics and Space Administration', 'Nikolai Chub', 'Nikolay Yegorovich Zhukovsky', 'Oleg Grigoriyevich Kononenko', 'Orlan space suit', 'Patronymic', 'Pilot-Cosmonaut of the Russian Federation', 'Pirs (ISS module)', 'Reuters', 'Richard Garriott', 'Roscosmos', 'Russia', 'Russian language', 'SPACE.com', 'Samara, Russia', 'Sergey Aleksandrovich Volkov', 'Shenzhou 17', 'Smolensk Oblast', 'Soyuz MS-09', 'Soyuz MS-10', 'Soyuz MS-11', 'Soyuz MS-24', 'Soyuz MS-25', 'Soyuz TM-34', 'Soyuz TMA-03M', 'Soyuz TMA-12', 'Soyuz TMA-13', 'Soyuz TMA-17M', 'SpaceX Crew-8', 'Spaceflight participant', 'Star of President Order', 'Strela (crane)', 'Surname', 'Tang Hongbo', 'Tang Shengjie', 'The Houston Chronicle', 'Tiangong space station', 'TsSKB-Progress', 'Turkmen SSR', 'Turkmen language', 'Turkmenistan', 'Türkmenabat', 'Türkmenabat Airport', 'USSR', 'Uncrewed spaceflights to the International Space Station', 'United States', 'Zvezda (ISS module)', 'Zvezdny Gorodok'];365\n"
     ]
    },
    {
     "name": "stderr",
     "output_type": "stream",
     "text": [
      "en.wikipedia.org (imageinfo) File:Nikolai Chub at the Expedition ...\n",
      "Nikolai Chub (en) data\n",
      "{\n",
      "  WARNINGS: <dict(1)> extracts\n",
      "  aliases: <list(1)> Nikolay Aleksandrovich Chub\n",
      "  assessments: <dict(3)> Biography, Russia, Spaceflight\n",
      "  description: Russian cosmonaut\n",
      "  extext: <str(190)> **Nikolay Aleksandrovich Chub** (Russian: Ник...\n",
      "  extract: <str(225)> <p><b>Nikolay Aleksandrovich Chub</b> (Russi...\n",
      "  image: <list(2)> {'kind': 'query-pageimage', 'file': 'File:Nikol...\n",
      "  label: Nikolay Chub\n",
      "  length: 6,311\n",
      "  links: <list(62)> Alexander Grebenkin, Astronaut, Bibcode (ident...\n",
      "  modified: <dict(1)> page\n",
      "  pageid: 66020268\n",
      "  random: Kadılar, Çine\n",
      "  redirects: <list(1)> {'pageid': 67923231, 'ns': 0, 'title': 'Nik...\n",
      "  requests: <list(2)> query, imageinfo\n",
      "  title: Nikolai Chub\n",
      "  url: https://en.wikipedia.org/wiki/Nikolai_Chub\n",
      "  url_raw: https://en.wikipedia.org/wiki/Nikolai_Chub?action=raw\n",
      "  wikibase: Q50379072\n",
      "  wikidata_url: https://www.wikidata.org/wiki/Q50379072\n",
      "}\n",
      "en.wikipedia.org (querymore) 66020268\n",
      "Nikolai Chub (en) data\n",
      "{\n",
      "  WARNINGS: <dict(1)> extracts\n",
      "  aliases: <list(1)> Nikolay Aleksandrovich Chub\n",
      "  assessments: <dict(3)> Biography, Russia, Spaceflight\n",
      "  backlinks: <list(50)> {'pageid': 664, 'ns': 0, 'title': 'Astrona...\n",
      "  categories: <list(8)> Category:1984 births, Category:Astronaut s...\n",
      "  contributors: 35\n",
      "  description: Russian cosmonaut\n",
      "  extext: <str(190)> **Nikolay Aleksandrovich Chub** (Russian: Ник...\n",
      "  extract: <str(225)> <p><b>Nikolay Aleksandrovich Chub</b> (Russi...\n",
      "  files: <list(9)> File:Commons-logo.svg, File:Flag of Russia.svg,...\n",
      "  image: <list(2)> {'kind': 'query-pageimage', 'file': 'File:Nikol...\n",
      "  label: Nikolay Chub\n",
      "  languages: <list(8)> {'lang': 'cs', 'title': 'Nikolaj Čub'}, {'l...\n",
      "  length: 6,311\n",
      "  links: <list(62)> Alexander Grebenkin, Astronaut, Bibcode (ident...\n",
      "  modified: <dict(1)> page\n",
      "  pageid: 66020268\n",
      "  random: Kadılar, Çine\n",
      "  redirects: <list(1)> {'pageid': 67923231, 'ns': 0, 'title': 'Nik...\n",
      "  requests: <list(3)> query, imageinfo, querymore\n",
      "  title: Nikolai Chub\n",
      "  url: https://en.wikipedia.org/wiki/Nikolai_Chub\n",
      "  url_raw: https://en.wikipedia.org/wiki/Nikolai_Chub?action=raw\n",
      "  views: 112\n",
      "  wikibase: Q50379072\n",
      "  wikidata_url: https://www.wikidata.org/wiki/Q50379072\n",
      "}\n",
      "+ query results in cache\n",
      "+ query results in cache\n",
      "en.wikipedia.org (query) Loral O'Hara\n"
     ]
    },
    {
     "name": "stdout",
     "output_type": "stream",
     "text": [
      "Nikolai Chub;**Nikolay Aleksandrovich Chub** (Russian: Николай Александрович Чуб; born 10 June 1984 in Novocherkassk, RSFSR, USSR, now Russia) is a cosmonaut selected by the Roscosmos space agency in 2012.;['Alexander Grebenkin', 'Astronaut', 'Bibcode (identifier)', 'China', 'Cosmonaut', 'Doi (identifier)', 'ESA CAVES', 'European Space Agency', 'Expedition 68', 'Expedition 69', 'Expedition 70', 'Expedition 71', 'Extravehicular activity', 'Hdl (identifier)', 'ISS year-long mission', 'ISSN (identifier)', 'Informatics', 'International Space Station', 'Italy', 'Jeanette Epps', 'Jiang Xinlin', 'Johnson Space Center', 'Kathleen Rubins', 'Kommersant', 'List of International Space Station expeditions', 'List of International Space Station spacewalks', 'List of Tiangong Space Station expeditions', 'List of astronauts by selection', 'List of astronauts by year of selection', 'List of human spaceflights in Tiangong Program', 'List of human spaceflights to the International Space Station', 'List of human spaceflights to the Tiangong space station', 'List of visitors to the International Space Station', \"Loral O'Hara\", 'Low Earth orbit', 'Management', 'Matthew Dominick', 'Michael Barratt (astronaut)', 'Novocherkassk', 'Oleg Kononenko', 'Roscosmos', 'Russia', 'Russian Soviet Federative Socialist Republic', 'Russian language', 'S2CID (identifier)', 'Shenzhou 17', 'Slovenia', 'Soyuz MS-12', 'Soyuz MS-17', 'Soyuz MS-22', 'Soyuz MS-24', 'Soyuz MS-25', 'SpaceX Crew-8', 'TASS', 'Tang Hongbo', 'Tang Shengjie', 'Tiangong space station', 'Travel visa', 'US Orbital Segment', 'USSR', 'Uncrewed spaceflights to the International Space Station', 'United States'];112\n"
     ]
    },
    {
     "name": "stderr",
     "output_type": "stream",
     "text": [
      "en.wikipedia.org (imageinfo) File:Jsc2022e095887 alt.jpg\n",
      "Loral O'Hara (en) data\n",
      "{\n",
      "  WARNINGS: <dict(1)> extracts\n",
      "  assessments: <dict(3)> Biography, Spaceflight, Women scientists\n",
      "  description: US astronaut\n",
      "  extext: <str(85)> **Loral Ashley O'Hara** (born May 3, 1983) is ...\n",
      "  extract: <str(124)> <p class=\"mw-empty-elt\"></p><p><b>Loral Ashl...\n",
      "  image: <list(2)> {'kind': 'query-pageimage', 'file': 'File:Jsc20...\n",
      "  label: Loral O'Hara\n",
      "  length: 5,545\n",
      "  links: <list(102)> Alexander Grebenkin, Astronaut ranks and posi...\n",
      "  modified: <dict(1)> page\n",
      "  pageid: 54253230\n",
      "  random: Jaswinder Bolina\n",
      "  requests: <list(2)> query, imageinfo\n",
      "  title: Loral O'Hara\n",
      "  url: https://en.wikipedia.org/wiki/Loral_O%27Hara\n",
      "  url_raw: https://en.wikipedia.org/wiki/Loral_O%27Hara?action=raw\n",
      "  wikibase: Q30157742\n",
      "  wikidata_url: https://www.wikidata.org/wiki/Q30157742\n",
      "}\n",
      "en.wikipedia.org (querymore) 54253230\n"
     ]
    },
    {
     "name": "stdout",
     "output_type": "stream",
     "text": [
      "Loral O'Hara;**Loral Ashley O'Hara** (born May 3, 1983) is an American engineer and NASA astronaut.;['Alexander Grebenkin', 'Astronaut ranks and positions', 'Bachelor of Science', 'CBS Broadcasting', 'CBS News', 'Canadian Space Agency', 'China', 'Clements High School', 'DSV Alvin', 'Emergency medical technician', 'Engineer', 'Expedition 68', 'Expedition 69', 'Expedition 70', 'Extravehicular activity', 'Francisco Rubio (astronaut)', 'Goddard Space Flight Center', 'Houston', 'Houston, Texas', 'ISS year-long mission', 'International Space Station', 'Jasmin Moghbeli', 'Jason (ROV)', 'Jeanette Epps', 'Jennifer Sidey', 'Jessica Watkins', 'Jet Propulsion Laboratory', 'Jiang Xinlin', 'Jonny Kim', 'Joshua Kutryk', 'Kayla Barron', 'List of International Space Station expeditions', 'List of International Space Station spacewalks', 'List of Tiangong Space Station expeditions', 'List of United States Marine Corps astronauts', 'List of United States Space Force astronauts', 'List of astronauts by year of selection', 'List of human spaceflights in Tiangong Program', 'List of human spaceflights to the International Space Station', 'List of human spaceflights to the Tiangong space station', 'List of visitors to the International Space Station', 'Low Earth orbit', 'Master of Science', 'Matthew Dominick', 'Mercury Seven', 'Michael Barratt (astronaut)', 'NASA', 'NASA Astronaut Corps', 'NASA Astronaut Group 10', 'NASA Astronaut Group 11', 'NASA Astronaut Group 12', 'NASA Astronaut Group 13', 'NASA Astronaut Group 14', 'NASA Astronaut Group 15', 'NASA Astronaut Group 16', 'NASA Astronaut Group 17', 'NASA Astronaut Group 18', 'NASA Astronaut Group 19', 'NASA Astronaut Group 2', 'NASA Astronaut Group 20', 'NASA Astronaut Group 21', 'NASA Astronaut Group 22', 'NASA Astronaut Group 23', 'NASA Astronaut Group 3', 'NASA Astronaut Group 4', 'NASA Astronaut Group 5', 'NASA Astronaut Group 6', 'NASA Astronaut Group 7', 'NASA Astronaut Group 8', 'NASA Astronaut Group 9', 'NASA astronaut', 'NSF-GRFP', 'National Science Foundation', 'New Bedford, Massachusetts', 'Nikolai Chub', 'Oklahoma City, Oklahoma', 'Oleg Kononenko', 'Purdue University', 'Raja Chari', 'Reduced-gravity aircraft', 'Robb Kulin', 'Robert Hines (astronaut)', 'Rocketplane Limited, Inc.', 'Russia', 'Shenzhou 17', 'Soyuz MS-22', 'Soyuz MS-23', 'Soyuz MS-24', 'SpaceX Crew-8', 'Sugar Land, Texas', 'TED (conference)', 'Tang Hongbo', 'Tang Shengjie', 'Texas', 'Tiangong space station', 'Uncrewed spaceflights to the International Space Station', 'United States', 'University of Kansas', 'Warren Hoburg', 'Wilderness first responder', 'Woods Hole Oceanographic Institution', 'Zena Cardman'];281\n"
     ]
    },
    {
     "name": "stderr",
     "output_type": "stream",
     "text": [
      "Loral O'Hara (en) data\n",
      "{\n",
      "  WARNINGS: <dict(1)> extracts\n",
      "  assessments: <dict(3)> Biography, Spaceflight, Women scientists\n",
      "  backlinks: <list(83)> {'pageid': 664, 'ns': 0, 'title': 'Astrona...\n",
      "  categories: <list(11)> Category:1983 births, Category:21st-centu...\n",
      "  contributors: 75\n",
      "  description: US astronaut\n",
      "  extext: <str(85)> **Loral Ashley O'Hara** (born May 3, 1983) is ...\n",
      "  extract: <str(124)> <p class=\"mw-empty-elt\"></p><p><b>Loral Ashl...\n",
      "  files: <list(8)> File:Commons-logo.svg, File:Flag of Russia.svg,...\n",
      "  image: <list(2)> {'kind': 'query-pageimage', 'file': 'File:Jsc20...\n",
      "  label: Loral O'Hara\n",
      "  languages: <list(16)> {'lang': 'ar', 'title': 'لورال أشلي أوهارا...\n",
      "  length: 5,545\n",
      "  links: <list(102)> Alexander Grebenkin, Astronaut ranks and posi...\n",
      "  modified: <dict(1)> page\n",
      "  pageid: 54253230\n",
      "  random: Jaswinder Bolina\n",
      "  requests: <list(3)> query, imageinfo, querymore\n",
      "  title: Loral O'Hara\n",
      "  url: https://en.wikipedia.org/wiki/Loral_O%27Hara\n",
      "  url_raw: https://en.wikipedia.org/wiki/Loral_O%27Hara?action=raw\n",
      "  views: 281\n",
      "  wikibase: Q30157742\n",
      "  wikidata_url: https://www.wikidata.org/wiki/Q30157742\n",
      "}\n",
      "+ query results in cache\n",
      "+ query results in cache\n"
     ]
    }
   ],
   "source": [
    "output = '{};{};{};{}'\n",
    "\n",
    "for astronaut in names:\n",
    "    page = wptools.page(astronaut)\n",
    "    links= page.get_query().data['links']\n",
    "    views= page.get_querymore().data['views']\n",
    "    name = page.get_query().data['title']\n",
    "    summ = page.get_query().data['extext'].replace('\\n',' ')\n",
    "    print(output.format(name, summ, links, views))"
   ]
  },
  {
   "cell_type": "markdown",
   "metadata": {},
   "source": [
    "### Exercise 3\n",
    "#### Question 3.1 \n",
    "Using Wikipedia, compile the list of UEFA's Intertoto cup winners sorted by country."
   ]
  },
  {
   "cell_type": "code",
   "execution_count": 42,
   "metadata": {},
   "outputs": [
    {
     "name": "stderr",
     "output_type": "stream",
     "text": [
      "en.wikipedia.org (restbase) /page/html/intertoto\n",
      "intertoto (en) data\n",
      "{\n",
      "  html: <str(659186)> <!DOCTYPE html><html prefix=\"dc: http://purl...\n",
      "  requests: <list(1)> restbase\n",
      "}\n"
     ]
    },
    {
     "name": "stdout",
     "output_type": "stream",
     "text": [
      "Austria\n",
      "['Austria Salzburg', 'Pasching', 'Tirol Innsbruck']\n",
      "Belgium\n",
      "['Standard Liège']\n",
      "Croatia\n",
      "['Segesta']\n",
      "Czech Republic\n",
      "['Sigma Olomouc', 'Slovan Liberec']\n",
      "Denmark\n",
      "['Silkeborg']\n",
      "England\n",
      "['Aston Villa', 'Fulham', 'Newcastle United', 'West Ham United']\n",
      "France\n",
      "['Auxerre', 'Bastia', 'Bordeaux', 'Guingamp', 'Lens', 'Lille', 'Lyon', 'Marseille', 'Metz', 'Montpellier', 'Paris Saint-Germain', 'Rennes', 'Strasbourg', 'Troyes']\n",
      "Germany\n",
      "['Hamburger SV', 'Karlsruher SC', 'MSV Duisburg', 'Schalke 04', 'VfB Stuttgart', 'VfL Wolfsburg', 'Werder Bremen']\n",
      "Italy\n",
      "['Bologna', 'Brescia', 'Juventus', 'Perugia', 'Udinese']\n",
      "Netherlands\n",
      "['Heerenveen']\n",
      "Poland\n",
      "['Ruch Chorzów']\n",
      "Portugal\n",
      "['Braga', 'Leiria']\n",
      "Romania\n",
      "['CFR Cluj']\n",
      "Russia\n",
      "['Rotor Volgograd', 'Zenit Saint Petersburg']\n",
      "Serbia\n",
      "['[lower-alpha 2]']\n",
      "Spain\n",
      "['Atlético Madrid', 'Celta Vigo', 'Deportivo La Coruña', 'Málaga', 'Valencia', 'Villarreal']\n",
      "Sweden\n",
      "['Halmstads BK']\n",
      "Switzerland\n",
      "['Basel']\n"
     ]
    }
   ],
   "source": [
    "import wptools\n",
    "from bs4 import BeautifulSoup, SoupStrainer\n",
    "\n",
    "page    = wptools.page('intertoto')\n",
    "content = page.get_restbase('/page/html/').data['html']\n",
    "#print(content)\n",
    "soup    = BeautifulSoup(content, 'html.parser')\n",
    "tables  = soup.find_all(SoupStrainer('table'))\n",
    "\n",
    "table_body = None\n",
    "for t in tables:\n",
    "    #print(t)\n",
    "    if t.find(string=\"Performance by club\") is not None:\n",
    "        table_body = t\n",
    "        #print(t)\n",
    "        break\n",
    "        \n",
    "data = {}\n",
    "#print(table_body)\n",
    "\n",
    "rows = table_body.find_all('th',scope=\"row\")\n",
    "for row in rows:\n",
    "    club    = row.find_all('a')[-1].get_text()\n",
    "    country = row.find('img')['alt']\n",
    "    #print(club, country)\n",
    "    if country in data:\n",
    "        data[country].append(club)\n",
    "    else:\n",
    "        data[country] = [club]\n",
    "\n",
    "#print(data)\n",
    "for c in sorted(data):\n",
    "    print(c)\n",
    "    print(sorted(data[c]))"
   ]
  },
  {
   "cell_type": "markdown",
   "metadata": {},
   "source": [
    "#### Question 3.2\n",
    "Compute the number of Intertoto winners per country."
   ]
  },
  {
   "cell_type": "code",
   "execution_count": 43,
   "metadata": {},
   "outputs": [
    {
     "name": "stdout",
     "output_type": "stream",
     "text": [
      "{'Spain': 6, 'Germany': 7, 'France': 14, 'Italy': 5, 'England': 4, 'Denmark': 1, 'Portugal': 2, 'Austria': 3, 'Russia': 2, 'Croatia': 1, 'Belgium': 1, 'Sweden': 1, 'Poland': 1, 'Serbia': 1, 'Czech Republic': 2, 'Switzerland': 1, 'Netherlands': 1, 'Romania': 1}\n"
     ]
    }
   ],
   "source": [
    "answer = {}\n",
    "for country,teams in data.items():\n",
    "    answer[country] = len(teams)\n",
    "print(answer)"
   ]
  },
  {
   "cell_type": "markdown",
   "metadata": {},
   "source": [
    "### Exercise 4\n",
    "\n",
    "Let's play with New York Times API! Register here to get your API access token: https://developer.nytimes.com/apis\n",
    "\n",
    "#### Question 4.1\n",
    "\n",
    "Extract for each astronaut articles in NYT mentioning them from the year 2022. Create a dictionay where by the astronauts name you could get information on number of articles published about them in 2022, links to the last 10 articles of 2022, and list of keywords which are associated with those articles, including how many times each keyword appeared. \n",
    "\n",
    "For example \n",
    "\n",
    "    {\"John Smith\": {\"articles\": [\"nytimes.com/The_Best_Astronaut\",\n",
    "                                 \"nytimes.com/Do_we_really_believe_in_space_travel\"],\n",
    "                   \"num_articles\": 2,\n",
    "                   \"keywords\": {\"space\": 2, \"celebrities\": 1}}}\n",
    "                   \n",
    "<span style=\"color:red\">ATTENTION!</span> Never publish your API access key on github or any other open website! It is only to be used by you. (Well, otherwise the API service could ban you :) )"
   ]
  },
  {
   "cell_type": "code",
   "execution_count": 51,
   "metadata": {},
   "outputs": [],
   "source": [
    "access_token = \"E87DnYjnRDXZKJC1aTR1XyYdUsxWicEQ6AG6GrR0MP7WCb4R\""
   ]
  },
  {
   "cell_type": "code",
   "execution_count": 55,
   "metadata": {},
   "outputs": [],
   "source": [
    "astronauts_info = {}"
   ]
  },
  {
   "cell_type": "code",
   "execution_count": 53,
   "metadata": {},
   "outputs": [],
   "source": [
    "import json\n",
    "\n",
    "for astronaut in names:\n",
    "    response = requests.get(f'https://api.nytimes.com/svc/search/v2/articlesearch.json?q={astronaut}&fq=pub_year:2022&sort=newest&api-key='+access_token)\n",
    "    if response.ok:\n",
    "        astronauts_info[astronaut] = {}\n",
    "        result = json.loads(response.content.decode('utf-8'))\n",
    "        astronauts_info[astronaut]['num_articles'] = result['response']['meta']['hits']\n",
    "        astronauts_info[astronaut]['articles'] = []\n",
    "        astronauts_info[astronaut]['keywords'] = {}\n",
    "        for doc in result['response']['docs']:\n",
    "            astronauts_info[astronaut]['articles'].append(doc['web_url'])\n",
    "            for keyword in doc['keywords']:\n",
    "                if keyword['value'] not in astronauts_info[astronaut]['keywords']:\n",
    "                    astronauts_info[astronaut]['keywords'][keyword['value']] = 0\n",
    "                astronauts_info[astronaut]['keywords'][keyword['value']] += 1"
   ]
  },
  {
   "cell_type": "code",
   "execution_count": 56,
   "metadata": {},
   "outputs": [
    {
     "name": "stdout",
     "output_type": "stream",
     "text": [
      "{}\n"
     ]
    }
   ],
   "source": [
    "print(astronauts_info)"
   ]
  },
  {
   "cell_type": "markdown",
   "metadata": {},
   "source": [
    "#### Question 4.2. Bonus :) \n",
    "\n",
    "What happens when we want to extract links to all the articles and not just the last 10? Extend your program to iterate through pages of the query results :)"
   ]
  },
  {
   "cell_type": "code",
   "execution_count": null,
   "metadata": {},
   "outputs": [],
   "source": []
  }
 ],
 "metadata": {
  "kernelspec": {
   "display_name": "Python 3 (ipykernel)",
   "language": "python",
   "name": "python3"
  },
  "language_info": {
   "codemirror_mode": {
    "name": "ipython",
    "version": 3
   },
   "file_extension": ".py",
   "mimetype": "text/x-python",
   "name": "python",
   "nbconvert_exporter": "python",
   "pygments_lexer": "ipython3",
   "version": "3.11.5"
  }
 },
 "nbformat": 4,
 "nbformat_minor": 2
}
