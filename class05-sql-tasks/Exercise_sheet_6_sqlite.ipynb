{
 "cells": [
  {
   "cell_type": "markdown",
   "metadata": {},
   "source": [
    "# Exercise Sheet \\#6 - SQLite\n",
    "\n",
    "In this sheet, we will use the [SQLite sample database](http://www.sqlitetutorial.net/wp-content/uploads/2018/03/chinook.zip) to explore (and learn!) the SQL language.\n",
    "\n",
    "First, make sure (1) you installed [SQLite](https://www.sqlite.org/download.html) on your computer, and (2) you downloaded (and unzipped in your working directory) the Sample database using the link given above. Recall the Data Model of that database is available [here](http://www.sqlitetutorial.net/wp-content/uploads/2015/11/sqlite-sample-database-color.jpg).\n",
    "\n",
    "For each question below, write the corresponding query and **run it on the sample data base** using either the sqlite3 interpreter or sqlitestudio or an equivalent tool.\n",
    "\n",
    "## Exercise 1 - Using single tables\n",
    "In this exercise, you are asked to perform various tasks on single tables."
   ]
  },
  {
   "cell_type": "markdown",
   "metadata": {},
   "source": [
    "### Question 1.1\n",
    "Write a SQL query which lists the artists."
   ]
  },
  {
   "cell_type": "markdown",
   "metadata": {},
   "source": [
    "SELECT name FROM artists"
   ]
  },
  {
   "cell_type": "markdown",
   "metadata": {},
   "source": [
    "### Question 1.2\n",
    "Write a SQL query which computes the total number of artists."
   ]
  },
  {
   "cell_type": "markdown",
   "metadata": {},
   "source": [
    "SELECT COUNT(ArtistId) FROM artists"
   ]
  },
  {
   "cell_type": "markdown",
   "metadata": {},
   "source": [
    "### Question 1.3\n",
    "Write a SQL query which counts how many distinct artists are registered."
   ]
  },
  {
   "cell_type": "markdown",
   "metadata": {},
   "source": [
    "SELECT DISTINCT COUNT(Name) from artists"
   ]
  },
  {
   "cell_type": "markdown",
   "metadata": {},
   "source": [
    "### Question 1.4\n",
    "Write a SQL query which lists the artists whose name starts with N."
   ]
  },
  {
   "cell_type": "markdown",
   "metadata": {},
   "source": [
    "SELECT *\n",
    "FROM artists\n",
    "WHERE name LIKE 'N%"
   ]
  },
  {
   "cell_type": "markdown",
   "metadata": {},
   "source": [
    "### Question 1.5\n",
    "Write a SQL query which computes the number of tracks per album."
   ]
  },
  {
   "cell_type": "markdown",
   "metadata": {},
   "source": [
    "SELECT COUNT(name) from tracks GROUP BY AlbumId\n",
    "\n",
    "to check individually: SELECT COUNT(NAME) FROM TRACKS WHERE ALBUMID=1"
   ]
  },
  {
   "cell_type": "markdown",
   "metadata": {},
   "source": [
    "### Question 1.6\n",
    "Write a SQL query which computes the average duration (in milliseconds) of songs."
   ]
  },
  {
   "cell_type": "markdown",
   "metadata": {},
   "source": [
    "SELECT AVG(Milliseconds) FROM tracks"
   ]
  },
  {
   "cell_type": "markdown",
   "metadata": {},
   "source": [
    "### Question 1.7\n",
    "Add **Bono** to the _artists_ table (make sure it gets a valid id)."
   ]
  },
  {
   "cell_type": "markdown",
   "metadata": {},
   "source": [
    "INSERT INTO artists(name) VALUES (\"Bono\")"
   ]
  },
  {
   "cell_type": "markdown",
   "metadata": {},
   "source": [
    "### Question 1.8\n",
    "List artists who do not appear in the _albums_ table.\n",
    "If there are any, what is the query you would use to remove them from the table ? "
   ]
  },
  {
   "cell_type": "markdown",
   "metadata": {},
   "source": [
    "SELECT artists.*\n",
    "FROM artists\n",
    "LEFT JOIN albums ON artists.ArtistId = albums.ArtistId\n",
    "WHERE albums.AlbumId IS NULL; \n",
    "\n",
    "---- To delete ----\n",
    "DELETE FROM artists\n",
    "WHERE ArtistId NOT IN (SELECT ArtistId FROM albums);"
   ]
  },
  {
   "cell_type": "markdown",
   "metadata": {},
   "source": [
    "### Question 1.9\n",
    "How could you remove all artists whose name starts with \"N\" from the _artists_ table ?"
   ]
  },
  {
   "cell_type": "markdown",
   "metadata": {},
   "source": [
    "DELETE FROM artists WHERE name LIKE 'N%"
   ]
  },
  {
   "cell_type": "markdown",
   "metadata": {},
   "source": [
    "## Exercise 2 - Using multiple tables\n",
    "In this exercise, you are asked to write queries which may require more than one table. "
   ]
  },
  {
   "cell_type": "markdown",
   "metadata": {},
   "source": [
    "### Question 2.1\n",
    "Write a SQL query which retrieves the list of artists (names) together with their albums recorded in the database."
   ]
  },
  {
   "cell_type": "markdown",
   "metadata": {},
   "source": [
    "SELECT name, title\n",
    "FROM albums\n",
    "INNER JOIN artists ON artists.ArtistId = albums.AlbumId"
   ]
  },
  {
   "cell_type": "markdown",
   "metadata": {},
   "source": [
    "### Question 2.2\n",
    "Filter the answers from the previous question so that only artists who have more than 3 albums recorded in the database are listed."
   ]
  },
  {
   "cell_type": "markdown",
   "metadata": {},
   "source": [
    "SELECT Name, count(Title)\n",
    "FROM albums\n",
    "INNER JOIN artists ON artists.ArtistID = albums.ArtistID \n",
    "GROUP BY name HAVING count(Title) > 3"
   ]
  },
  {
   "cell_type": "markdown",
   "metadata": {},
   "source": [
    "### Question 2.3\n",
    "List each song together with the number of times it appears in a recorded playlist."
   ]
  },
  {
   "cell_type": "markdown",
   "metadata": {},
   "source": [
    "SELECT name, count(playlistid) \n",
    "FROM tracks \n",
    "NATURAL JOIN playlist_track \n",
    "GROUP BY name"
   ]
  },
  {
   "cell_type": "markdown",
   "metadata": {},
   "source": [
    "### Question 2.4\n",
    "List the songs whose genre is Metal. How many of them are they ?"
   ]
  },
  {
   "cell_type": "markdown",
   "metadata": {},
   "source": [
    "--- To list the songs --- \n",
    "SELECT tracks.name AS songName\n",
    "FROM tracks\n",
    "JOIN genres ON tracks.GenreId = genres.GenreId\n",
    "WHERE genres.name = 'Metal'\n",
    "\n",
    "---To count them ---\n",
    "\n",
    "SELECT COUNT(*) AS metalSongCount\n",
    "FROM tracks\n",
    "JOIN genres ON tracks.GenreId = genres.GenreId\n",
    "WHERE genres.name = 'Metal'\n"
   ]
  },
  {
   "cell_type": "markdown",
   "metadata": {},
   "source": [
    "### Question 2.5\n",
    "How many albums and songs from the \"Philip Glass Ensemble\" are they ? "
   ]
  },
  {
   "cell_type": "markdown",
   "metadata": {},
   "source": [
    " SELECT a.title, count(t.name) FROM albums a, tracks t, artists ar WHERE a.albumid = t.albumid AND ar.artistid = a.artistid AND ar.name = 'Philip Glass Ensemble' GROUP BY a.title; "
   ]
  },
  {
   "cell_type": "markdown",
   "metadata": {},
   "source": [
    "### Question 2.6\n",
    "Which artist plays the longest song of the database ?"
   ]
  },
  {
   "cell_type": "markdown",
   "metadata": {},
   "source": [
    "SELECT a.name FROM artists a, albums al, tracks t WHERE a.artistid = al.artistid AND al.albumid = t.albumid AND t.milliseconds >= (SELECT MAX(milliseconds) FROM tracks);"
   ]
  },
  {
   "cell_type": "markdown",
   "metadata": {},
   "source": [
    "### Question 2.7\n",
    "Can you add new songs to the database ? What pieces of information are needed ? In what order do you add those ?"
   ]
  },
  {
   "cell_type": "markdown",
   "metadata": {},
   "source": [
    "To add new songs to the database, one first need to add new artists (authors of the song), to relate this artist to a new album (containing the song) and only then the new song can be added."
   ]
  },
  {
   "cell_type": "markdown",
   "metadata": {},
   "source": [
    "### Question 2.8\n",
    "Are they genres for which there is no single song registered ?"
   ]
  },
  {
   "cell_type": "markdown",
   "metadata": {},
   "source": [
    "SELECT g.name FROM genres g WHERE NOT EXISTS (SELECT t.genreid from tracks t WHERE t.genreid = g.genreid);\n",
    "\n",
    "or alternatively\n",
    "\n",
    "SELECT g.name FROM genres g WHERE g.genreid NOT IN (SELECT t.genreid FROM tracks t);"
   ]
  },
  {
   "cell_type": "markdown",
   "metadata": {},
   "source": [
    "## Exercise 3 : to go further (to practice at home)\n",
    "Here are some additional questions for you to go further with SQL :\n",
    "\n",
    "\n",
    "3.1    Provide a query showing Customers (just their full names, customer ID and country) who are not in the US.\n",
    "\n",
    "3.2    Provide a query only showing the Customers from Brazil.\n",
    "\n",
    "3.3    Provide a query showing the Invoices of customers who are from Brazil. The resultant table should show the customer’s full name, Invoice ID, Date of the invoice and billing country.\n",
    "\n",
    "3.4    Provide a query showing only the Employees who are Sales Agents.\n",
    "\n",
    "3.5    Provide a query showing a unique list of billing countries from the Invoice table.\n",
    "\n",
    "3.6    Provide a query showing the invoices of customers who are from Brazil.\n",
    "\n",
    "3.7    Provide a query that shows the invoices associated with each sales agent. The resultant table should include the Sales Agent’s full name.\n",
    "\n",
    "3.8    Provide a query that shows the Invoice Total, Customer name, Country and Sale Agent name for all invoices and customers.\n",
    "\n",
    "3.9    How many Invoices were there in 2009 and 2011 ? What are the respective total sales for each of those years ?\n",
    "\n",
    "3.10    Looking at the InvoiceLine table, provide a query that COUNTs the number of line items for Invoice ID 37.\n",
    "\n",
    "3.11    Looking at the InvoiceLine table, provide a query that COUNTs the number of line items for each Invoice. HINT : GROUP BY\n",
    "\n",
    "3.12    Provide a query that includes the track name with each invoice line item.\n",
    "\n",
    "3.13    Provide a query that includes the purchased track name AND artist name with each invoice line item.\n",
    "\n",
    "3.14    Provide a query that shows the number of invoices per country. HINT : GROUP BY\n",
    "\n",
    "3.15    Provide a query that shows the total number of tracks in each playlist. The Playlist name should be include on the resultant table.\n",
    "\n",
    "3.16    Provide a query that shows all the Tracks, but displays no IDs. The resultant table should include the Album name, Media type and Genre.\n",
    "\n",
    "3.17    Provide a query that shows all Invoices but includes the number of invoice line items.\n",
    "\n",
    "3.18    Provide a query that shows total sales made by each sales agent.\n",
    "\n",
    "3.19    Which sales agent made the most in sales in 2009 ?\n",
    "\n",
    "3.20    Which sales agent made the most in sales in 2010 ?\n",
    "\n",
    "3.21    Which sales agent made the most in sales over all ?\n",
    "\n",
    "3.22    Provide a query that shows the number of customers assigned to each sales agent.\n",
    "\n",
    "3.23    Provide a query that shows the total sales per country. Which country’s customers spent the most ?\n",
    "\n",
    "3.24    Provide a query that shows the most purchased track of 2013.\n",
    "\n",
    "3.25    Provide a query that shows the top 5 most purchased tracks over all.\n",
    "\n",
    "3.26    Provide a query that shows the top 3 best selling artists.\n"
   ]
  },
  {
   "cell_type": "code",
   "execution_count": null,
   "metadata": {},
   "outputs": [],
   "source": []
  }
 ],
 "metadata": {
  "kernelspec": {
   "display_name": "Python 3 (ipykernel)",
   "language": "python",
   "name": "python3"
  },
  "language_info": {
   "codemirror_mode": {
    "name": "ipython",
    "version": 3
   },
   "file_extension": ".py",
   "mimetype": "text/x-python",
   "name": "python",
   "nbconvert_exporter": "python",
   "pygments_lexer": "ipython3",
   "version": "3.8.10"
  }
 },
 "nbformat": 4,
 "nbformat_minor": 2
}
